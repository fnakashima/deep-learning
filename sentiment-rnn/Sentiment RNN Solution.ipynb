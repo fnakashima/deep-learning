{
 "cells": [
  {
   "cell_type": "markdown",
   "metadata": {
    "deletable": true,
    "editable": true
   },
   "source": [
    "# Sentiment Analysis with an RNN\n",
    "\n",
    "In this notebook, you'll implement a recurrent neural network that performs sentiment analysis. Using an RNN rather than a feedfoward network is more accurate since we can include information about the *sequence* of words. Here we'll use a dataset of movie reviews, accompanied by labels.\n",
    "\n",
    "The architecture for this network is shown below.\n",
    "\n",
    "<img src=\"assets/network_diagram.png\" width=400px>\n",
    "\n",
    "Here, we'll pass in words to an embedding layer. We need an embedding layer because we have tens of thousands of words, so we'll need a more efficient representation for our input data than one-hot encoded vectors. You should have seen this before from the word2vec lesson. You can actually train up an embedding with word2vec and use it here. But it's good enough to just have an embedding layer and let the network learn the embedding table on it's own.\n",
    "\n",
    "From the embedding layer, the new representations will be passed to LSTM cells. These will add recurrent connections to the network so we can include information about the sequence of words in the data. Finally, the LSTM cells will go to a sigmoid output layer here. We're using the sigmoid because we're trying to predict if this text has positive or negative sentiment. The output layer will just be a single unit then, with a sigmoid activation function.\n",
    "\n",
    "We don't care about the sigmoid outputs except for the very last one, we can ignore the rest. We'll calculate the cost from the output of the last step and the training label."
   ]
  },
  {
   "cell_type": "code",
   "execution_count": 13,
   "metadata": {
    "collapsed": true,
    "deletable": true,
    "editable": true
   },
   "outputs": [],
   "source": [
    "import numpy as np\n",
    "import tensorflow as tf"
   ]
  },
  {
   "cell_type": "code",
   "execution_count": 14,
   "metadata": {
    "collapsed": false,
    "deletable": true,
    "editable": true
   },
   "outputs": [],
   "source": [
    "with open('../sentiment_network/reviews.txt', 'r') as f:\n",
    "    reviews = f.read()\n",
    "with open('../sentiment_network/labels.txt', 'r') as f:\n",
    "    labels = f.read()"
   ]
  },
  {
   "cell_type": "code",
   "execution_count": 15,
   "metadata": {
    "collapsed": false,
    "deletable": true,
    "editable": true
   },
   "outputs": [
    {
     "data": {
      "text/plain": [
       "'bromwell high is a cartoon comedy . it ran at the same time as some other programs about school life  such as  teachers  . my   years in the teaching profession lead me to believe that bromwell high  s satire is much closer to reality than is  teachers  . the scramble to survive financially  the insightful students who can see right through their pathetic teachers  pomp  the pettiness of the whole situation  all remind me of the schools i knew and their students . when i saw the episode in which a student repeatedly tried to burn down the school  i immediately recalled . . . . . . . . . at . . . . . . . . . . high . a classic line inspector i  m here to sack one of your teachers . student welcome to bromwell high . i expect that many adults of my age think that bromwell high is far fetched . what a pity that it isn  t   \\nstory of a man who has unnatural feelings for a pig . starts out with a opening scene that is a terrific example of absurd comedy . a formal orchestra audience is turned into an insane  violent mob by the crazy chantings of it  s singers . unfortunately it stays absurd the whole time with no general narrative eventually making it just too off putting . even those from the era should be turned off . the cryptic dialogue would make shakespeare seem easy to a third grader . on a technical level it  s better than you might think with some good cinematography by future great vilmos zsigmond . future stars sally kirkland and frederic forrest can be seen briefly .  \\nhomelessness  or houselessness as george carlin stated  has been an issue for years but never a plan to help those on the street that were once considered human who did everything from going to school  work  or vote for the matter . most people think of the homeless as just a lost cause while worrying about things such as racism  the war on iraq  pressuring kids to succeed  technology  the elections  inflation  or worrying if they  ll be next to end up on the streets .  br    br   but what if y'"
      ]
     },
     "execution_count": 15,
     "metadata": {},
     "output_type": "execute_result"
    }
   ],
   "source": [
    "reviews[:2000]"
   ]
  },
  {
   "cell_type": "markdown",
   "metadata": {
    "deletable": true,
    "editable": true
   },
   "source": [
    "## Data preprocessing\n",
    "\n",
    "The first step when building a neural network model is getting your data into the proper form to feed into the network. Since we're using embedding layers, we'll need to encode each word with an integer. We'll also want to clean it up a bit.\n",
    "\n",
    "You can see an example of the reviews data above. We'll want to get rid of those periods. Also, you might notice that the reviews are delimited with newlines `\\n`. To deal with those, I'm going to split the text into each review using `\\n` as the delimiter. Then I can combined all the reviews back together into one big string.\n",
    "\n",
    "First, let's remove all punctuation. Then get all the text without the newlines and split it into individual words."
   ]
  },
  {
   "cell_type": "code",
   "execution_count": 16,
   "metadata": {
    "collapsed": true,
    "deletable": true,
    "editable": true
   },
   "outputs": [],
   "source": [
    "from string import punctuation\n",
    "all_text = ''.join([c for c in reviews if c not in punctuation])\n",
    "reviews = all_text.split('\\n')\n",
    "\n",
    "all_text = ' '.join(reviews)\n",
    "words = all_text.split()"
   ]
  },
  {
   "cell_type": "code",
   "execution_count": 17,
   "metadata": {
    "collapsed": false,
    "deletable": true,
    "editable": true
   },
   "outputs": [
    {
     "data": {
      "text/plain": [
       "'bromwell high is a cartoon comedy  it ran at the same time as some other programs about school life  such as  teachers   my   years in the teaching profession lead me to believe that bromwell high  s satire is much closer to reality than is  teachers   the scramble to survive financially  the insightful students who can see right through their pathetic teachers  pomp  the pettiness of the whole situation  all remind me of the schools i knew and their students  when i saw the episode in which a student repeatedly tried to burn down the school  i immediately recalled          at           high  a classic line inspector i  m here to sack one of your teachers  student welcome to bromwell high  i expect that many adults of my age think that bromwell high is far fetched  what a pity that it isn  t    story of a man who has unnatural feelings for a pig  starts out with a opening scene that is a terrific example of absurd comedy  a formal orchestra audience is turned into an insane  violent mob by the crazy chantings of it  s singers  unfortunately it stays absurd the whole time with no general narrative eventually making it just too off putting  even those from the era should be turned off  the cryptic dialogue would make shakespeare seem easy to a third grader  on a technical level it  s better than you might think with some good cinematography by future great vilmos zsigmond  future stars sally kirkland and frederic forrest can be seen briefly    homelessness  or houselessness as george carlin stated  has been an issue for years but never a plan to help those on the street that were once considered human who did everything from going to school  work  or vote for the matter  most people think of the homeless as just a lost cause while worrying about things such as racism  the war on iraq  pressuring kids to succeed  technology  the elections  inflation  or worrying if they  ll be next to end up on the streets   br    br   but what if you were given a bet to live on the st'"
      ]
     },
     "execution_count": 17,
     "metadata": {},
     "output_type": "execute_result"
    }
   ],
   "source": [
    "all_text[:2000]"
   ]
  },
  {
   "cell_type": "code",
   "execution_count": 18,
   "metadata": {
    "collapsed": false,
    "deletable": true,
    "editable": true
   },
   "outputs": [
    {
     "data": {
      "text/plain": [
       "['bromwell',\n",
       " 'high',\n",
       " 'is',\n",
       " 'a',\n",
       " 'cartoon',\n",
       " 'comedy',\n",
       " 'it',\n",
       " 'ran',\n",
       " 'at',\n",
       " 'the',\n",
       " 'same',\n",
       " 'time',\n",
       " 'as',\n",
       " 'some',\n",
       " 'other',\n",
       " 'programs',\n",
       " 'about',\n",
       " 'school',\n",
       " 'life',\n",
       " 'such',\n",
       " 'as',\n",
       " 'teachers',\n",
       " 'my',\n",
       " 'years',\n",
       " 'in',\n",
       " 'the',\n",
       " 'teaching',\n",
       " 'profession',\n",
       " 'lead',\n",
       " 'me',\n",
       " 'to',\n",
       " 'believe',\n",
       " 'that',\n",
       " 'bromwell',\n",
       " 'high',\n",
       " 's',\n",
       " 'satire',\n",
       " 'is',\n",
       " 'much',\n",
       " 'closer',\n",
       " 'to',\n",
       " 'reality',\n",
       " 'than',\n",
       " 'is',\n",
       " 'teachers',\n",
       " 'the',\n",
       " 'scramble',\n",
       " 'to',\n",
       " 'survive',\n",
       " 'financially',\n",
       " 'the',\n",
       " 'insightful',\n",
       " 'students',\n",
       " 'who',\n",
       " 'can',\n",
       " 'see',\n",
       " 'right',\n",
       " 'through',\n",
       " 'their',\n",
       " 'pathetic',\n",
       " 'teachers',\n",
       " 'pomp',\n",
       " 'the',\n",
       " 'pettiness',\n",
       " 'of',\n",
       " 'the',\n",
       " 'whole',\n",
       " 'situation',\n",
       " 'all',\n",
       " 'remind',\n",
       " 'me',\n",
       " 'of',\n",
       " 'the',\n",
       " 'schools',\n",
       " 'i',\n",
       " 'knew',\n",
       " 'and',\n",
       " 'their',\n",
       " 'students',\n",
       " 'when',\n",
       " 'i',\n",
       " 'saw',\n",
       " 'the',\n",
       " 'episode',\n",
       " 'in',\n",
       " 'which',\n",
       " 'a',\n",
       " 'student',\n",
       " 'repeatedly',\n",
       " 'tried',\n",
       " 'to',\n",
       " 'burn',\n",
       " 'down',\n",
       " 'the',\n",
       " 'school',\n",
       " 'i',\n",
       " 'immediately',\n",
       " 'recalled',\n",
       " 'at',\n",
       " 'high']"
      ]
     },
     "execution_count": 18,
     "metadata": {},
     "output_type": "execute_result"
    }
   ],
   "source": [
    "words[:100]"
   ]
  },
  {
   "cell_type": "markdown",
   "metadata": {
    "deletable": true,
    "editable": true
   },
   "source": [
    "### Encoding the words\n",
    "\n",
    "The embedding lookup requires that we pass in integers to our network. The easiest way to do this is to create dictionaries that map the words in the vocabulary to integers. Then we can convert each of our reviews into integers so they can be passed into the network.\n",
    "\n",
    "> **Exercise:** Now you're going to encode the words with integers. Build a dictionary that maps words to integers. Later we're going to pad our input vectors with zeros, so make sure the integers **start at 1, not 0**.\n",
    "> Also, convert the reviews to integers and store the reviews in a new list called `reviews_ints`. "
   ]
  },
  {
   "cell_type": "code",
   "execution_count": 19,
   "metadata": {
    "collapsed": false,
    "deletable": true,
    "editable": true
   },
   "outputs": [
    {
     "name": "stdout",
     "output_type": "stream",
     "text": [
      "[[22152, 308, 6, 3, 1051, 207, 8, 2143, 32, 1, 171, 57, 15, 49, 81, 5810, 44, 382, 110, 140, 15, 5244, 60, 154, 9, 1, 5004, 5890, 475, 71, 5, 260, 12, 22152, 308, 13, 1979, 6, 74, 2398, 5, 614, 73, 6, 5244, 1, 25237, 5, 1990, 10270, 1, 5840, 1500, 36, 51, 66, 204, 145, 67, 1204, 5244, 20240, 1, 38897, 4, 1, 221, 883, 31, 2991, 71, 4, 1, 5801, 10, 686, 2, 67, 1500, 54, 10, 216, 1, 384, 9, 62, 3, 1406, 3696, 783, 5, 3484, 180, 1, 382, 10, 1214, 13615, 32, 308, 3, 349, 341, 2920, 10, 143, 127, 5, 7811, 30, 4, 129, 5244, 1406, 2332, 5, 22152, 308, 10, 528, 12, 109, 1450, 4, 60, 543, 102, 12, 22152, 308, 6, 227, 4156, 48, 3, 2211, 12, 8, 215, 23], [63, 4, 3, 125, 36, 47, 7501, 1397, 16, 3, 4183, 505, 45, 17, 3, 622, 134, 12, 6, 3, 1280, 457, 4, 1722, 207, 3, 10716, 7449, 300, 6, 667, 83, 35, 2120, 1086, 3005, 34, 1, 899, 62494, 4, 8, 13, 5131, 464, 8, 2659, 1722, 1, 221, 57, 17, 58, 797, 1300, 832, 228, 8, 43, 98, 123, 1470, 59, 147, 38, 1, 963, 142, 29, 667, 123, 1, 13648, 410, 61, 95, 1776, 306, 755, 5, 3, 819, 10561, 22, 3, 1725, 636, 8, 13, 128, 73, 21, 233, 102, 17, 49, 50, 617, 34, 682, 85, 30041, 29961, 682, 374, 3348, 11512, 2, 17003, 8012, 51, 29, 108, 3329], [23383, 42, 66882, 15, 706, 17852, 3402, 47, 77, 35, 1819, 16, 154, 19, 114, 3, 1307, 5, 336, 147, 22, 1, 857, 12, 70, 281, 1171, 399, 36, 120, 283, 38, 169, 5, 382, 158, 42, 2272, 16, 1, 541, 90, 78, 102, 4, 1, 3260, 15, 43, 3, 407, 1069, 136, 8121, 44, 182, 140, 15, 3055, 1, 321, 22, 4844, 28284, 346, 5, 3096, 2095, 1, 19331, 18576, 42, 8121, 46, 33, 236, 29, 370, 5, 130, 56, 22, 1, 1928, 7, 7, 19, 48, 46, 21, 70, 344, 3, 2100, 5, 408, 22, 1, 1928, 16, 3, 3132, 205, 1, 30826, 21, 281, 68, 38, 3, 340, 1, 700, 716, 3, 3834, 1232, 22, 1, 1491, 3, 1197, 2, 283, 21, 281, 2441, 5, 66, 48, 8, 13, 39, 5, 29, 3260, 12, 6, 21150, 11742, 13, 2021, 7, 7, 3707, 2821, 36, 4171, 36, 374, 15, 11742, 296, 3, 996, 125, 36, 47, 283, 9, 1, 176, 363, 6920, 5, 95, 3, 2100, 17, 3, 5005, 2944, 14578, 19948, 5, 66, 46, 25, 51, 408, 9, 1, 1928, 16, 3241, 490, 205, 1, 30826, 46, 11742, 2845, 25, 51, 80, 48, 25, 483, 17, 3, 682, 1150, 4, 228, 52, 4501, 1, 2100, 13, 22, 118, 11742, 6, 1347, 22, 1, 857, 17, 3, 19393, 22, 27, 3881, 5, 10317, 27, 175, 829, 118, 25, 51, 23, 1457, 123, 1, 6500, 25, 13, 344, 1, 13707, 31466, 34, 3, 35863, 101, 8, 13, 391, 22, 27, 11994, 118, 11742, 874, 81, 103, 577, 3, 240, 34, 1, 393, 4, 4691, 16706, 1816, 3764, 35, 1200, 3106, 36, 188, 4051, 160, 2289, 41, 340, 2, 41, 8868, 6864, 1987, 4350, 2, 31120, 8849, 2458, 36, 26, 453, 338, 5, 1, 1928, 33, 155, 4241, 11742, 215, 23, 25, 13, 24, 338, 5, 4456, 5904, 29361, 39, 25, 281, 120, 54, 111, 996, 118, 8, 13, 534, 42, 2722, 501, 42, 29, 547, 7, 7, 136, 1, 115, 2005, 198, 4691, 2, 11742, 285, 23, 1646, 5, 112, 10, 254, 110, 4354, 5, 29, 30, 4, 3707, 2821, 15889, 107, 118, 2535, 5, 111, 3, 207, 8, 286, 3, 4252, 488, 1060, 5, 27, 2733, 158, 140, 15, 7539, 11497, 184, 4539, 42, 19669, 16, 1, 541, 5, 121, 48, 8, 13, 39, 255, 141, 4527, 160, 2289, 8, 1, 370, 245, 42, 22, 1, 81, 495, 228, 3, 372, 2100, 39, 31, 996, 78, 80, 54, 33, 89, 23, 122, 48, 5, 80, 17, 67, 273, 277, 33, 142, 201, 8, 5, 1, 3260, 303, 4, 757, 8, 39, 17816, 273, 7, 7, 42, 277, 11, 20, 79, 5858, 21, 5, 336, 401], [4511, 505, 15, 3, 3354, 162, 8459, 1653, 6, 4822, 56, 17, 4527, 5655, 140, 11954, 5, 996, 4946, 2946, 4503, 566, 1199, 36, 6, 1520, 96, 3, 744, 4, 27509, 13, 5, 27, 3465, 9, 10658, 4, 8, 111, 3018, 5, 1, 1028, 15, 3, 4410, 82, 22, 2049, 6, 4503, 538, 2773, 7144, 42756, 41, 463, 1, 8459, 58771, 302, 123, 15, 4231, 19, 1668, 923, 1, 1653, 6, 6188, 20259, 34, 1, 980, 1759, 22489, 646, 25914, 27, 106, 11764, 13, 14285, 15300, 18760, 2458, 466, 21762, 36, 3285, 1, 6448, 1020, 45, 17, 2696, 2499, 33, 1307, 5, 2079, 1, 4527, 11980, 1493, 22, 3, 22271, 1653, 3214, 22, 35, 4335, 1067, 19, 136, 228, 27, 4663, 22489, 217, 1911, 35, 3217, 17491, 9, 1, 4157, 1964, 1113, 4, 1, 1653, 5622, 8, 6590, 83, 1, 1958, 118, 8, 8124, 5, 1, 1303, 204, 3993, 9, 1, 641, 4, 1, 35138, 5883, 17, 923, 9, 342, 6227, 1047, 29008, 9, 255, 15793, 119, 1984, 123, 259, 1, 695, 12059, 16, 1, 4852, 13, 15, 33, 12564, 336, 17, 57, 689, 609, 45, 7, 7, 82, 560, 458, 1, 1056, 271, 31674, 4511, 11, 330, 736, 5, 1, 6783, 557, 1661, 690, 4511, 14, 516, 34, 1435, 9163, 136, 281, 173, 39, 8, 13, 8422, 10, 51, 23, 133, 4511, 6, 100, 428, 4, 1527, 349, 8, 6, 440, 256, 24, 2691, 16, 1, 204, 988, 45, 4, 1, 287, 4511, 107, 10, 28, 108, 37, 227, 10, 165, 419, 11, 30, 1, 117, 43, 8, 47, 60, 1622, 112, 4, 1, 287, 17, 3, 324, 1668, 923, 6188, 36163, 93, 1, 6590, 161, 23, 25, 66, 1, 3217, 17491, 6267, 4, 1, 277, 1, 1155, 70, 264, 5, 1638, 1, 200, 4511, 17, 159, 1044, 1661, 494, 4, 1, 791, 1, 35563, 1116, 19469, 6, 118, 8, 2659, 363, 1, 130, 17, 3, 5250, 6362, 4408, 147, 2600, 983, 343, 46093, 54, 1, 923, 1106, 45, 42, 11097, 15, 1, 25993, 42, 46, 100, 4, 1, 3547, 26, 3018, 8, 13, 3, 531, 322, 12, 97, 28, 91, 16, 3, 85, 116, 1661, 494, 19, 76, 6834, 104, 13, 740, 410, 12129, 265, 1297, 3, 146, 574, 4, 2326, 42, 817, 42, 1055, 800, 11, 6, 3, 1026, 1402, 136, 1, 246, 13018, 112, 920, 30, 2145, 16, 1006, 229, 24, 12, 74, 559, 101, 1, 1653, 8124, 40, 13, 24, 15, 74, 8899, 15, 10, 195, 40, 142, 28, 77, 59, 54, 1, 2918, 409, 562, 182, 89, 23, 1237, 56, 12, 74, 17, 3, 170, 648, 4, 653, 5118, 10628, 1520, 44, 19, 40, 13, 43, 141, 1868, 127, 706, 4016, 15, 1, 46195, 12277, 3455, 865, 46268, 6, 144, 19, 64, 211, 3, 368, 4, 137, 1176, 59, 549, 231, 16647, 5, 43, 167, 3745, 9, 1, 958, 7, 7, 1, 340, 366, 2225, 310, 4, 4511, 506, 229, 136, 1, 178, 242, 2037, 750, 35, 1689, 522, 4, 910, 577, 3, 162, 622, 878, 703, 109, 52, 137, 17, 706, 4016, 15, 46268, 2126, 5, 2080, 45, 104, 13, 1184, 2197, 137, 1, 3767, 42, 159, 368, 4, 339, 2308, 577, 1, 36846, 136, 10, 61, 39, 5, 66, 11, 1689, 910, 10, 239, 24, 249, 10, 97, 848, 145, 3, 734, 287, 522, 584, 4, 4511, 15, 853, 1, 20, 47, 1940, 890, 17, 517, 7934, 7413, 1574, 2801, 10, 79, 133, 58, 52, 81, 73, 1, 2828, 1653, 2118, 298, 696, 23, 85, 343, 364, 17, 1, 81, 106, 4511, 2260, 11, 302, 3088, 4, 269, 9, 1, 10853, 1317, 13, 2283, 4, 881, 256, 10, 51, 102, 4, 760, 4, 429, 107, 73, 11, 37, 10, 11090, 12, 13, 3, 116, 2462, 1, 202, 137, 26, 3, 116, 740, 464, 1, 1042, 6, 539, 24, 74, 2288, 42, 1055, 6, 4860, 62, 6, 3, 881, 15, 10, 11090, 11, 97, 28, 77, 3, 183, 50, 20, 46, 91, 2847, 7, 7, 1, 360, 1205, 26, 2633, 46, 163, 2068, 1, 113, 215, 23, 85, 106, 57, 708, 2192, 669, 3982, 47, 301, 234, 8, 14, 3, 1295, 5, 318, 9, 11, 30, 57, 708, 2192, 566, 1199, 268, 153, 11167, 82, 30, 57, 708, 2192, 743, 1972, 268, 1793, 136, 2648, 1331, 743, 6, 344, 116, 5, 80, 40, 26, 936, 4, 81, 1062, 1562, 5, 167, 45, 16, 98, 7, 7, 4511, 6, 1, 90, 1661, 21708, 4, 1, 287, 4511, 107, 37, 227, 10, 419, 1, 989, 485, 8, 59, 46, 33, 70, 3, 223, 694, 1, 360, 1889, 451, 151, 23, 336, 150, 3, 20, 44, 3, 16111, 1653, 43, 1587, 23, 29, 11, 354, 42, 12129, 1456, 34, 1, 23676, 4511], [520, 119, 113, 34, 16706, 1816, 3764, 117, 885, 22119, 721, 10, 28, 124, 108, 2, 115, 137, 9, 1623, 7795, 26, 330, 5, 589, 1, 6134, 22, 386, 6, 3, 349, 15, 50, 15, 231, 9, 7539, 11497, 1, 191, 22, 9083, 6, 82, 879, 101, 111, 3592, 4, 111, 3, 29232, 3459, 45, 27, 1325, 2, 111, 12708, 1, 2371, 4, 31466, 11742, 25224, 36397, 10, 143, 3, 2371, 25, 549, 287, 164, 697, 4041, 19948, 3, 502, 38, 1, 299, 2642, 6531, 121, 6, 759, 127, 98, 15, 3, 1136, 5130, 36, 483, 5, 4210, 1, 6654, 27, 104, 6, 52, 10416, 73, 632, 1, 1518, 134, 2, 1, 134, 118, 1, 3260, 17660, 3, 14512, 2104, 26, 31, 57, 2179, 167, 16, 1, 2953, 134, 2, 1, 106, 192, 16083, 975, 30, 24438, 11, 18, 211, 128, 253, 57, 10, 66, 8, 62, 6, 179, 396]]\n"
     ]
    }
   ],
   "source": [
    "from collections import Counter\n",
    "counts = Counter(words)\n",
    "vocab = sorted(counts, key=counts.get, reverse=True)\n",
    "vocab_to_int = {word: ii for ii, word in enumerate(vocab, 1)}\n",
    "\n",
    "reviews_ints = []\n",
    "for each in reviews:\n",
    "    reviews_ints.append([vocab_to_int[word] for word in each.split()])\n",
    "\n",
    "print(reviews_ints[:5])"
   ]
  },
  {
   "cell_type": "markdown",
   "metadata": {
    "collapsed": false,
    "deletable": true,
    "editable": true
   },
   "source": [
    "### Encoding the labels\n",
    "\n",
    "Our labels are \"positive\" or \"negative\". To use these labels in our network, we need to convert them to 0 and 1.\n",
    "\n",
    "> **Exercise:** Convert labels from `positive` and `negative` to 1 and 0, respectively."
   ]
  },
  {
   "cell_type": "code",
   "execution_count": 20,
   "metadata": {
    "collapsed": false,
    "deletable": true,
    "editable": true
   },
   "outputs": [],
   "source": [
    "labels = labels.split('\\n')\n",
    "labels = np.array([1 if each == 'positive' else 0 for each in labels])"
   ]
  },
  {
   "cell_type": "code",
   "execution_count": 21,
   "metadata": {
    "collapsed": false,
    "deletable": true,
    "editable": true
   },
   "outputs": [
    {
     "name": "stdout",
     "output_type": "stream",
     "text": [
      "Zero-length reviews: 1\n",
      "Maximum review length: 2514\n"
     ]
    }
   ],
   "source": [
    "review_lens = Counter([len(x) for x in reviews_ints])\n",
    "print(\"Zero-length reviews: {}\".format(review_lens[0]))\n",
    "print(\"Maximum review length: {}\".format(max(review_lens)))"
   ]
  },
  {
   "cell_type": "markdown",
   "metadata": {
    "deletable": true,
    "editable": true
   },
   "source": [
    "Okay, a couple issues here. We seem to have one review with zero length. And, the maximum review length is way too many steps for our RNN. Let's truncate to 200 steps. For reviews shorter than 200, we'll pad with 0s. For reviews longer than 200, we can truncate them to the first 200 characters.\n",
    "\n",
    "> **Exercise:** First, remove the review with zero length from the `reviews_ints` list."
   ]
  },
  {
   "cell_type": "code",
   "execution_count": 22,
   "metadata": {
    "collapsed": false,
    "deletable": true,
    "editable": true
   },
   "outputs": [
    {
     "name": "stdout",
     "output_type": "stream",
     "text": [
      "[[22152, 308, 6, 3, 1051, 207, 8, 2143, 32, 1, 171, 57, 15, 49, 81, 5810, 44, 382, 110, 140, 15, 5244, 60, 154, 9, 1, 5004, 5890, 475, 71, 5, 260, 12, 22152, 308, 13, 1979, 6, 74, 2398, 5, 614, 73, 6, 5244, 1, 25237, 5, 1990, 10270, 1, 5840, 1500, 36, 51, 66, 204, 145, 67, 1204, 5244, 20240, 1, 38897, 4, 1, 221, 883, 31, 2991, 71, 4, 1, 5801, 10, 686, 2, 67, 1500, 54, 10, 216, 1, 384, 9, 62, 3, 1406, 3696, 783, 5, 3484, 180, 1, 382, 10, 1214, 13615, 32, 308, 3, 349, 341, 2920, 10, 143, 127, 5, 7811, 30, 4, 129, 5244, 1406, 2332, 5, 22152, 308, 10, 528, 12, 109, 1450, 4, 60, 543, 102, 12, 22152, 308, 6, 227, 4156, 48, 3, 2211, 12, 8, 215, 23], [63, 4, 3, 125, 36, 47, 7501, 1397, 16, 3, 4183, 505, 45, 17, 3, 622, 134, 12, 6, 3, 1280, 457, 4, 1722, 207, 3, 10716, 7449, 300, 6, 667, 83, 35, 2120, 1086, 3005, 34, 1, 899, 62494, 4, 8, 13, 5131, 464, 8, 2659, 1722, 1, 221, 57, 17, 58, 797, 1300, 832, 228, 8, 43, 98, 123, 1470, 59, 147, 38, 1, 963, 142, 29, 667, 123, 1, 13648, 410, 61, 95, 1776, 306, 755, 5, 3, 819, 10561, 22, 3, 1725, 636, 8, 13, 128, 73, 21, 233, 102, 17, 49, 50, 617, 34, 682, 85, 30041, 29961, 682, 374, 3348, 11512, 2, 17003, 8012, 51, 29, 108, 3329], [23383, 42, 66882, 15, 706, 17852, 3402, 47, 77, 35, 1819, 16, 154, 19, 114, 3, 1307, 5, 336, 147, 22, 1, 857, 12, 70, 281, 1171, 399, 36, 120, 283, 38, 169, 5, 382, 158, 42, 2272, 16, 1, 541, 90, 78, 102, 4, 1, 3260, 15, 43, 3, 407, 1069, 136, 8121, 44, 182, 140, 15, 3055, 1, 321, 22, 4844, 28284, 346, 5, 3096, 2095, 1, 19331, 18576, 42, 8121, 46, 33, 236, 29, 370, 5, 130, 56, 22, 1, 1928, 7, 7, 19, 48, 46, 21, 70, 344, 3, 2100, 5, 408, 22, 1, 1928, 16, 3, 3132, 205, 1, 30826, 21, 281, 68, 38, 3, 340, 1, 700, 716, 3, 3834, 1232, 22, 1, 1491, 3, 1197, 2, 283, 21, 281, 2441, 5, 66, 48, 8, 13, 39, 5, 29, 3260, 12, 6, 21150, 11742, 13, 2021, 7, 7, 3707, 2821, 36, 4171, 36, 374, 15, 11742, 296, 3, 996, 125, 36, 47, 283, 9, 1, 176, 363, 6920, 5, 95, 3, 2100, 17, 3, 5005, 2944, 14578, 19948, 5, 66, 46, 25, 51, 408, 9, 1, 1928, 16, 3241, 490, 205, 1, 30826, 46, 11742, 2845, 25, 51, 80, 48, 25, 483, 17, 3, 682, 1150, 4, 228, 52, 4501, 1, 2100, 13, 22, 118, 11742, 6, 1347, 22, 1, 857, 17, 3, 19393, 22, 27, 3881, 5, 10317, 27, 175, 829, 118, 25, 51, 23, 1457, 123, 1, 6500, 25, 13, 344, 1, 13707, 31466, 34, 3, 35863, 101, 8, 13, 391, 22, 27, 11994, 118, 11742, 874, 81, 103, 577, 3, 240, 34, 1, 393, 4, 4691, 16706, 1816, 3764, 35, 1200, 3106, 36, 188, 4051, 160, 2289, 41, 340, 2, 41, 8868, 6864, 1987, 4350, 2, 31120, 8849, 2458, 36, 26, 453, 338, 5, 1, 1928, 33, 155, 4241, 11742, 215, 23, 25, 13, 24, 338, 5, 4456, 5904, 29361, 39, 25, 281, 120, 54, 111, 996, 118, 8, 13, 534, 42, 2722, 501, 42, 29, 547, 7, 7, 136, 1, 115, 2005, 198, 4691, 2, 11742, 285, 23, 1646, 5, 112, 10, 254, 110, 4354, 5, 29, 30, 4, 3707, 2821, 15889, 107, 118, 2535, 5, 111, 3, 207, 8, 286, 3, 4252, 488, 1060, 5, 27, 2733, 158, 140, 15, 7539, 11497, 184, 4539, 42, 19669, 16, 1, 541, 5, 121, 48, 8, 13, 39, 255, 141, 4527, 160, 2289, 8, 1, 370, 245, 42, 22, 1, 81, 495, 228, 3, 372, 2100, 39, 31, 996, 78, 80, 54, 33, 89, 23, 122, 48, 5, 80, 17, 67, 273, 277, 33, 142, 201, 8, 5, 1, 3260, 303, 4, 757, 8, 39, 17816, 273, 7, 7, 42, 277, 11, 20, 79, 5858, 21, 5, 336, 401], [4511, 505, 15, 3, 3354, 162, 8459, 1653, 6, 4822, 56, 17, 4527, 5655, 140, 11954, 5, 996, 4946, 2946, 4503, 566, 1199, 36, 6, 1520, 96, 3, 744, 4, 27509, 13, 5, 27, 3465, 9, 10658, 4, 8, 111, 3018, 5, 1, 1028, 15, 3, 4410, 82, 22, 2049, 6, 4503, 538, 2773, 7144, 42756, 41, 463, 1, 8459, 58771, 302, 123, 15, 4231, 19, 1668, 923, 1, 1653, 6, 6188, 20259, 34, 1, 980, 1759, 22489, 646, 25914, 27, 106, 11764, 13, 14285, 15300, 18760, 2458, 466, 21762, 36, 3285, 1, 6448, 1020, 45, 17, 2696, 2499, 33, 1307, 5, 2079, 1, 4527, 11980, 1493, 22, 3, 22271, 1653, 3214, 22, 35, 4335, 1067, 19, 136, 228, 27, 4663, 22489, 217, 1911, 35, 3217, 17491, 9, 1, 4157, 1964, 1113, 4, 1, 1653, 5622, 8, 6590, 83, 1, 1958, 118, 8, 8124, 5, 1, 1303, 204, 3993, 9, 1, 641, 4, 1, 35138, 5883, 17, 923, 9, 342, 6227, 1047, 29008, 9, 255, 15793, 119, 1984, 123, 259, 1, 695, 12059, 16, 1, 4852, 13, 15, 33, 12564, 336, 17, 57, 689, 609, 45, 7, 7, 82, 560, 458, 1, 1056, 271, 31674, 4511, 11, 330, 736, 5, 1, 6783, 557, 1661, 690, 4511, 14, 516, 34, 1435, 9163, 136, 281, 173, 39, 8, 13, 8422, 10, 51, 23, 133, 4511, 6, 100, 428, 4, 1527, 349, 8, 6, 440, 256, 24, 2691, 16, 1, 204, 988, 45, 4, 1, 287, 4511, 107, 10, 28, 108, 37, 227, 10, 165, 419, 11, 30, 1, 117, 43, 8, 47, 60, 1622, 112, 4, 1, 287, 17, 3, 324, 1668, 923, 6188, 36163, 93, 1, 6590, 161, 23, 25, 66, 1, 3217, 17491, 6267, 4, 1, 277, 1, 1155, 70, 264, 5, 1638, 1, 200, 4511, 17, 159, 1044, 1661, 494, 4, 1, 791, 1, 35563, 1116, 19469, 6, 118, 8, 2659, 363, 1, 130, 17, 3, 5250, 6362, 4408, 147, 2600, 983, 343, 46093, 54, 1, 923, 1106, 45, 42, 11097, 15, 1, 25993, 42, 46, 100, 4, 1, 3547, 26, 3018, 8, 13, 3, 531, 322, 12, 97, 28, 91, 16, 3, 85, 116, 1661, 494, 19, 76, 6834, 104, 13, 740, 410, 12129, 265, 1297, 3, 146, 574, 4, 2326, 42, 817, 42, 1055, 800, 11, 6, 3, 1026, 1402, 136, 1, 246, 13018, 112, 920, 30, 2145, 16, 1006, 229, 24, 12, 74, 559, 101, 1, 1653, 8124, 40, 13, 24, 15, 74, 8899, 15, 10, 195, 40, 142, 28, 77, 59, 54, 1, 2918, 409, 562, 182, 89, 23, 1237, 56, 12, 74, 17, 3, 170, 648, 4, 653, 5118, 10628, 1520, 44, 19, 40, 13, 43, 141, 1868, 127, 706, 4016, 15, 1, 46195, 12277, 3455, 865, 46268, 6, 144, 19, 64, 211, 3, 368, 4, 137, 1176, 59, 549, 231, 16647, 5, 43, 167, 3745, 9, 1, 958, 7, 7, 1, 340, 366, 2225, 310, 4, 4511, 506, 229, 136, 1, 178, 242, 2037, 750, 35, 1689, 522, 4, 910, 577, 3, 162, 622, 878, 703, 109, 52, 137, 17, 706, 4016, 15, 46268, 2126, 5, 2080, 45, 104, 13, 1184, 2197, 137, 1, 3767, 42, 159, 368, 4, 339, 2308, 577, 1, 36846, 136, 10, 61, 39, 5, 66, 11, 1689, 910, 10, 239, 24, 249, 10, 97, 848, 145, 3, 734, 287, 522, 584, 4, 4511, 15, 853, 1, 20, 47, 1940, 890, 17, 517, 7934, 7413, 1574, 2801, 10, 79, 133, 58, 52, 81, 73, 1, 2828, 1653, 2118, 298, 696, 23, 85, 343, 364, 17, 1, 81, 106, 4511, 2260, 11, 302, 3088, 4, 269, 9, 1, 10853, 1317, 13, 2283, 4, 881, 256, 10, 51, 102, 4, 760, 4, 429, 107, 73, 11, 37, 10, 11090, 12, 13, 3, 116, 2462, 1, 202, 137, 26, 3, 116, 740, 464, 1, 1042, 6, 539, 24, 74, 2288, 42, 1055, 6, 4860, 62, 6, 3, 881, 15, 10, 11090, 11, 97, 28, 77, 3, 183, 50, 20, 46, 91, 2847, 7, 7, 1, 360, 1205, 26, 2633, 46, 163, 2068, 1, 113, 215, 23, 85, 106, 57, 708, 2192, 669, 3982, 47, 301, 234, 8, 14, 3, 1295, 5, 318, 9, 11, 30, 57, 708, 2192, 566, 1199, 268, 153, 11167, 82, 30, 57, 708, 2192, 743, 1972, 268, 1793, 136, 2648, 1331, 743, 6, 344, 116, 5, 80, 40, 26, 936, 4, 81, 1062, 1562, 5, 167, 45, 16, 98, 7, 7, 4511, 6, 1, 90, 1661, 21708, 4, 1, 287, 4511, 107, 37, 227, 10, 419, 1, 989, 485, 8, 59, 46, 33, 70, 3, 223, 694, 1, 360, 1889, 451, 151, 23, 336, 150, 3, 20, 44, 3, 16111, 1653, 43, 1587, 23, 29, 11, 354, 42, 12129, 1456, 34, 1, 23676, 4511], [520, 119, 113, 34, 16706, 1816, 3764, 117, 885, 22119, 721, 10, 28, 124, 108, 2, 115, 137, 9, 1623, 7795, 26, 330, 5, 589, 1, 6134, 22, 386, 6, 3, 349, 15, 50, 15, 231, 9, 7539, 11497, 1, 191, 22, 9083, 6, 82, 879, 101, 111, 3592, 4, 111, 3, 29232, 3459, 45, 27, 1325, 2, 111, 12708, 1, 2371, 4, 31466, 11742, 25224, 36397, 10, 143, 3, 2371, 25, 549, 287, 164, 697, 4041, 19948, 3, 502, 38, 1, 299, 2642, 6531, 121, 6, 759, 127, 98, 15, 3, 1136, 5130, 36, 483, 5, 4210, 1, 6654, 27, 104, 6, 52, 10416, 73, 632, 1, 1518, 134, 2, 1, 134, 118, 1, 3260, 17660, 3, 14512, 2104, 26, 31, 57, 2179, 167, 16, 1, 2953, 134, 2, 1, 106, 192, 16083, 975, 30, 24438, 11, 18, 211, 128, 253, 57, 10, 66, 8, 62, 6, 179, 396]]\n"
     ]
    }
   ],
   "source": [
    "# Filter out that review with 0 length\n",
    "reviews_ints = [each for each in reviews_ints if len(each) > 0]\n",
    "print(reviews_ints[:5])"
   ]
  },
  {
   "cell_type": "markdown",
   "metadata": {
    "deletable": true,
    "editable": true
   },
   "source": [
    "> **Exercise:** Now, create an array `features` that contains the data we'll pass to the network. The data should come from `review_ints`, since we want to feed integers to the network. Each row should be 200 elements long. For reviews shorter than 200 words, left pad with 0s. That is, if the review is `['best', 'movie', 'ever']`, `[117, 18, 128]` as integers, the row will look like `[0, 0, 0, ..., 0, 117, 18, 128]`. For reviews longer than 200, use on the first 200 words as the feature vector.\n",
    "\n",
    "This isn't trivial and there are a bunch of ways to do this. But, if you're going to be building your own deep learning networks, you're going to have to get used to preparing your data.\n",
    "\n"
   ]
  },
  {
   "cell_type": "code",
   "execution_count": 23,
   "metadata": {
    "collapsed": false,
    "deletable": true,
    "editable": true
   },
   "outputs": [],
   "source": [
    "seq_len = 200\n",
    "features = np.zeros((len(reviews), seq_len), dtype=int)\n",
    "for i, row in enumerate(reviews_ints):\n",
    "    features[i, -len(row):] = np.array(row)[:seq_len]"
   ]
  },
  {
   "cell_type": "code",
   "execution_count": 24,
   "metadata": {
    "collapsed": false,
    "deletable": true,
    "editable": true
   },
   "outputs": [
    {
     "data": {
      "text/plain": [
       "array([[    0,     0,     0,     0,     0,     0,     0,     0,     0,\n",
       "            0,     0,     0,     0,     0,     0,     0,     0,     0,\n",
       "            0,     0,     0,     0,     0,     0,     0,     0,     0,\n",
       "            0,     0,     0,     0,     0,     0,     0,     0,     0,\n",
       "            0,     0,     0,     0,     0,     0,     0,     0,     0,\n",
       "            0,     0,     0,     0,     0,     0,     0,     0,     0,\n",
       "            0,     0,     0,     0,     0,     0, 22152,   308,     6,\n",
       "            3,  1051,   207,     8,  2143,    32,     1,   171,    57,\n",
       "           15,    49,    81,  5810,    44,   382,   110,   140,    15,\n",
       "         5244,    60,   154,     9,     1,  5004,  5890,   475,    71,\n",
       "            5,   260,    12, 22152,   308,    13,  1979,     6,    74,\n",
       "         2398],\n",
       "       [    0,     0,     0,     0,     0,     0,     0,     0,     0,\n",
       "            0,     0,     0,     0,     0,     0,     0,     0,     0,\n",
       "            0,     0,     0,     0,     0,     0,     0,     0,     0,\n",
       "            0,     0,     0,     0,     0,     0,     0,     0,     0,\n",
       "            0,     0,     0,     0,     0,     0,     0,     0,     0,\n",
       "            0,     0,     0,     0,     0,     0,     0,     0,     0,\n",
       "            0,     0,     0,     0,     0,     0,     0,     0,     0,\n",
       "            0,     0,     0,     0,     0,     0,     0,     0,     0,\n",
       "            0,     0,     0,     0,     0,     0,     0,     0,     0,\n",
       "            0,     0,     0,     0,     0,    63,     4,     3,   125,\n",
       "           36,    47,  7501,  1397,    16,     3,  4183,   505,    45,\n",
       "           17],\n",
       "       [23383,    42, 66882,    15,   706, 17852,  3402,    47,    77,\n",
       "           35,  1819,    16,   154,    19,   114,     3,  1307,     5,\n",
       "          336,   147,    22,     1,   857,    12,    70,   281,  1171,\n",
       "          399,    36,   120,   283,    38,   169,     5,   382,   158,\n",
       "           42,  2272,    16,     1,   541,    90,    78,   102,     4,\n",
       "            1,  3260,    15,    43,     3,   407,  1069,   136,  8121,\n",
       "           44,   182,   140,    15,  3055,     1,   321,    22,  4844,\n",
       "        28284,   346,     5,  3096,  2095,     1, 19331, 18576,    42,\n",
       "         8121,    46,    33,   236,    29,   370,     5,   130,    56,\n",
       "           22,     1,  1928,     7,     7,    19,    48,    46,    21,\n",
       "           70,   344,     3,  2100,     5,   408,    22,     1,  1928,\n",
       "           16],\n",
       "       [ 4511,   505,    15,     3,  3354,   162,  8459,  1653,     6,\n",
       "         4822,    56,    17,  4527,  5655,   140, 11954,     5,   996,\n",
       "         4946,  2946,  4503,   566,  1199,    36,     6,  1520,    96,\n",
       "            3,   744,     4, 27509,    13,     5,    27,  3465,     9,\n",
       "        10658,     4,     8,   111,  3018,     5,     1,  1028,    15,\n",
       "            3,  4410,    82,    22,  2049,     6,  4503,   538,  2773,\n",
       "         7144, 42756,    41,   463,     1,  8459, 58771,   302,   123,\n",
       "           15,  4231,    19,  1668,   923,     1,  1653,     6,  6188,\n",
       "        20259,    34,     1,   980,  1759, 22489,   646, 25914,    27,\n",
       "          106, 11764,    13, 14285, 15300, 18760,  2458,   466, 21762,\n",
       "           36,  3285,     1,  6448,  1020,    45,    17,  2696,  2499,\n",
       "           33],\n",
       "       [    0,     0,     0,     0,     0,     0,     0,     0,     0,\n",
       "            0,     0,     0,     0,     0,     0,     0,     0,     0,\n",
       "            0,     0,     0,     0,     0,     0,     0,     0,     0,\n",
       "            0,     0,     0,     0,     0,     0,     0,     0,     0,\n",
       "            0,     0,     0,     0,     0,     0,     0,     0,     0,\n",
       "            0,     0,     0,     0,     0,   520,   119,   113,    34,\n",
       "        16706,  1816,  3764,   117,   885, 22119,   721,    10,    28,\n",
       "          124,   108,     2,   115,   137,     9,  1623,  7795,    26,\n",
       "          330,     5,   589,     1,  6134,    22,   386,     6,     3,\n",
       "          349,    15,    50,    15,   231,     9,  7539, 11497,     1,\n",
       "          191,    22,  9083,     6,    82,   879,   101,   111,  3592,\n",
       "            4],\n",
       "       [    0,     0,     0,     0,     0,     0,     0,     0,     0,\n",
       "            0,     0,     0,     0,     0,     0,     0,     0,     0,\n",
       "            0,     0,     0,     0,     0,     0,     0,     0,     0,\n",
       "            0,     0,     0,     0,     0,     0,     0,     0,     0,\n",
       "            0,     0,     0,     0,     0,     0,     0,     0,     0,\n",
       "            0,     0,     0,     0,     0,     0,     0,     0,     0,\n",
       "           11,    20,  3665,   141,    10,   423,    23,   272,    60,\n",
       "         4373,    22,    32,    84,  3295,    22,     1,   172,     4,\n",
       "            1,   952,   507,    11,  4987,  5385,     5,   574,     4,\n",
       "         1154,    54,    53,  5306,     1,   261,    17,    41,   952,\n",
       "          125,    59,     1,   712,   137,   379,   627,    15,   111,\n",
       "         1513],\n",
       "       [    0,     0,     0,     0,     0,     0,     0,     0,     0,\n",
       "            0,     0,     0,     0,     0,     0,     0,     0,     0,\n",
       "            0,     0,     0,     0,     0,     0,     0,     0,     0,\n",
       "            0,     0,     0,     0,     0,     0,     0,     0,     0,\n",
       "            0,     0,     0,     0,     0,     0,     0,     0,     0,\n",
       "            0,     0,     0,     0,     0,     0,     0,     0,     0,\n",
       "            0,     0,     0,     0,     0,     0,     0,     0,     0,\n",
       "            0,     0,     0,     0,     0,     0,     0,     0,     0,\n",
       "            0,     0,     0,     0,    11,     6,   693,     1,    90,\n",
       "         2156,    20, 11979,     1,  2821,  5236,   249,    92,  3010,\n",
       "            8,   126,    24,   201,     3,   802,   634,     4, 23383,\n",
       "         1001],\n",
       "       [    0,     0,     0,     0,     0,     0,     0,     0,     0,\n",
       "            0,     0,     0,     0,     0,     0,     0,     0,     0,\n",
       "            0,     0,     0,     0,     0,     0,     0,     0,     0,\n",
       "            0,     0,     0,     0,     0,     0,     0,     0,     0,\n",
       "            0,     0,     0,     0,     0,     0,     0,     0,     0,\n",
       "            0,     0,   786,   295,    10,   122,    11,     6,   418,\n",
       "            5,    29,    35,   482,    20,    19,  1283,    33,   142,\n",
       "           28,  2665,    45,  1844,    32,     1,  2783,    37,    78,\n",
       "           97,  2435,    67,  3978,    45,     2,    24,   105,   256,\n",
       "            1,   134,  1574,     2, 12738,   451,    14,   319,    11,\n",
       "           63,     6,    98,  1323,     5,   105,     1,  3788,     4,\n",
       "            3],\n",
       "       [    0,     0,     0,     0,     0,     0,     0,     0,     0,\n",
       "            0,     0,     0,     0,     0,     0,     0,     0,     0,\n",
       "            0,     0,     0,     0,     0,     0,     0,     0,     0,\n",
       "            0,     0,     0,     0,     0,     0,     0,     0,     0,\n",
       "            0,     0,     0,     0,     0,     0,     0,     0,     0,\n",
       "            0,     0,     0,     0,     0,     0,     0,     0,     0,\n",
       "            0,     0,     0,     0,     0,     0,     0,     0,     0,\n",
       "            0,     0,     0,     0,     0,     0,     0,     0,     0,\n",
       "            0,     0,     0,     0,     0,     0,     0,    11,     6,\n",
       "           24,     1,   779,  3707,  2821,    20,     8,    14,    74,\n",
       "          325,  2733,    73,    90,     4,    27,    99,     2,   165,\n",
       "           68],\n",
       "       [   54,    10,    14,   116,    60,   798,   552,    71,   364,\n",
       "            5,     1,   730,     5,    66,  8143,     8,    14,    30,\n",
       "            4,   109,    99,    10,   293,    17,    60,   798,    19,\n",
       "           11,    14,     1,    64,    30,    69,  2502,    45,     4,\n",
       "          234,    93,    10,    68,   114,   108,  8143,   363,    43,\n",
       "         1009,     2,    10,    97,    28,  1432,    45,     1,   357,\n",
       "            4,    60,   110,   205,     8,    48,     3,  1929, 10974,\n",
       "            2,  2123,   354,   412,     4,    13,  6697,     2,  2981,\n",
       "         5180,  2132,  1369,     6,    30,     4,    60,   502,   876,\n",
       "           19,  8143,     6,    34,   227,     1,   247,   412,     4,\n",
       "          582,     4,    27,   599,     9,     1, 13917,   397,     4,\n",
       "        14217]])"
      ]
     },
     "execution_count": 24,
     "metadata": {},
     "output_type": "execute_result"
    }
   ],
   "source": [
    "features[:10,:100]"
   ]
  },
  {
   "cell_type": "markdown",
   "metadata": {
    "deletable": true,
    "editable": true
   },
   "source": [
    "## Training, Validation, Test\n",
    "\n"
   ]
  },
  {
   "cell_type": "markdown",
   "metadata": {
    "deletable": true,
    "editable": true
   },
   "source": [
    "With our data in nice shape, we'll split it into training, validation, and test sets.\n",
    "\n",
    "> **Exercise:** Create the training, validation, and test sets here. You'll need to create sets for the features and the labels, `train_x` and `train_y` for example. Define a split fraction, `split_frac` as the fraction of data to keep in the training set. Usually this is set to 0.8 or 0.9. The rest of the data will be split in half to create the validation and testing data."
   ]
  },
  {
   "cell_type": "code",
   "execution_count": 25,
   "metadata": {
    "collapsed": false,
    "deletable": true,
    "editable": true
   },
   "outputs": [
    {
     "name": "stdout",
     "output_type": "stream",
     "text": [
      "\t\t\tFeature Shapes:\n",
      "Train set: \t\t(20000, 200) \n",
      "Validation set: \t(2500, 200) \n",
      "Test set: \t\t(2501, 200)\n"
     ]
    }
   ],
   "source": [
    "split_frac = 0.8\n",
    "split_idx = int(len(features)*0.8)\n",
    "train_x, val_x = features[:split_idx], features[split_idx:]\n",
    "train_y, val_y = labels[:split_idx], labels[split_idx:]\n",
    "\n",
    "test_idx = int(len(val_x)*0.5)\n",
    "val_x, test_x = val_x[:test_idx], val_x[test_idx:]\n",
    "val_y, test_y = val_y[:test_idx], val_y[test_idx:]\n",
    "\n",
    "print(\"\\t\\t\\tFeature Shapes:\")\n",
    "print(\"Train set: \\t\\t{}\".format(train_x.shape), \n",
    "      \"\\nValidation set: \\t{}\".format(val_x.shape),\n",
    "      \"\\nTest set: \\t\\t{}\".format(test_x.shape))"
   ]
  },
  {
   "cell_type": "markdown",
   "metadata": {
    "deletable": true,
    "editable": true
   },
   "source": [
    "With train, validation, and text fractions of 0.8, 0.1, 0.1, the final shapes should look like:\n",
    "```\n",
    "                    Feature Shapes:\n",
    "Train set: \t\t (20000, 200) \n",
    "Validation set: \t(2500, 200) \n",
    "Test set: \t\t  (2501, 200)\n",
    "```"
   ]
  },
  {
   "cell_type": "markdown",
   "metadata": {
    "deletable": true,
    "editable": true
   },
   "source": [
    "## Build the graph\n",
    "\n",
    "Here, we'll build the graph. First up, defining the hyperparameters.\n",
    "\n",
    "* `lstm_size`: Number of units in the hidden layers in the LSTM cells. Usually larger is better performance wise. Common values are 128, 256, 512, etc.\n",
    "* `lstm_layers`: Number of LSTM layers in the network. I'd start with 1, then add more if I'm underfitting.\n",
    "* `batch_size`: The number of reviews to feed the network in one training pass. Typically this should be set as high as you can go without running out of memory.\n",
    "* `learning_rate`: Learning rate"
   ]
  },
  {
   "cell_type": "code",
   "execution_count": 26,
   "metadata": {
    "collapsed": true,
    "deletable": true,
    "editable": true
   },
   "outputs": [],
   "source": [
    "lstm_size = 256\n",
    "lstm_layers = 1\n",
    "batch_size = 500\n",
    "learning_rate = 0.001"
   ]
  },
  {
   "cell_type": "markdown",
   "metadata": {
    "deletable": true,
    "editable": true
   },
   "source": [
    "For the network itself, we'll be passing in our 200 element long review vectors. Each batch will be `batch_size` vectors. We'll also be using dropout on the LSTM layer, so we'll make a placeholder for the keep probability."
   ]
  },
  {
   "cell_type": "markdown",
   "metadata": {
    "deletable": true,
    "editable": true
   },
   "source": [
    "> **Exercise:** Create the `inputs_`, `labels_`, and drop out `keep_prob` placeholders using `tf.placeholder`. `labels_` needs to be two-dimensional to work with some functions later.  Since `keep_prob` is a scalar (a 0-dimensional tensor), you shouldn't provide a size to `tf.placeholder`."
   ]
  },
  {
   "cell_type": "code",
   "execution_count": 27,
   "metadata": {
    "collapsed": false,
    "deletable": true,
    "editable": true
   },
   "outputs": [],
   "source": [
    "n_words = len(vocab)\n",
    "\n",
    "# Create the graph object\n",
    "graph = tf.Graph()\n",
    "# Add nodes to the graph\n",
    "with graph.as_default():\n",
    "    inputs_ = tf.placeholder(tf.int32, [None, None], name='inputs')\n",
    "    labels_ = tf.placeholder(tf.int32, [None, None], name='labels')\n",
    "    keep_prob = tf.placeholder(tf.float32, name='keep_prob')"
   ]
  },
  {
   "cell_type": "markdown",
   "metadata": {
    "deletable": true,
    "editable": true
   },
   "source": [
    "### Embedding\n",
    "\n",
    "Now we'll add an embedding layer. We need to do this because there are 74000 words in our vocabulary. It is massively inefficient to one-hot encode our classes here. You should remember dealing with this problem from the word2vec lesson. Instead of one-hot encoding, we can have an embedding layer and use that layer as a lookup table. You could train an embedding layer using word2vec, then load it here. But, it's fine to just make a new layer and let the network learn the weights.\n",
    "\n",
    "> **Exercise:** Create the embedding lookup matrix as a `tf.Variable`. Use that embedding matrix to get the embedded vectors to pass to the LSTM cell with [`tf.nn.embedding_lookup`](https://www.tensorflow.org/api_docs/python/tf/nn/embedding_lookup). This function takes the embedding matrix and an input tensor, such as the review vectors. Then, it'll return another tensor with the embedded vectors. So, if the embedding layer as 200 units, the function will return a tensor with size [batch_size, 200].\n",
    "\n"
   ]
  },
  {
   "cell_type": "code",
   "execution_count": 28,
   "metadata": {
    "collapsed": false,
    "deletable": true,
    "editable": true
   },
   "outputs": [],
   "source": [
    "# Size of the embedding vectors (number of units in the embedding layer)\n",
    "embed_size = 300 \n",
    "\n",
    "with graph.as_default():\n",
    "    embedding = tf.Variable(tf.random_uniform((n_words, embed_size), -1, 1))\n",
    "    embed = tf.nn.embedding_lookup(embedding, inputs_)"
   ]
  },
  {
   "cell_type": "markdown",
   "metadata": {
    "deletable": true,
    "editable": true
   },
   "source": [
    "### LSTM cell\n",
    "\n",
    "<img src=\"assets/network_diagram.png\" width=400px>\n",
    "\n",
    "Next, we'll create our LSTM cells to use in the recurrent network ([TensorFlow documentation](https://www.tensorflow.org/api_docs/python/tf/contrib/rnn)). Here we are just defining what the cells look like. This isn't actually building the graph, just defining the type of cells we want in our graph.\n",
    "\n",
    "To create a basic LSTM cell for the graph, you'll want to use `tf.contrib.rnn.BasicLSTMCell`. Looking at the function documentation:\n",
    "\n",
    "```\n",
    "tf.contrib.rnn.BasicLSTMCell(num_units, forget_bias=1.0, input_size=None, state_is_tuple=True, activation=<function tanh at 0x109f1ef28>)\n",
    "```\n",
    "\n",
    "you can see it takes a parameter called `num_units`, the number of units in the cell, called `lstm_size` in this code. So then, you can write something like \n",
    "\n",
    "```\n",
    "lstm = tf.contrib.rnn.BasicLSTMCell(num_units)\n",
    "```\n",
    "\n",
    "to create an LSTM cell with `num_units`. Next, you can add dropout to the cell with `tf.contrib.rnn.DropoutWrapper`. This just wraps the cell in another cell, but with dropout added to the inputs and/or outputs. It's a really convenient way to make your network better with almost no effort! So you'd do something like\n",
    "\n",
    "```\n",
    "drop = tf.contrib.rnn.DropoutWrapper(cell, output_keep_prob=keep_prob)\n",
    "```\n",
    "\n",
    "Most of the time, you're network will have better performance with more layers. That's sort of the magic of deep learning, adding more layers allows the network to learn really complex relationships. Again, there is a simple way to create multiple layers of LSTM cells with `tf.contrib.rnn.MultiRNNCell`:\n",
    "\n",
    "```\n",
    "cell = tf.contrib.rnn.MultiRNNCell([drop] * lstm_layers)\n",
    "```\n",
    "\n",
    "Here, `[drop] * lstm_layers` creates a list of cells (`drop`) that is `lstm_layers` long. The `MultiRNNCell` wrapper builds this into multiple layers of RNN cells, one for each cell in the list.\n",
    "\n",
    "So the final cell you're using in the network is actually multiple (or just one) LSTM cells with dropout. But it all works the same from an achitectural viewpoint, just a more complicated graph in the cell.\n",
    "\n",
    "> **Exercise:** Below, use `tf.contrib.rnn.BasicLSTMCell` to create an LSTM cell. Then, add drop out to it with `tf.contrib.rnn.DropoutWrapper`. Finally, create multiple LSTM layers with `tf.contrib.rnn.MultiRNNCell`.\n",
    "\n",
    "Here is [a tutorial on building RNNs](https://www.tensorflow.org/tutorials/recurrent) that will help you out.\n"
   ]
  },
  {
   "cell_type": "code",
   "execution_count": 29,
   "metadata": {
    "collapsed": false,
    "deletable": true,
    "editable": true
   },
   "outputs": [],
   "source": [
    "with graph.as_default():\n",
    "    # Your basic LSTM cell\n",
    "    lstm = tf.contrib.rnn.BasicLSTMCell(lstm_size)\n",
    "    \n",
    "    # Add dropout to the cell\n",
    "    drop = tf.contrib.rnn.DropoutWrapper(lstm, output_keep_prob=keep_prob)\n",
    "    \n",
    "    # Stack up multiple LSTM layers, for deep learning\n",
    "    cell = tf.contrib.rnn.MultiRNNCell([drop] * lstm_layers)\n",
    "    \n",
    "    # Getting an initial state of all zeros\n",
    "    initial_state = cell.zero_state(batch_size, tf.float32)"
   ]
  },
  {
   "cell_type": "markdown",
   "metadata": {
    "deletable": true,
    "editable": true
   },
   "source": [
    "### RNN forward pass\n",
    "\n",
    "<img src=\"assets/network_diagram.png\" width=400px>\n",
    "\n",
    "Now we need to actually run the data through the RNN nodes. You can use [`tf.nn.dynamic_rnn`](https://www.tensorflow.org/api_docs/python/tf/nn/dynamic_rnn) to do this. You'd pass in the RNN cell you created (our multiple layered LSTM `cell` for instance), and the inputs to the network.\n",
    "\n",
    "```\n",
    "outputs, final_state = tf.nn.dynamic_rnn(cell, inputs, initial_state=initial_state)\n",
    "```\n",
    "\n",
    "Above I created an initial state, `initial_state`, to pass to the RNN. This is the cell state that is passed between the hidden layers in successive time steps. `tf.nn.dynamic_rnn` takes care of most of the work for us. We pass in our cell and the input to the cell, then it does the unrolling and everything else for us. It returns outputs for each time step and the final_state of the hidden layer.\n",
    "\n",
    "> **Exercise:** Use `tf.nn.dynamic_rnn` to add the forward pass through the RNN. Remember that we're actually passing in vectors from the embedding layer, `embed`.\n",
    "\n"
   ]
  },
  {
   "cell_type": "code",
   "execution_count": 30,
   "metadata": {
    "collapsed": false,
    "deletable": true,
    "editable": true
   },
   "outputs": [],
   "source": [
    "with graph.as_default():\n",
    "    outputs, final_state = tf.nn.dynamic_rnn(cell, embed,\n",
    "                                             initial_state=initial_state)"
   ]
  },
  {
   "cell_type": "markdown",
   "metadata": {
    "deletable": true,
    "editable": true
   },
   "source": [
    "### Output\n",
    "\n",
    "We only care about the final output, we'll be using that as our sentiment prediction. So we need to grab the last output with `outputs[:, -1]`, the calculate the cost from that and `labels_`."
   ]
  },
  {
   "cell_type": "code",
   "execution_count": 31,
   "metadata": {
    "collapsed": false,
    "deletable": true,
    "editable": true
   },
   "outputs": [],
   "source": [
    "with graph.as_default():\n",
    "    predictions = tf.contrib.layers.fully_connected(outputs[:, -1], 1, activation_fn=tf.sigmoid)\n",
    "    cost = tf.losses.mean_squared_error(labels_, predictions)\n",
    "    \n",
    "    optimizer = tf.train.AdamOptimizer(learning_rate).minimize(cost)"
   ]
  },
  {
   "cell_type": "markdown",
   "metadata": {
    "deletable": true,
    "editable": true
   },
   "source": [
    "### Validation accuracy\n",
    "\n",
    "Here we can add a few nodes to calculate the accuracy which we'll use in the validation pass."
   ]
  },
  {
   "cell_type": "code",
   "execution_count": 32,
   "metadata": {
    "collapsed": false,
    "deletable": true,
    "editable": true
   },
   "outputs": [],
   "source": [
    "with graph.as_default():\n",
    "    correct_pred = tf.equal(tf.cast(tf.round(predictions), tf.int32), labels_)\n",
    "    accuracy = tf.reduce_mean(tf.cast(correct_pred, tf.float32))"
   ]
  },
  {
   "cell_type": "markdown",
   "metadata": {
    "deletable": true,
    "editable": true
   },
   "source": [
    "### Batching\n",
    "\n",
    "This is a simple function for returning batches from our data. First it removes data such that we only have full batches. Then it iterates through the `x` and `y` arrays and returns slices out of those arrays with size `[batch_size]`."
   ]
  },
  {
   "cell_type": "code",
   "execution_count": 33,
   "metadata": {
    "collapsed": true,
    "deletable": true,
    "editable": true
   },
   "outputs": [],
   "source": [
    "def get_batches(x, y, batch_size=100):\n",
    "    \n",
    "    n_batches = len(x)//batch_size\n",
    "    x, y = x[:n_batches*batch_size], y[:n_batches*batch_size]\n",
    "    for ii in range(0, len(x), batch_size):\n",
    "        yield x[ii:ii+batch_size], y[ii:ii+batch_size]"
   ]
  },
  {
   "cell_type": "markdown",
   "metadata": {
    "deletable": true,
    "editable": true
   },
   "source": [
    "## Training\n",
    "\n",
    "Below is the typical training code. If you want to do this yourself, feel free to delete all this code and implement it yourself. Before you run this, make sure the `checkpoints` directory exists."
   ]
  },
  {
   "cell_type": "code",
   "execution_count": 34,
   "metadata": {
    "collapsed": false,
    "deletable": true,
    "editable": true
   },
   "outputs": [
    {
     "ename": "InternalError",
     "evalue": "Dst tensor is not initialized.\n\t [[Node: zeros_4 = Const[dtype=DT_FLOAT, value=Tensor<type: float shape: [556,1024] values: [0 0 0]...>, _device=\"/job:localhost/replica:0/task:0/gpu:0\"]()]]\n\nCaused by op 'zeros_4', defined at:\n  File \"C:\\Users\\Fumihiro\\Anaconda3\\envs\\dlnd-tf-lab-gpu\\lib\\runpy.py\", line 184, in _run_module_as_main\n    \"__main__\", mod_spec)\n  File \"C:\\Users\\Fumihiro\\Anaconda3\\envs\\dlnd-tf-lab-gpu\\lib\\runpy.py\", line 85, in _run_code\n    exec(code, run_globals)\n  File \"C:\\Users\\Fumihiro\\Anaconda3\\envs\\dlnd-tf-lab-gpu\\lib\\site-packages\\ipykernel\\__main__.py\", line 3, in <module>\n    app.launch_new_instance()\n  File \"C:\\Users\\Fumihiro\\Anaconda3\\envs\\dlnd-tf-lab-gpu\\lib\\site-packages\\traitlets\\config\\application.py\", line 658, in launch_instance\n    app.start()\n  File \"C:\\Users\\Fumihiro\\Anaconda3\\envs\\dlnd-tf-lab-gpu\\lib\\site-packages\\ipykernel\\kernelapp.py\", line 474, in start\n    ioloop.IOLoop.instance().start()\n  File \"C:\\Users\\Fumihiro\\Anaconda3\\envs\\dlnd-tf-lab-gpu\\lib\\site-packages\\zmq\\eventloop\\ioloop.py\", line 177, in start\n    super(ZMQIOLoop, self).start()\n  File \"C:\\Users\\Fumihiro\\Anaconda3\\envs\\dlnd-tf-lab-gpu\\lib\\site-packages\\tornado\\ioloop.py\", line 887, in start\n    handler_func(fd_obj, events)\n  File \"C:\\Users\\Fumihiro\\Anaconda3\\envs\\dlnd-tf-lab-gpu\\lib\\site-packages\\tornado\\stack_context.py\", line 275, in null_wrapper\n    return fn(*args, **kwargs)\n  File \"C:\\Users\\Fumihiro\\Anaconda3\\envs\\dlnd-tf-lab-gpu\\lib\\site-packages\\zmq\\eventloop\\zmqstream.py\", line 440, in _handle_events\n    self._handle_recv()\n  File \"C:\\Users\\Fumihiro\\Anaconda3\\envs\\dlnd-tf-lab-gpu\\lib\\site-packages\\zmq\\eventloop\\zmqstream.py\", line 472, in _handle_recv\n    self._run_callback(callback, msg)\n  File \"C:\\Users\\Fumihiro\\Anaconda3\\envs\\dlnd-tf-lab-gpu\\lib\\site-packages\\zmq\\eventloop\\zmqstream.py\", line 414, in _run_callback\n    callback(*args, **kwargs)\n  File \"C:\\Users\\Fumihiro\\Anaconda3\\envs\\dlnd-tf-lab-gpu\\lib\\site-packages\\tornado\\stack_context.py\", line 275, in null_wrapper\n    return fn(*args, **kwargs)\n  File \"C:\\Users\\Fumihiro\\Anaconda3\\envs\\dlnd-tf-lab-gpu\\lib\\site-packages\\ipykernel\\kernelbase.py\", line 276, in dispatcher\n    return self.dispatch_shell(stream, msg)\n  File \"C:\\Users\\Fumihiro\\Anaconda3\\envs\\dlnd-tf-lab-gpu\\lib\\site-packages\\ipykernel\\kernelbase.py\", line 228, in dispatch_shell\n    handler(stream, idents, msg)\n  File \"C:\\Users\\Fumihiro\\Anaconda3\\envs\\dlnd-tf-lab-gpu\\lib\\site-packages\\ipykernel\\kernelbase.py\", line 390, in execute_request\n    user_expressions, allow_stdin)\n  File \"C:\\Users\\Fumihiro\\Anaconda3\\envs\\dlnd-tf-lab-gpu\\lib\\site-packages\\ipykernel\\ipkernel.py\", line 196, in do_execute\n    res = shell.run_cell(code, store_history=store_history, silent=silent)\n  File \"C:\\Users\\Fumihiro\\Anaconda3\\envs\\dlnd-tf-lab-gpu\\lib\\site-packages\\ipykernel\\zmqshell.py\", line 501, in run_cell\n    return super(ZMQInteractiveShell, self).run_cell(*args, **kwargs)\n  File \"C:\\Users\\Fumihiro\\Anaconda3\\envs\\dlnd-tf-lab-gpu\\lib\\site-packages\\IPython\\core\\interactiveshell.py\", line 2717, in run_cell\n    interactivity=interactivity, compiler=compiler, result=result)\n  File \"C:\\Users\\Fumihiro\\Anaconda3\\envs\\dlnd-tf-lab-gpu\\lib\\site-packages\\IPython\\core\\interactiveshell.py\", line 2821, in run_ast_nodes\n    if self.run_code(code, result):\n  File \"C:\\Users\\Fumihiro\\Anaconda3\\envs\\dlnd-tf-lab-gpu\\lib\\site-packages\\IPython\\core\\interactiveshell.py\", line 2881, in run_code\n    exec(code_obj, self.user_global_ns, self.user_ns)\n  File \"<ipython-input-31-616d62ee52be>\", line 5, in <module>\n    optimizer = tf.train.AdamOptimizer(learning_rate).minimize(cost)\n  File \"C:\\Users\\Fumihiro\\Anaconda3\\envs\\dlnd-tf-lab-gpu\\lib\\site-packages\\tensorflow\\python\\training\\optimizer.py\", line 298, in minimize\n    name=name)\n  File \"C:\\Users\\Fumihiro\\Anaconda3\\envs\\dlnd-tf-lab-gpu\\lib\\site-packages\\tensorflow\\python\\training\\optimizer.py\", line 412, in apply_gradients\n    self._create_slots(var_list)\n  File \"C:\\Users\\Fumihiro\\Anaconda3\\envs\\dlnd-tf-lab-gpu\\lib\\site-packages\\tensorflow\\python\\training\\adam.py\", line 119, in _create_slots\n    self._zeros_slot(v, \"m\", self._name)\n  File \"C:\\Users\\Fumihiro\\Anaconda3\\envs\\dlnd-tf-lab-gpu\\lib\\site-packages\\tensorflow\\python\\training\\optimizer.py\", line 656, in _zeros_slot\n    named_slots[var] = slot_creator.create_zeros_slot(var, op_name)\n  File \"C:\\Users\\Fumihiro\\Anaconda3\\envs\\dlnd-tf-lab-gpu\\lib\\site-packages\\tensorflow\\python\\training\\slot_creator.py\", line 121, in create_zeros_slot\n    val = array_ops.zeros(primary.get_shape().as_list(), dtype=dtype)\n  File \"C:\\Users\\Fumihiro\\Anaconda3\\envs\\dlnd-tf-lab-gpu\\lib\\site-packages\\tensorflow\\python\\ops\\array_ops.py\", line 1370, in zeros\n    output = constant(zero, shape=shape, dtype=dtype, name=name)\n  File \"C:\\Users\\Fumihiro\\Anaconda3\\envs\\dlnd-tf-lab-gpu\\lib\\site-packages\\tensorflow\\python\\framework\\constant_op.py\", line 169, in constant\n    attrs={\"value\": tensor_value, \"dtype\": dtype_value}, name=name).outputs[0]\n  File \"C:\\Users\\Fumihiro\\Anaconda3\\envs\\dlnd-tf-lab-gpu\\lib\\site-packages\\tensorflow\\python\\framework\\ops.py\", line 2395, in create_op\n    original_op=self._default_original_op, op_def=op_def)\n  File \"C:\\Users\\Fumihiro\\Anaconda3\\envs\\dlnd-tf-lab-gpu\\lib\\site-packages\\tensorflow\\python\\framework\\ops.py\", line 1264, in __init__\n    self._traceback = _extract_stack()\n\nInternalError (see above for traceback): Dst tensor is not initialized.\n\t [[Node: zeros_4 = Const[dtype=DT_FLOAT, value=Tensor<type: float shape: [556,1024] values: [0 0 0]...>, _device=\"/job:localhost/replica:0/task:0/gpu:0\"]()]]\n",
     "output_type": "error",
     "traceback": [
      "\u001b[0;31m---------------------------------------------------------------------------\u001b[0m",
      "\u001b[0;31mInternalError\u001b[0m                             Traceback (most recent call last)",
      "\u001b[0;32mC:\\Users\\Fumihiro\\Anaconda3\\envs\\dlnd-tf-lab-gpu\\lib\\site-packages\\tensorflow\\python\\client\\session.py\u001b[0m in \u001b[0;36m_do_call\u001b[0;34m(self, fn, *args)\u001b[0m\n\u001b[1;32m   1021\u001b[0m     \u001b[1;32mtry\u001b[0m\u001b[1;33m:\u001b[0m\u001b[1;33m\u001b[0m\u001b[0m\n\u001b[0;32m-> 1022\u001b[0;31m       \u001b[1;32mreturn\u001b[0m \u001b[0mfn\u001b[0m\u001b[1;33m(\u001b[0m\u001b[1;33m*\u001b[0m\u001b[0margs\u001b[0m\u001b[1;33m)\u001b[0m\u001b[1;33m\u001b[0m\u001b[0m\n\u001b[0m\u001b[1;32m   1023\u001b[0m     \u001b[1;32mexcept\u001b[0m \u001b[0merrors\u001b[0m\u001b[1;33m.\u001b[0m\u001b[0mOpError\u001b[0m \u001b[1;32mas\u001b[0m \u001b[0me\u001b[0m\u001b[1;33m:\u001b[0m\u001b[1;33m\u001b[0m\u001b[0m\n",
      "\u001b[0;32mC:\\Users\\Fumihiro\\Anaconda3\\envs\\dlnd-tf-lab-gpu\\lib\\site-packages\\tensorflow\\python\\client\\session.py\u001b[0m in \u001b[0;36m_run_fn\u001b[0;34m(session, feed_dict, fetch_list, target_list, options, run_metadata)\u001b[0m\n\u001b[1;32m   1003\u001b[0m                                  \u001b[0mfeed_dict\u001b[0m\u001b[1;33m,\u001b[0m \u001b[0mfetch_list\u001b[0m\u001b[1;33m,\u001b[0m \u001b[0mtarget_list\u001b[0m\u001b[1;33m,\u001b[0m\u001b[1;33m\u001b[0m\u001b[0m\n\u001b[0;32m-> 1004\u001b[0;31m                                  status, run_metadata)\n\u001b[0m\u001b[1;32m   1005\u001b[0m \u001b[1;33m\u001b[0m\u001b[0m\n",
      "\u001b[0;32mC:\\Users\\Fumihiro\\Anaconda3\\envs\\dlnd-tf-lab-gpu\\lib\\contextlib.py\u001b[0m in \u001b[0;36m__exit__\u001b[0;34m(self, type, value, traceback)\u001b[0m\n\u001b[1;32m     65\u001b[0m             \u001b[1;32mtry\u001b[0m\u001b[1;33m:\u001b[0m\u001b[1;33m\u001b[0m\u001b[0m\n\u001b[0;32m---> 66\u001b[0;31m                 \u001b[0mnext\u001b[0m\u001b[1;33m(\u001b[0m\u001b[0mself\u001b[0m\u001b[1;33m.\u001b[0m\u001b[0mgen\u001b[0m\u001b[1;33m)\u001b[0m\u001b[1;33m\u001b[0m\u001b[0m\n\u001b[0m\u001b[1;32m     67\u001b[0m             \u001b[1;32mexcept\u001b[0m \u001b[0mStopIteration\u001b[0m\u001b[1;33m:\u001b[0m\u001b[1;33m\u001b[0m\u001b[0m\n",
      "\u001b[0;32mC:\\Users\\Fumihiro\\Anaconda3\\envs\\dlnd-tf-lab-gpu\\lib\\site-packages\\tensorflow\\python\\framework\\errors_impl.py\u001b[0m in \u001b[0;36mraise_exception_on_not_ok_status\u001b[0;34m()\u001b[0m\n\u001b[1;32m    468\u001b[0m           \u001b[0mcompat\u001b[0m\u001b[1;33m.\u001b[0m\u001b[0mas_text\u001b[0m\u001b[1;33m(\u001b[0m\u001b[0mpywrap_tensorflow\u001b[0m\u001b[1;33m.\u001b[0m\u001b[0mTF_Message\u001b[0m\u001b[1;33m(\u001b[0m\u001b[0mstatus\u001b[0m\u001b[1;33m)\u001b[0m\u001b[1;33m)\u001b[0m\u001b[1;33m,\u001b[0m\u001b[1;33m\u001b[0m\u001b[0m\n\u001b[0;32m--> 469\u001b[0;31m           pywrap_tensorflow.TF_GetCode(status))\n\u001b[0m\u001b[1;32m    470\u001b[0m   \u001b[1;32mfinally\u001b[0m\u001b[1;33m:\u001b[0m\u001b[1;33m\u001b[0m\u001b[0m\n",
      "\u001b[0;31mInternalError\u001b[0m: Dst tensor is not initialized.\n\t [[Node: zeros_4 = Const[dtype=DT_FLOAT, value=Tensor<type: float shape: [556,1024] values: [0 0 0]...>, _device=\"/job:localhost/replica:0/task:0/gpu:0\"]()]]",
      "\nDuring handling of the above exception, another exception occurred:\n",
      "\u001b[0;31mInternalError\u001b[0m                             Traceback (most recent call last)",
      "\u001b[0;32m<ipython-input-34-da10d9fe9550>\u001b[0m in \u001b[0;36m<module>\u001b[0;34m()\u001b[0m\n\u001b[1;32m      5\u001b[0m \u001b[1;33m\u001b[0m\u001b[0m\n\u001b[1;32m      6\u001b[0m \u001b[1;32mwith\u001b[0m \u001b[0mtf\u001b[0m\u001b[1;33m.\u001b[0m\u001b[0mSession\u001b[0m\u001b[1;33m(\u001b[0m\u001b[0mgraph\u001b[0m\u001b[1;33m=\u001b[0m\u001b[0mgraph\u001b[0m\u001b[1;33m)\u001b[0m \u001b[1;32mas\u001b[0m \u001b[0msess\u001b[0m\u001b[1;33m:\u001b[0m\u001b[1;33m\u001b[0m\u001b[0m\n\u001b[0;32m----> 7\u001b[0;31m     \u001b[0msess\u001b[0m\u001b[1;33m.\u001b[0m\u001b[0mrun\u001b[0m\u001b[1;33m(\u001b[0m\u001b[0mtf\u001b[0m\u001b[1;33m.\u001b[0m\u001b[0mglobal_variables_initializer\u001b[0m\u001b[1;33m(\u001b[0m\u001b[1;33m)\u001b[0m\u001b[1;33m)\u001b[0m\u001b[1;33m\u001b[0m\u001b[0m\n\u001b[0m\u001b[1;32m      8\u001b[0m     \u001b[0miteration\u001b[0m \u001b[1;33m=\u001b[0m \u001b[1;36m1\u001b[0m\u001b[1;33m\u001b[0m\u001b[0m\n\u001b[1;32m      9\u001b[0m     \u001b[1;32mfor\u001b[0m \u001b[0me\u001b[0m \u001b[1;32min\u001b[0m \u001b[0mrange\u001b[0m\u001b[1;33m(\u001b[0m\u001b[0mepochs\u001b[0m\u001b[1;33m)\u001b[0m\u001b[1;33m:\u001b[0m\u001b[1;33m\u001b[0m\u001b[0m\n",
      "\u001b[0;32mC:\\Users\\Fumihiro\\Anaconda3\\envs\\dlnd-tf-lab-gpu\\lib\\site-packages\\tensorflow\\python\\client\\session.py\u001b[0m in \u001b[0;36mrun\u001b[0;34m(self, fetches, feed_dict, options, run_metadata)\u001b[0m\n\u001b[1;32m    765\u001b[0m     \u001b[1;32mtry\u001b[0m\u001b[1;33m:\u001b[0m\u001b[1;33m\u001b[0m\u001b[0m\n\u001b[1;32m    766\u001b[0m       result = self._run(None, fetches, feed_dict, options_ptr,\n\u001b[0;32m--> 767\u001b[0;31m                          run_metadata_ptr)\n\u001b[0m\u001b[1;32m    768\u001b[0m       \u001b[1;32mif\u001b[0m \u001b[0mrun_metadata\u001b[0m\u001b[1;33m:\u001b[0m\u001b[1;33m\u001b[0m\u001b[0m\n\u001b[1;32m    769\u001b[0m         \u001b[0mproto_data\u001b[0m \u001b[1;33m=\u001b[0m \u001b[0mtf_session\u001b[0m\u001b[1;33m.\u001b[0m\u001b[0mTF_GetBuffer\u001b[0m\u001b[1;33m(\u001b[0m\u001b[0mrun_metadata_ptr\u001b[0m\u001b[1;33m)\u001b[0m\u001b[1;33m\u001b[0m\u001b[0m\n",
      "\u001b[0;32mC:\\Users\\Fumihiro\\Anaconda3\\envs\\dlnd-tf-lab-gpu\\lib\\site-packages\\tensorflow\\python\\client\\session.py\u001b[0m in \u001b[0;36m_run\u001b[0;34m(self, handle, fetches, feed_dict, options, run_metadata)\u001b[0m\n\u001b[1;32m    963\u001b[0m     \u001b[1;32mif\u001b[0m \u001b[0mfinal_fetches\u001b[0m \u001b[1;32mor\u001b[0m \u001b[0mfinal_targets\u001b[0m\u001b[1;33m:\u001b[0m\u001b[1;33m\u001b[0m\u001b[0m\n\u001b[1;32m    964\u001b[0m       results = self._do_run(handle, final_targets, final_fetches,\n\u001b[0;32m--> 965\u001b[0;31m                              feed_dict_string, options, run_metadata)\n\u001b[0m\u001b[1;32m    966\u001b[0m     \u001b[1;32melse\u001b[0m\u001b[1;33m:\u001b[0m\u001b[1;33m\u001b[0m\u001b[0m\n\u001b[1;32m    967\u001b[0m       \u001b[0mresults\u001b[0m \u001b[1;33m=\u001b[0m \u001b[1;33m[\u001b[0m\u001b[1;33m]\u001b[0m\u001b[1;33m\u001b[0m\u001b[0m\n",
      "\u001b[0;32mC:\\Users\\Fumihiro\\Anaconda3\\envs\\dlnd-tf-lab-gpu\\lib\\site-packages\\tensorflow\\python\\client\\session.py\u001b[0m in \u001b[0;36m_do_run\u001b[0;34m(self, handle, target_list, fetch_list, feed_dict, options, run_metadata)\u001b[0m\n\u001b[1;32m   1013\u001b[0m     \u001b[1;32mif\u001b[0m \u001b[0mhandle\u001b[0m \u001b[1;32mis\u001b[0m \u001b[1;32mNone\u001b[0m\u001b[1;33m:\u001b[0m\u001b[1;33m\u001b[0m\u001b[0m\n\u001b[1;32m   1014\u001b[0m       return self._do_call(_run_fn, self._session, feed_dict, fetch_list,\n\u001b[0;32m-> 1015\u001b[0;31m                            target_list, options, run_metadata)\n\u001b[0m\u001b[1;32m   1016\u001b[0m     \u001b[1;32melse\u001b[0m\u001b[1;33m:\u001b[0m\u001b[1;33m\u001b[0m\u001b[0m\n\u001b[1;32m   1017\u001b[0m       return self._do_call(_prun_fn, self._session, handle, feed_dict,\n",
      "\u001b[0;32mC:\\Users\\Fumihiro\\Anaconda3\\envs\\dlnd-tf-lab-gpu\\lib\\site-packages\\tensorflow\\python\\client\\session.py\u001b[0m in \u001b[0;36m_do_call\u001b[0;34m(self, fn, *args)\u001b[0m\n\u001b[1;32m   1033\u001b[0m         \u001b[1;32mexcept\u001b[0m \u001b[0mKeyError\u001b[0m\u001b[1;33m:\u001b[0m\u001b[1;33m\u001b[0m\u001b[0m\n\u001b[1;32m   1034\u001b[0m           \u001b[1;32mpass\u001b[0m\u001b[1;33m\u001b[0m\u001b[0m\n\u001b[0;32m-> 1035\u001b[0;31m       \u001b[1;32mraise\u001b[0m \u001b[0mtype\u001b[0m\u001b[1;33m(\u001b[0m\u001b[0me\u001b[0m\u001b[1;33m)\u001b[0m\u001b[1;33m(\u001b[0m\u001b[0mnode_def\u001b[0m\u001b[1;33m,\u001b[0m \u001b[0mop\u001b[0m\u001b[1;33m,\u001b[0m \u001b[0mmessage\u001b[0m\u001b[1;33m)\u001b[0m\u001b[1;33m\u001b[0m\u001b[0m\n\u001b[0m\u001b[1;32m   1036\u001b[0m \u001b[1;33m\u001b[0m\u001b[0m\n\u001b[1;32m   1037\u001b[0m   \u001b[1;32mdef\u001b[0m \u001b[0m_extend_graph\u001b[0m\u001b[1;33m(\u001b[0m\u001b[0mself\u001b[0m\u001b[1;33m)\u001b[0m\u001b[1;33m:\u001b[0m\u001b[1;33m\u001b[0m\u001b[0m\n",
      "\u001b[0;31mInternalError\u001b[0m: Dst tensor is not initialized.\n\t [[Node: zeros_4 = Const[dtype=DT_FLOAT, value=Tensor<type: float shape: [556,1024] values: [0 0 0]...>, _device=\"/job:localhost/replica:0/task:0/gpu:0\"]()]]\n\nCaused by op 'zeros_4', defined at:\n  File \"C:\\Users\\Fumihiro\\Anaconda3\\envs\\dlnd-tf-lab-gpu\\lib\\runpy.py\", line 184, in _run_module_as_main\n    \"__main__\", mod_spec)\n  File \"C:\\Users\\Fumihiro\\Anaconda3\\envs\\dlnd-tf-lab-gpu\\lib\\runpy.py\", line 85, in _run_code\n    exec(code, run_globals)\n  File \"C:\\Users\\Fumihiro\\Anaconda3\\envs\\dlnd-tf-lab-gpu\\lib\\site-packages\\ipykernel\\__main__.py\", line 3, in <module>\n    app.launch_new_instance()\n  File \"C:\\Users\\Fumihiro\\Anaconda3\\envs\\dlnd-tf-lab-gpu\\lib\\site-packages\\traitlets\\config\\application.py\", line 658, in launch_instance\n    app.start()\n  File \"C:\\Users\\Fumihiro\\Anaconda3\\envs\\dlnd-tf-lab-gpu\\lib\\site-packages\\ipykernel\\kernelapp.py\", line 474, in start\n    ioloop.IOLoop.instance().start()\n  File \"C:\\Users\\Fumihiro\\Anaconda3\\envs\\dlnd-tf-lab-gpu\\lib\\site-packages\\zmq\\eventloop\\ioloop.py\", line 177, in start\n    super(ZMQIOLoop, self).start()\n  File \"C:\\Users\\Fumihiro\\Anaconda3\\envs\\dlnd-tf-lab-gpu\\lib\\site-packages\\tornado\\ioloop.py\", line 887, in start\n    handler_func(fd_obj, events)\n  File \"C:\\Users\\Fumihiro\\Anaconda3\\envs\\dlnd-tf-lab-gpu\\lib\\site-packages\\tornado\\stack_context.py\", line 275, in null_wrapper\n    return fn(*args, **kwargs)\n  File \"C:\\Users\\Fumihiro\\Anaconda3\\envs\\dlnd-tf-lab-gpu\\lib\\site-packages\\zmq\\eventloop\\zmqstream.py\", line 440, in _handle_events\n    self._handle_recv()\n  File \"C:\\Users\\Fumihiro\\Anaconda3\\envs\\dlnd-tf-lab-gpu\\lib\\site-packages\\zmq\\eventloop\\zmqstream.py\", line 472, in _handle_recv\n    self._run_callback(callback, msg)\n  File \"C:\\Users\\Fumihiro\\Anaconda3\\envs\\dlnd-tf-lab-gpu\\lib\\site-packages\\zmq\\eventloop\\zmqstream.py\", line 414, in _run_callback\n    callback(*args, **kwargs)\n  File \"C:\\Users\\Fumihiro\\Anaconda3\\envs\\dlnd-tf-lab-gpu\\lib\\site-packages\\tornado\\stack_context.py\", line 275, in null_wrapper\n    return fn(*args, **kwargs)\n  File \"C:\\Users\\Fumihiro\\Anaconda3\\envs\\dlnd-tf-lab-gpu\\lib\\site-packages\\ipykernel\\kernelbase.py\", line 276, in dispatcher\n    return self.dispatch_shell(stream, msg)\n  File \"C:\\Users\\Fumihiro\\Anaconda3\\envs\\dlnd-tf-lab-gpu\\lib\\site-packages\\ipykernel\\kernelbase.py\", line 228, in dispatch_shell\n    handler(stream, idents, msg)\n  File \"C:\\Users\\Fumihiro\\Anaconda3\\envs\\dlnd-tf-lab-gpu\\lib\\site-packages\\ipykernel\\kernelbase.py\", line 390, in execute_request\n    user_expressions, allow_stdin)\n  File \"C:\\Users\\Fumihiro\\Anaconda3\\envs\\dlnd-tf-lab-gpu\\lib\\site-packages\\ipykernel\\ipkernel.py\", line 196, in do_execute\n    res = shell.run_cell(code, store_history=store_history, silent=silent)\n  File \"C:\\Users\\Fumihiro\\Anaconda3\\envs\\dlnd-tf-lab-gpu\\lib\\site-packages\\ipykernel\\zmqshell.py\", line 501, in run_cell\n    return super(ZMQInteractiveShell, self).run_cell(*args, **kwargs)\n  File \"C:\\Users\\Fumihiro\\Anaconda3\\envs\\dlnd-tf-lab-gpu\\lib\\site-packages\\IPython\\core\\interactiveshell.py\", line 2717, in run_cell\n    interactivity=interactivity, compiler=compiler, result=result)\n  File \"C:\\Users\\Fumihiro\\Anaconda3\\envs\\dlnd-tf-lab-gpu\\lib\\site-packages\\IPython\\core\\interactiveshell.py\", line 2821, in run_ast_nodes\n    if self.run_code(code, result):\n  File \"C:\\Users\\Fumihiro\\Anaconda3\\envs\\dlnd-tf-lab-gpu\\lib\\site-packages\\IPython\\core\\interactiveshell.py\", line 2881, in run_code\n    exec(code_obj, self.user_global_ns, self.user_ns)\n  File \"<ipython-input-31-616d62ee52be>\", line 5, in <module>\n    optimizer = tf.train.AdamOptimizer(learning_rate).minimize(cost)\n  File \"C:\\Users\\Fumihiro\\Anaconda3\\envs\\dlnd-tf-lab-gpu\\lib\\site-packages\\tensorflow\\python\\training\\optimizer.py\", line 298, in minimize\n    name=name)\n  File \"C:\\Users\\Fumihiro\\Anaconda3\\envs\\dlnd-tf-lab-gpu\\lib\\site-packages\\tensorflow\\python\\training\\optimizer.py\", line 412, in apply_gradients\n    self._create_slots(var_list)\n  File \"C:\\Users\\Fumihiro\\Anaconda3\\envs\\dlnd-tf-lab-gpu\\lib\\site-packages\\tensorflow\\python\\training\\adam.py\", line 119, in _create_slots\n    self._zeros_slot(v, \"m\", self._name)\n  File \"C:\\Users\\Fumihiro\\Anaconda3\\envs\\dlnd-tf-lab-gpu\\lib\\site-packages\\tensorflow\\python\\training\\optimizer.py\", line 656, in _zeros_slot\n    named_slots[var] = slot_creator.create_zeros_slot(var, op_name)\n  File \"C:\\Users\\Fumihiro\\Anaconda3\\envs\\dlnd-tf-lab-gpu\\lib\\site-packages\\tensorflow\\python\\training\\slot_creator.py\", line 121, in create_zeros_slot\n    val = array_ops.zeros(primary.get_shape().as_list(), dtype=dtype)\n  File \"C:\\Users\\Fumihiro\\Anaconda3\\envs\\dlnd-tf-lab-gpu\\lib\\site-packages\\tensorflow\\python\\ops\\array_ops.py\", line 1370, in zeros\n    output = constant(zero, shape=shape, dtype=dtype, name=name)\n  File \"C:\\Users\\Fumihiro\\Anaconda3\\envs\\dlnd-tf-lab-gpu\\lib\\site-packages\\tensorflow\\python\\framework\\constant_op.py\", line 169, in constant\n    attrs={\"value\": tensor_value, \"dtype\": dtype_value}, name=name).outputs[0]\n  File \"C:\\Users\\Fumihiro\\Anaconda3\\envs\\dlnd-tf-lab-gpu\\lib\\site-packages\\tensorflow\\python\\framework\\ops.py\", line 2395, in create_op\n    original_op=self._default_original_op, op_def=op_def)\n  File \"C:\\Users\\Fumihiro\\Anaconda3\\envs\\dlnd-tf-lab-gpu\\lib\\site-packages\\tensorflow\\python\\framework\\ops.py\", line 1264, in __init__\n    self._traceback = _extract_stack()\n\nInternalError (see above for traceback): Dst tensor is not initialized.\n\t [[Node: zeros_4 = Const[dtype=DT_FLOAT, value=Tensor<type: float shape: [556,1024] values: [0 0 0]...>, _device=\"/job:localhost/replica:0/task:0/gpu:0\"]()]]\n"
     ]
    }
   ],
   "source": [
    "epochs = 10\n",
    "\n",
    "with graph.as_default():\n",
    "    saver = tf.train.Saver()\n",
    "\n",
    "with tf.Session(graph=graph) as sess:\n",
    "    sess.run(tf.global_variables_initializer())\n",
    "    iteration = 1\n",
    "    for e in range(epochs):\n",
    "        state = sess.run(initial_state)\n",
    "        \n",
    "        for ii, (x, y) in enumerate(get_batches(train_x, train_y, batch_size), 1):\n",
    "            feed = {inputs_: x,\n",
    "                    labels_: y[:, None],\n",
    "                    keep_prob: 0.5,\n",
    "                    initial_state: state}\n",
    "            loss, state, _ = sess.run([cost, final_state, optimizer], feed_dict=feed)\n",
    "            \n",
    "            if iteration%5==0:\n",
    "                print(\"Epoch: {}/{}\".format(e, epochs),\n",
    "                      \"Iteration: {}\".format(iteration),\n",
    "                      \"Train loss: {:.3f}\".format(loss))\n",
    "\n",
    "            if iteration%25==0:\n",
    "                val_acc = []\n",
    "                val_state = sess.run(cell.zero_state(batch_size, tf.float32))\n",
    "                for x, y in get_batches(val_x, val_y, batch_size):\n",
    "                    feed = {inputs_: x,\n",
    "                            labels_: y[:, None],\n",
    "                            keep_prob: 1,\n",
    "                            initial_state: val_state}\n",
    "                    batch_acc, val_state = sess.run([accuracy, final_state], feed_dict=feed)\n",
    "                    val_acc.append(batch_acc)\n",
    "                print(\"Val acc: {:.3f}\".format(np.mean(val_acc)))\n",
    "            iteration +=1\n",
    "    saver.save(sess, \"checkpoints/sentiment.ckpt\")"
   ]
  },
  {
   "cell_type": "markdown",
   "metadata": {
    "deletable": true,
    "editable": true
   },
   "source": [
    "## Testing"
   ]
  },
  {
   "cell_type": "code",
   "execution_count": 47,
   "metadata": {
    "collapsed": false,
    "deletable": true,
    "editable": true
   },
   "outputs": [
    {
     "name": "stdout",
     "output_type": "stream",
     "text": [
      "Test accuracy: 0.830\n"
     ]
    }
   ],
   "source": [
    "test_acc = []\n",
    "with tf.Session(graph=graph) as sess:\n",
    "    saver.restore(sess, tf.train.latest_checkpoint('/output/checkpoints'))\n",
    "    test_state = sess.run(cell.zero_state(batch_size, tf.float32))\n",
    "    for ii, (x, y) in enumerate(get_batches(test_x, test_y, batch_size), 1):\n",
    "        feed = {inputs_: x,\n",
    "                labels_: y[:, None],\n",
    "                keep_prob: 1,\n",
    "                initial_state: test_state}\n",
    "        batch_acc, test_state = sess.run([accuracy, final_state], feed_dict=feed)\n",
    "        test_acc.append(batch_acc)\n",
    "    print(\"Test accuracy: {:.3f}\".format(np.mean(test_acc)))"
   ]
  }
 ],
 "metadata": {
  "kernelspec": {
   "display_name": "Python 3",
   "language": "python",
   "name": "python3"
  },
  "language_info": {
   "codemirror_mode": {
    "name": "ipython",
    "version": 3
   },
   "file_extension": ".py",
   "mimetype": "text/x-python",
   "name": "python",
   "nbconvert_exporter": "python",
   "pygments_lexer": "ipython3",
   "version": "3.5.2"
  }
 },
 "nbformat": 4,
 "nbformat_minor": 2
}
