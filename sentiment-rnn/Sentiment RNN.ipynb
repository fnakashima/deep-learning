{
 "cells": [
  {
   "cell_type": "markdown",
   "metadata": {
    "deletable": true,
    "editable": true
   },
   "source": [
    "# Sentiment Analysis with an RNN\n",
    "\n",
    "In this notebook, you'll implement a recurrent neural network that performs sentiment analysis. Using an RNN rather than a feedfoward network is more accurate since we can include information about the *sequence* of words. Here we'll use a dataset of movie reviews, accompanied by labels.\n",
    "\n",
    "The architecture for this network is shown below.\n",
    "\n",
    "<img src=\"assets/network_diagram.png\" width=400px>\n",
    "\n",
    "Here, we'll pass in words to an embedding layer. We need an embedding layer because we have tens of thousands of words, so we'll need a more efficient representation for our input data than one-hot encoded vectors. You should have seen this before from the word2vec lesson. You can actually train up an embedding with word2vec and use it here. But it's good enough to just have an embedding layer and let the network learn the embedding table on it's own.\n",
    "\n",
    "From the embedding layer, the new representations will be passed to LSTM cells. These will add recurrent connections to the network so we can include information about the sequence of words in the data. Finally, the LSTM cells will go to a sigmoid output layer here. We're using the sigmoid because we're trying to predict if this text has positive or negative sentiment. The output layer will just be a single unit then, with a sigmoid activation function.\n",
    "\n",
    "We don't care about the sigmoid outputs except for the very last one, we can ignore the rest. We'll calculate the cost from the output of the last step and the training label."
   ]
  },
  {
   "cell_type": "code",
   "execution_count": 1,
   "metadata": {
    "collapsed": true,
    "deletable": true,
    "editable": true
   },
   "outputs": [],
   "source": [
    "import numpy as np\n",
    "import tensorflow as tf"
   ]
  },
  {
   "cell_type": "code",
   "execution_count": 2,
   "metadata": {
    "collapsed": false,
    "deletable": true,
    "editable": true
   },
   "outputs": [],
   "source": [
    "with open('../sentiment_network/reviews.txt', 'r') as f:\n",
    "    reviews = f.read()\n",
    "with open('../sentiment_network/labels.txt', 'r') as f:\n",
    "    labels = f.read()"
   ]
  },
  {
   "cell_type": "code",
   "execution_count": 3,
   "metadata": {
    "collapsed": false,
    "deletable": true,
    "editable": true
   },
   "outputs": [
    {
     "data": {
      "text/plain": [
       "'bromwell high is a cartoon comedy . it ran at the same time as some other programs about school life  such as  teachers  . my   years in the teaching profession lead me to believe that bromwell high  s satire is much closer to reality than is  teachers  . the scramble to survive financially  the insightful students who can see right through their pathetic teachers  pomp  the pettiness of the whole situation  all remind me of the schools i knew and their students . when i saw the episode in which a student repeatedly tried to burn down the school  i immediately recalled . . . . . . . . . at . . . . . . . . . . high . a classic line inspector i  m here to sack one of your teachers . student welcome to bromwell high . i expect that many adults of my age think that bromwell high is far fetched . what a pity that it isn  t   \\nstory of a man who has unnatural feelings for a pig . starts out with a opening scene that is a terrific example of absurd comedy . a formal orchestra audience is turned into an insane  violent mob by the crazy chantings of it  s singers . unfortunately it stays absurd the whole time with no general narrative eventually making it just too off putting . even those from the era should be turned off . the cryptic dialogue would make shakespeare seem easy to a third grader . on a technical level it  s better than you might think with some good cinematography by future great vilmos zsigmond . future stars sally kirkland and frederic forrest can be seen briefly .  \\nhomelessness  or houselessness as george carlin stated  has been an issue for years but never a plan to help those on the street that were once considered human who did everything from going to school  work  or vote for the matter . most people think of the homeless as just a lost cause while worrying about things such as racism  the war on iraq  pressuring kids to succeed  technology  the elections  inflation  or worrying if they  ll be next to end up on the streets .  br    br   but what if y'"
      ]
     },
     "execution_count": 3,
     "metadata": {},
     "output_type": "execute_result"
    }
   ],
   "source": [
    "reviews[:2000]"
   ]
  },
  {
   "cell_type": "markdown",
   "metadata": {
    "deletable": true,
    "editable": true
   },
   "source": [
    "## Data preprocessing\n",
    "\n",
    "The first step when building a neural network model is getting your data into the proper form to feed into the network. Since we're using embedding layers, we'll need to encode each word with an integer. We'll also want to clean it up a bit.\n",
    "\n",
    "You can see an example of the reviews data above. We'll want to get rid of those periods. Also, you might notice that the reviews are delimited with newlines `\\n`. To deal with those, I'm going to split the text into each review using `\\n` as the delimiter. Then I can combined all the reviews back together into one big string.\n",
    "\n",
    "First, let's remove all punctuation. Then get all the text without the newlines and split it into individual words."
   ]
  },
  {
   "cell_type": "code",
   "execution_count": 4,
   "metadata": {
    "collapsed": true,
    "deletable": true,
    "editable": true
   },
   "outputs": [],
   "source": [
    "# Ref: http://stackoverflow.com/questions/265960/best-way-to-strip-punctuation-from-a-string-in-python\n",
    "\n",
    "from string import punctuation\n",
    "all_text = ''.join([c for c in reviews if c not in punctuation])\n",
    "reviews = all_text.split('\\n')\n",
    "\n",
    "all_text = ' '.join(reviews)\n",
    "words = all_text.split()"
   ]
  },
  {
   "cell_type": "code",
   "execution_count": 5,
   "metadata": {
    "collapsed": false,
    "deletable": true,
    "editable": true
   },
   "outputs": [
    {
     "data": {
      "text/plain": [
       "'bromwell high is a cartoon comedy  it ran at the same time as some other programs about school life  such as  teachers   my   years in the teaching profession lead me to believe that bromwell high  s satire is much closer to reality than is  teachers   the scramble to survive financially  the insightful students who can see right through their pathetic teachers  pomp  the pettiness of the whole situation  all remind me of the schools i knew and their students  when i saw the episode in which a student repeatedly tried to burn down the school  i immediately recalled          at           high  a classic line inspector i  m here to sack one of your teachers  student welcome to bromwell high  i expect that many adults of my age think that bromwell high is far fetched  what a pity that it isn  t    story of a man who has unnatural feelings for a pig  starts out with a opening scene that is a terrific example of absurd comedy  a formal orchestra audience is turned into an insane  violent mob by the crazy chantings of it  s singers  unfortunately it stays absurd the whole time with no general narrative eventually making it just too off putting  even those from the era should be turned off  the cryptic dialogue would make shakespeare seem easy to a third grader  on a technical level it  s better than you might think with some good cinematography by future great vilmos zsigmond  future stars sally kirkland and frederic forrest can be seen briefly    homelessness  or houselessness as george carlin stated  has been an issue for years but never a plan to help those on the street that were once considered human who did everything from going to school  work  or vote for the matter  most people think of the homeless as just a lost cause while worrying about things such as racism  the war on iraq  pressuring kids to succeed  technology  the elections  inflation  or worrying if they  ll be next to end up on the streets   br    br   but what if you were given a bet to live on the st'"
      ]
     },
     "execution_count": 5,
     "metadata": {},
     "output_type": "execute_result"
    }
   ],
   "source": [
    "all_text[:2000]"
   ]
  },
  {
   "cell_type": "code",
   "execution_count": 6,
   "metadata": {
    "collapsed": false,
    "deletable": true,
    "editable": true
   },
   "outputs": [
    {
     "data": {
      "text/plain": [
       "['bromwell',\n",
       " 'high',\n",
       " 'is',\n",
       " 'a',\n",
       " 'cartoon',\n",
       " 'comedy',\n",
       " 'it',\n",
       " 'ran',\n",
       " 'at',\n",
       " 'the',\n",
       " 'same',\n",
       " 'time',\n",
       " 'as',\n",
       " 'some',\n",
       " 'other',\n",
       " 'programs',\n",
       " 'about',\n",
       " 'school',\n",
       " 'life',\n",
       " 'such',\n",
       " 'as',\n",
       " 'teachers',\n",
       " 'my',\n",
       " 'years',\n",
       " 'in',\n",
       " 'the',\n",
       " 'teaching',\n",
       " 'profession',\n",
       " 'lead',\n",
       " 'me',\n",
       " 'to',\n",
       " 'believe',\n",
       " 'that',\n",
       " 'bromwell',\n",
       " 'high',\n",
       " 's',\n",
       " 'satire',\n",
       " 'is',\n",
       " 'much',\n",
       " 'closer',\n",
       " 'to',\n",
       " 'reality',\n",
       " 'than',\n",
       " 'is',\n",
       " 'teachers',\n",
       " 'the',\n",
       " 'scramble',\n",
       " 'to',\n",
       " 'survive',\n",
       " 'financially',\n",
       " 'the',\n",
       " 'insightful',\n",
       " 'students',\n",
       " 'who',\n",
       " 'can',\n",
       " 'see',\n",
       " 'right',\n",
       " 'through',\n",
       " 'their',\n",
       " 'pathetic',\n",
       " 'teachers',\n",
       " 'pomp',\n",
       " 'the',\n",
       " 'pettiness',\n",
       " 'of',\n",
       " 'the',\n",
       " 'whole',\n",
       " 'situation',\n",
       " 'all',\n",
       " 'remind',\n",
       " 'me',\n",
       " 'of',\n",
       " 'the',\n",
       " 'schools',\n",
       " 'i',\n",
       " 'knew',\n",
       " 'and',\n",
       " 'their',\n",
       " 'students',\n",
       " 'when',\n",
       " 'i',\n",
       " 'saw',\n",
       " 'the',\n",
       " 'episode',\n",
       " 'in',\n",
       " 'which',\n",
       " 'a',\n",
       " 'student',\n",
       " 'repeatedly',\n",
       " 'tried',\n",
       " 'to',\n",
       " 'burn',\n",
       " 'down',\n",
       " 'the',\n",
       " 'school',\n",
       " 'i',\n",
       " 'immediately',\n",
       " 'recalled',\n",
       " 'at',\n",
       " 'high']"
      ]
     },
     "execution_count": 6,
     "metadata": {},
     "output_type": "execute_result"
    }
   ],
   "source": [
    "words[:100]"
   ]
  },
  {
   "cell_type": "markdown",
   "metadata": {
    "deletable": true,
    "editable": true
   },
   "source": [
    "### Encoding the words\n",
    "\n",
    "The embedding lookup requires that we pass in integers to our network. The easiest way to do this is to create dictionaries that map the words in the vocabulary to integers. Then we can convert each of our reviews into integers so they can be passed into the network.\n",
    "\n",
    "> **Exercise:** Now you're going to encode the words with integers. Build a dictionary that maps words to integers. Later we're going to pad our input vectors with zeros, so make sure the integers **start at 1, not 0**.\n",
    "> Also, convert the reviews to integers and store the reviews in a new list called `reviews_ints`. "
   ]
  },
  {
   "cell_type": "code",
   "execution_count": 7,
   "metadata": {
    "collapsed": false,
    "deletable": true,
    "editable": true
   },
   "outputs": [],
   "source": [
    "# Create your dictionary that maps vocab words to integers here\n",
    "from collections import Counter\n",
    "word_counts = Counter(words)\n",
    "#print(word_counts)\n",
    "sorted_vocab = sorted(word_counts, key=word_counts.get, reverse=True)\n",
    "#print(sorted_vocab)\n",
    "#int_to_vocab = {ii+1: word for ii, word in enumerate(sorted_vocab)}\n",
    "#vocab_to_int = {word: ii for ii, word in int_to_vocab.items()}\n",
    "#print(int_to_vocab)\n",
    "#print(int_to_vocab.items())\n",
    "vocab_to_int = {word: ii for ii, word in enumerate(sorted_vocab, 1)}\n",
    "#print(vocab_to_int)\n",
    "\n",
    "# Convert the reviews to integers, same shape as reviews list, but with integers\n",
    "#print(reviews[:100])\n",
    "reviews_ints = []\n",
    "for review in reviews:\n",
    "    review_words = review.split()\n",
    "    #print(review_words[:100])\n",
    "    review_ints = [vocab_to_int[review_word] for review_word in review_words]\n",
    "    reviews_ints.append(review_ints)\n",
    "#print(reviews_ints[:5])"
   ]
  },
  {
   "cell_type": "markdown",
   "metadata": {
    "collapsed": false,
    "deletable": true,
    "editable": true
   },
   "source": [
    "### Encoding the labels\n",
    "\n",
    "Our labels are \"positive\" or \"negative\". To use these labels in our network, we need to convert them to 0 and 1.\n",
    "\n",
    "> **Exercise:** Convert labels from `positive` and `negative` to 1 and 0, respectively."
   ]
  },
  {
   "cell_type": "code",
   "execution_count": 8,
   "metadata": {
    "collapsed": false,
    "deletable": true,
    "editable": true
   },
   "outputs": [],
   "source": [
    "# Convert labels to 1s and 0s for 'positive' and 'negative'\n",
    "#print(labels[:100])\n",
    "labels = labels.split('\\n')\n",
    "#labels = [1 if label == 'positive' else 0 for label in labels]\n",
    "labels = np.array([1 if label == 'positive' else 0 for label in labels])\n",
    "#print(labels[:100])"
   ]
  },
  {
   "cell_type": "markdown",
   "metadata": {},
   "source": [
    "If you built `labels` correctly, you should see the next output."
   ]
  },
  {
   "cell_type": "code",
   "execution_count": 9,
   "metadata": {
    "collapsed": false,
    "deletable": true,
    "editable": true
   },
   "outputs": [
    {
     "name": "stdout",
     "output_type": "stream",
     "text": [
      "Zero-length reviews: 1\n",
      "Maximum review length: 2514\n"
     ]
    }
   ],
   "source": [
    "from collections import Counter\n",
    "review_lens = Counter([len(x) for x in reviews_ints])\n",
    "print(\"Zero-length reviews: {}\".format(review_lens[0]))\n",
    "print(\"Maximum review length: {}\".format(max(review_lens)))"
   ]
  },
  {
   "cell_type": "markdown",
   "metadata": {
    "deletable": true,
    "editable": true
   },
   "source": [
    "Okay, a couple issues here. We seem to have one review with zero length. And, the maximum review length is way too many steps for our RNN. Let's truncate to 200 steps. For reviews shorter than 200, we'll pad with 0s. For reviews longer than 200, we can truncate them to the first 200 characters.\n",
    "\n",
    "> **Exercise:** First, remove the review with zero length from the `reviews_ints` list."
   ]
  },
  {
   "cell_type": "code",
   "execution_count": 10,
   "metadata": {
    "collapsed": false,
    "deletable": true,
    "editable": true
   },
   "outputs": [
    {
     "name": "stdout",
     "output_type": "stream",
     "text": [
      "[[21829, 308, 6, 3, 1051, 207, 8, 2141, 32, 1, 171, 57, 15, 49, 81, 5847, 44, 382, 110, 140, 15, 5211, 60, 154, 9, 1, 4998, 5876, 475, 71, 5, 260, 12, 21829, 308, 13, 1982, 6, 74, 2403, 5, 614, 73, 6, 5211, 1, 24127, 5, 1987, 10238, 1, 5832, 1499, 36, 51, 66, 204, 145, 67, 1199, 5211, 20151, 1, 46357, 4, 1, 221, 883, 31, 3001, 71, 4, 1, 5805, 10, 686, 2, 67, 1499, 54, 10, 216, 1, 383, 9, 62, 3, 1408, 3686, 783, 5, 3496, 180, 1, 382, 10, 1213, 14000, 32, 308, 3, 349, 341, 2914, 10, 143, 127, 5, 7725, 30, 4, 129, 5211, 1408, 2331, 5, 21829, 308, 10, 528, 12, 109, 1452, 4, 60, 543, 102, 12, 21829, 308, 6, 227, 4146, 48, 3, 2217, 12, 8, 215, 23], [63, 4, 3, 125, 36, 47, 7516, 1397, 16, 3, 4193, 505, 45, 17, 3, 622, 134, 12, 6, 3, 1280, 457, 4, 1723, 207, 3, 10835, 7452, 300, 6, 667, 83, 35, 2116, 1086, 2997, 34, 1, 898, 52247, 4, 8, 13, 5114, 464, 8, 2667, 1723, 1, 221, 57, 17, 58, 794, 1297, 833, 228, 8, 43, 98, 123, 1470, 59, 147, 38, 1, 965, 142, 29, 667, 123, 1, 13895, 410, 61, 95, 1782, 306, 755, 5, 3, 819, 10536, 22, 3, 1725, 636, 8, 13, 128, 73, 21, 233, 102, 17, 49, 50, 618, 34, 685, 85, 31345, 31765, 685, 374, 3346, 11678, 2, 16804, 7988, 51, 29, 108, 3326], [22765, 42, 62207, 15, 706, 17631, 3394, 47, 77, 35, 1823, 16, 154, 19, 114, 3, 1306, 5, 336, 147, 22, 1, 857, 12, 70, 281, 1171, 399, 36, 120, 283, 38, 169, 5, 382, 158, 42, 2276, 16, 1, 541, 90, 78, 102, 4, 1, 3264, 15, 43, 3, 407, 1069, 136, 8059, 44, 182, 140, 15, 3043, 1, 320, 22, 4826, 27585, 346, 5, 3090, 2095, 1, 19161, 18698, 42, 8059, 46, 33, 236, 29, 370, 5, 130, 56, 22, 1, 1928, 7, 7, 19, 48, 46, 21, 70, 345, 3, 2099, 5, 408, 22, 1, 1928, 16, 3, 3125, 205, 1, 29028, 21, 281, 68, 38, 3, 340, 1, 700, 716, 3, 3839, 1230, 22, 1, 1491, 3, 1197, 2, 283, 21, 281, 2447, 5, 66, 48, 8, 13, 39, 5, 29, 3264, 12, 6, 22109, 11879, 13, 2019, 7, 7, 3701, 2820, 36, 4170, 36, 374, 15, 11879, 296, 3, 996, 125, 36, 47, 283, 9, 1, 176, 363, 6974, 5, 95, 3, 2099, 17, 3, 5007, 2934, 14615, 20629, 5, 66, 46, 25, 51, 408, 9, 1, 1928, 16, 3240, 490, 205, 1, 29028, 46, 11879, 2860, 25, 51, 80, 48, 25, 483, 17, 3, 685, 1149, 4, 228, 52, 4484, 1, 2099, 13, 22, 118, 11879, 6, 1347, 22, 1, 857, 17, 3, 18934, 22, 27, 3888, 5, 10168, 27, 175, 829, 118, 25, 51, 23, 1459, 123, 1, 6465, 25, 13, 345, 1, 13648, 29328, 34, 3, 32689, 101, 8, 13, 391, 22, 27, 11973, 118, 11879, 874, 81, 103, 577, 3, 240, 34, 1, 393, 4, 4654, 16410, 1817, 3745, 35, 1200, 3112, 36, 188, 4071, 160, 2287, 41, 340, 2, 41, 8918, 6823, 1984, 4316, 2, 32222, 8825, 2460, 36, 26, 454, 338, 5, 1, 1928, 33, 155, 4225, 11879, 215, 23, 25, 13, 24, 338, 5, 4440, 5924, 31044, 39, 25, 281, 120, 54, 111, 996, 118, 8, 13, 535, 42, 2719, 501, 42, 29, 548, 7, 7, 136, 1, 115, 2005, 198, 4654, 2, 11879, 285, 23, 1644, 5, 112, 10, 254, 110, 4389, 5, 29, 30, 4, 3701, 2820, 15731, 107, 118, 2538, 5, 111, 3, 207, 8, 286, 3, 4243, 488, 1060, 5, 27, 2734, 158, 140, 15, 7514, 11494, 184, 4566, 42, 19017, 16, 1, 541, 5, 121, 48, 8, 13, 39, 255, 141, 4518, 160, 2287, 8, 1, 370, 245, 42, 22, 1, 81, 495, 228, 3, 372, 2099, 39, 31, 996, 78, 80, 54, 33, 89, 23, 122, 48, 5, 80, 17, 67, 274, 277, 33, 142, 201, 8, 5, 1, 3264, 303, 4, 757, 8, 39, 17227, 274, 7, 7, 42, 277, 11, 20, 79, 5896, 21, 5, 336, 400], [4520, 505, 15, 3, 3345, 162, 8386, 1653, 6, 4840, 56, 17, 4518, 5637, 140, 11889, 5, 996, 4971, 2947, 4463, 566, 1201, 36, 6, 1518, 96, 3, 744, 4, 27926, 13, 5, 27, 3482, 9, 10629, 4, 8, 111, 3025, 5, 1, 1028, 15, 3, 4400, 82, 22, 2055, 6, 4463, 538, 2773, 7095, 39063, 41, 463, 1, 8386, 63995, 302, 123, 15, 4232, 19, 1667, 922, 1, 1653, 6, 6167, 20367, 34, 1, 980, 1757, 22477, 646, 25197, 27, 106, 11952, 13, 14535, 15475, 18344, 2460, 466, 21445, 36, 3267, 1, 6422, 1020, 45, 17, 2702, 2501, 33, 1306, 5, 2082, 1, 4518, 11865, 1498, 22, 3, 21128, 1653, 3198, 22, 35, 4319, 1067, 19, 136, 228, 27, 4686, 22477, 217, 1909, 35, 3217, 17599, 9, 1, 4151, 1967, 1111, 4, 1, 1653, 5630, 8, 6532, 83, 1, 1959, 118, 8, 8175, 5, 1, 1301, 204, 4014, 9, 1, 641, 4, 1, 35454, 5862, 17, 922, 9, 343, 6246, 1048, 29383, 9, 255, 16103, 119, 1985, 123, 259, 1, 695, 12123, 16, 1, 4829, 13, 15, 33, 12640, 336, 17, 57, 690, 608, 45, 7, 7, 82, 560, 458, 1, 1056, 271, 32059, 4520, 11, 330, 736, 5, 1, 6703, 557, 1666, 689, 4520, 14, 516, 34, 1436, 9158, 136, 281, 173, 39, 8, 13, 8344, 10, 51, 23, 133, 4520, 6, 100, 428, 4, 1530, 349, 8, 6, 440, 256, 24, 2687, 16, 1, 204, 988, 45, 4, 1, 287, 4520, 107, 10, 28, 108, 37, 227, 10, 165, 418, 11, 30, 1, 117, 43, 8, 47, 60, 1622, 112, 4, 1, 287, 17, 3, 324, 1667, 922, 6167, 35706, 93, 1, 6532, 161, 23, 25, 66, 1, 3217, 17599, 6245, 4, 1, 277, 1, 1155, 70, 264, 5, 1639, 1, 200, 4520, 17, 159, 1043, 1666, 494, 4, 1, 791, 1, 37334, 1115, 19393, 6, 118, 8, 2667, 363, 1, 130, 17, 3, 5275, 6343, 4404, 147, 2595, 982, 342, 41317, 54, 1, 922, 1107, 45, 42, 10938, 15, 1, 24171, 42, 46, 100, 4, 1, 3549, 26, 3025, 8, 13, 3, 531, 322, 12, 97, 28, 91, 16, 3, 85, 116, 1666, 494, 19, 76, 6852, 104, 13, 739, 410, 12250, 265, 1298, 3, 146, 574, 4, 2328, 42, 817, 42, 1055, 801, 11, 6, 3, 1026, 1405, 136, 1, 246, 12953, 112, 918, 30, 2155, 16, 1008, 229, 24, 12, 74, 559, 101, 1, 1653, 8175, 40, 13, 24, 15, 74, 8832, 15, 10, 195, 40, 142, 28, 77, 59, 54, 1, 2916, 409, 562, 182, 89, 23, 1237, 56, 12, 74, 17, 3, 170, 649, 4, 653, 5100, 10740, 1518, 44, 19, 40, 13, 43, 141, 1867, 127, 706, 4034, 15, 1, 45013, 12369, 3457, 865, 42870, 6, 144, 19, 64, 211, 3, 368, 4, 137, 1176, 59, 549, 231, 17017, 5, 43, 167, 3761, 9, 1, 958, 7, 7, 1, 340, 366, 2222, 310, 4, 4520, 506, 229, 136, 1, 178, 242, 2035, 748, 35, 1688, 522, 4, 908, 577, 3, 162, 622, 878, 703, 109, 52, 137, 17, 706, 4034, 15, 42870, 2127, 5, 2083, 45, 104, 13, 1185, 2196, 137, 1, 3770, 42, 159, 368, 4, 339, 2309, 577, 1, 33511, 136, 10, 61, 39, 5, 66, 11, 1688, 908, 10, 239, 24, 249, 10, 97, 848, 145, 3, 733, 287, 522, 584, 4, 4520, 15, 853, 1, 20, 47, 1943, 891, 17, 517, 7864, 7386, 1574, 2802, 10, 79, 133, 58, 52, 81, 73, 1, 2819, 1653, 2117, 298, 696, 23, 85, 342, 364, 17, 1, 81, 106, 4520, 2261, 11, 302, 3089, 4, 269, 9, 1, 10788, 1317, 13, 2283, 4, 879, 256, 10, 51, 102, 4, 760, 4, 429, 107, 73, 11, 37, 10, 11110, 12, 13, 3, 116, 2463, 1, 202, 137, 26, 3, 116, 739, 464, 1, 1041, 6, 539, 24, 74, 2284, 42, 1055, 6, 4835, 62, 6, 3, 879, 15, 10, 11110, 11, 97, 28, 77, 3, 183, 50, 20, 46, 91, 2861, 7, 7, 1, 360, 1205, 26, 2627, 46, 163, 2073, 1, 113, 215, 23, 85, 106, 57, 708, 2193, 669, 3977, 47, 301, 234, 8, 14, 3, 1295, 5, 318, 9, 11, 30, 57, 708, 2193, 566, 1201, 268, 153, 11335, 82, 30, 57, 708, 2193, 743, 1969, 268, 1794, 136, 2646, 1331, 743, 6, 345, 116, 5, 80, 40, 26, 937, 4, 81, 1061, 1563, 5, 167, 45, 16, 98, 7, 7, 4520, 6, 1, 90, 1666, 21083, 4, 1, 287, 4520, 107, 37, 227, 10, 418, 1, 990, 485, 8, 59, 46, 33, 70, 3, 223, 694, 1, 360, 1890, 451, 151, 23, 336, 150, 3, 20, 44, 3, 15947, 1653, 43, 1588, 23, 29, 11, 354, 42, 12250, 1457, 34, 1, 22900, 4520], [520, 119, 113, 34, 16410, 1817, 3745, 117, 885, 21565, 721, 10, 28, 124, 108, 2, 115, 137, 9, 1623, 7804, 26, 330, 5, 589, 1, 6193, 22, 386, 6, 3, 349, 15, 50, 15, 231, 9, 7514, 11494, 1, 191, 22, 9053, 6, 82, 880, 101, 111, 3593, 4, 111, 3, 31041, 3444, 45, 27, 1326, 2, 111, 12479, 1, 2371, 4, 29328, 11879, 24914, 33941, 10, 143, 3, 2371, 25, 549, 287, 164, 697, 4020, 20629, 3, 502, 38, 1, 299, 2648, 6607, 121, 6, 759, 127, 98, 15, 3, 1135, 5125, 36, 483, 5, 4191, 1, 6689, 27, 104, 6, 52, 10404, 73, 631, 1, 1519, 134, 2, 1, 134, 118, 1, 3264, 17322, 3, 14057, 2101, 26, 31, 57, 2184, 167, 16, 1, 2959, 134, 2, 1, 106, 192, 16238, 975, 30, 25640, 11, 18, 211, 128, 253, 57, 10, 66, 8, 62, 6, 179, 397]]\n",
      "[[21829, 308, 6, 3, 1051, 207, 8, 2141, 32, 1, 171, 57, 15, 49, 81, 5847, 44, 382, 110, 140, 15, 5211, 60, 154, 9, 1, 4998, 5876, 475, 71, 5, 260, 12, 21829, 308, 13, 1982, 6, 74, 2403, 5, 614, 73, 6, 5211, 1, 24127, 5, 1987, 10238, 1, 5832, 1499, 36, 51, 66, 204, 145, 67, 1199, 5211, 20151, 1, 46357, 4, 1, 221, 883, 31, 3001, 71, 4, 1, 5805, 10, 686, 2, 67, 1499, 54, 10, 216, 1, 383, 9, 62, 3, 1408, 3686, 783, 5, 3496, 180, 1, 382, 10, 1213, 14000, 32, 308, 3, 349, 341, 2914, 10, 143, 127, 5, 7725, 30, 4, 129, 5211, 1408, 2331, 5, 21829, 308, 10, 528, 12, 109, 1452, 4, 60, 543, 102, 12, 21829, 308, 6, 227, 4146, 48, 3, 2217, 12, 8, 215, 23], [63, 4, 3, 125, 36, 47, 7516, 1397, 16, 3, 4193, 505, 45, 17, 3, 622, 134, 12, 6, 3, 1280, 457, 4, 1723, 207, 3, 10835, 7452, 300, 6, 667, 83, 35, 2116, 1086, 2997, 34, 1, 898, 52247, 4, 8, 13, 5114, 464, 8, 2667, 1723, 1, 221, 57, 17, 58, 794, 1297, 833, 228, 8, 43, 98, 123, 1470, 59, 147, 38, 1, 965, 142, 29, 667, 123, 1, 13895, 410, 61, 95, 1782, 306, 755, 5, 3, 819, 10536, 22, 3, 1725, 636, 8, 13, 128, 73, 21, 233, 102, 17, 49, 50, 618, 34, 685, 85, 31345, 31765, 685, 374, 3346, 11678, 2, 16804, 7988, 51, 29, 108, 3326], [22765, 42, 62207, 15, 706, 17631, 3394, 47, 77, 35, 1823, 16, 154, 19, 114, 3, 1306, 5, 336, 147, 22, 1, 857, 12, 70, 281, 1171, 399, 36, 120, 283, 38, 169, 5, 382, 158, 42, 2276, 16, 1, 541, 90, 78, 102, 4, 1, 3264, 15, 43, 3, 407, 1069, 136, 8059, 44, 182, 140, 15, 3043, 1, 320, 22, 4826, 27585, 346, 5, 3090, 2095, 1, 19161, 18698, 42, 8059, 46, 33, 236, 29, 370, 5, 130, 56, 22, 1, 1928, 7, 7, 19, 48, 46, 21, 70, 345, 3, 2099, 5, 408, 22, 1, 1928, 16, 3, 3125, 205, 1, 29028, 21, 281, 68, 38, 3, 340, 1, 700, 716, 3, 3839, 1230, 22, 1, 1491, 3, 1197, 2, 283, 21, 281, 2447, 5, 66, 48, 8, 13, 39, 5, 29, 3264, 12, 6, 22109, 11879, 13, 2019, 7, 7, 3701, 2820, 36, 4170, 36, 374, 15, 11879, 296, 3, 996, 125, 36, 47, 283, 9, 1, 176, 363, 6974, 5, 95, 3, 2099, 17, 3, 5007, 2934, 14615, 20629, 5, 66, 46, 25, 51, 408, 9, 1, 1928, 16, 3240, 490, 205, 1, 29028, 46, 11879, 2860, 25, 51, 80, 48, 25, 483, 17, 3, 685, 1149, 4, 228, 52, 4484, 1, 2099, 13, 22, 118, 11879, 6, 1347, 22, 1, 857, 17, 3, 18934, 22, 27, 3888, 5, 10168, 27, 175, 829, 118, 25, 51, 23, 1459, 123, 1, 6465, 25, 13, 345, 1, 13648, 29328, 34, 3, 32689, 101, 8, 13, 391, 22, 27, 11973, 118, 11879, 874, 81, 103, 577, 3, 240, 34, 1, 393, 4, 4654, 16410, 1817, 3745, 35, 1200, 3112, 36, 188, 4071, 160, 2287, 41, 340, 2, 41, 8918, 6823, 1984, 4316, 2, 32222, 8825, 2460, 36, 26, 454, 338, 5, 1, 1928, 33, 155, 4225, 11879, 215, 23, 25, 13, 24, 338, 5, 4440, 5924, 31044, 39, 25, 281, 120, 54, 111, 996, 118, 8, 13, 535, 42, 2719, 501, 42, 29, 548, 7, 7, 136, 1, 115, 2005, 198, 4654, 2, 11879, 285, 23, 1644, 5, 112, 10, 254, 110, 4389, 5, 29, 30, 4, 3701, 2820, 15731, 107, 118, 2538, 5, 111, 3, 207, 8, 286, 3, 4243, 488, 1060, 5, 27, 2734, 158, 140, 15, 7514, 11494, 184, 4566, 42, 19017, 16, 1, 541, 5, 121, 48, 8, 13, 39, 255, 141, 4518, 160, 2287, 8, 1, 370, 245, 42, 22, 1, 81, 495, 228, 3, 372, 2099, 39, 31, 996, 78, 80, 54, 33, 89, 23, 122, 48, 5, 80, 17, 67, 274, 277, 33, 142, 201, 8, 5, 1, 3264, 303, 4, 757, 8, 39, 17227, 274, 7, 7, 42, 277, 11, 20, 79, 5896, 21, 5, 336, 400], [4520, 505, 15, 3, 3345, 162, 8386, 1653, 6, 4840, 56, 17, 4518, 5637, 140, 11889, 5, 996, 4971, 2947, 4463, 566, 1201, 36, 6, 1518, 96, 3, 744, 4, 27926, 13, 5, 27, 3482, 9, 10629, 4, 8, 111, 3025, 5, 1, 1028, 15, 3, 4400, 82, 22, 2055, 6, 4463, 538, 2773, 7095, 39063, 41, 463, 1, 8386, 63995, 302, 123, 15, 4232, 19, 1667, 922, 1, 1653, 6, 6167, 20367, 34, 1, 980, 1757, 22477, 646, 25197, 27, 106, 11952, 13, 14535, 15475, 18344, 2460, 466, 21445, 36, 3267, 1, 6422, 1020, 45, 17, 2702, 2501, 33, 1306, 5, 2082, 1, 4518, 11865, 1498, 22, 3, 21128, 1653, 3198, 22, 35, 4319, 1067, 19, 136, 228, 27, 4686, 22477, 217, 1909, 35, 3217, 17599, 9, 1, 4151, 1967, 1111, 4, 1, 1653, 5630, 8, 6532, 83, 1, 1959, 118, 8, 8175, 5, 1, 1301, 204, 4014, 9, 1, 641, 4, 1, 35454, 5862, 17, 922, 9, 343, 6246, 1048, 29383, 9, 255, 16103, 119, 1985, 123, 259, 1, 695, 12123, 16, 1, 4829, 13, 15, 33, 12640, 336, 17, 57, 690, 608, 45, 7, 7, 82, 560, 458, 1, 1056, 271, 32059, 4520, 11, 330, 736, 5, 1, 6703, 557, 1666, 689, 4520, 14, 516, 34, 1436, 9158, 136, 281, 173, 39, 8, 13, 8344, 10, 51, 23, 133, 4520, 6, 100, 428, 4, 1530, 349, 8, 6, 440, 256, 24, 2687, 16, 1, 204, 988, 45, 4, 1, 287, 4520, 107, 10, 28, 108, 37, 227, 10, 165, 418, 11, 30, 1, 117, 43, 8, 47, 60, 1622, 112, 4, 1, 287, 17, 3, 324, 1667, 922, 6167, 35706, 93, 1, 6532, 161, 23, 25, 66, 1, 3217, 17599, 6245, 4, 1, 277, 1, 1155, 70, 264, 5, 1639, 1, 200, 4520, 17, 159, 1043, 1666, 494, 4, 1, 791, 1, 37334, 1115, 19393, 6, 118, 8, 2667, 363, 1, 130, 17, 3, 5275, 6343, 4404, 147, 2595, 982, 342, 41317, 54, 1, 922, 1107, 45, 42, 10938, 15, 1, 24171, 42, 46, 100, 4, 1, 3549, 26, 3025, 8, 13, 3, 531, 322, 12, 97, 28, 91, 16, 3, 85, 116, 1666, 494, 19, 76, 6852, 104, 13, 739, 410, 12250, 265, 1298, 3, 146, 574, 4, 2328, 42, 817, 42, 1055, 801, 11, 6, 3, 1026, 1405, 136, 1, 246, 12953, 112, 918, 30, 2155, 16, 1008, 229, 24, 12, 74, 559, 101, 1, 1653, 8175, 40, 13, 24, 15, 74, 8832, 15, 10, 195, 40, 142, 28, 77, 59, 54, 1, 2916, 409, 562, 182, 89, 23, 1237, 56, 12, 74, 17, 3, 170, 649, 4, 653, 5100, 10740, 1518, 44, 19, 40, 13, 43, 141, 1867, 127, 706, 4034, 15, 1, 45013, 12369, 3457, 865, 42870, 6, 144, 19, 64, 211, 3, 368, 4, 137, 1176, 59, 549, 231, 17017, 5, 43, 167, 3761, 9, 1, 958, 7, 7, 1, 340, 366, 2222, 310, 4, 4520, 506, 229, 136, 1, 178, 242, 2035, 748, 35, 1688, 522, 4, 908, 577, 3, 162, 622, 878, 703, 109, 52, 137, 17, 706, 4034, 15, 42870, 2127, 5, 2083, 45, 104, 13, 1185, 2196, 137, 1, 3770, 42, 159, 368, 4, 339, 2309, 577, 1, 33511, 136, 10, 61, 39, 5, 66, 11, 1688, 908, 10, 239, 24, 249, 10, 97, 848, 145, 3, 733, 287, 522, 584, 4, 4520, 15, 853, 1, 20, 47, 1943, 891, 17, 517, 7864, 7386, 1574, 2802, 10, 79, 133, 58, 52, 81, 73, 1, 2819, 1653, 2117, 298, 696, 23, 85, 342, 364, 17, 1, 81, 106, 4520, 2261, 11, 302, 3089, 4, 269, 9, 1, 10788, 1317, 13, 2283, 4, 879, 256, 10, 51, 102, 4, 760, 4, 429, 107, 73, 11, 37, 10, 11110, 12, 13, 3, 116, 2463, 1, 202, 137, 26, 3, 116, 739, 464, 1, 1041, 6, 539, 24, 74, 2284, 42, 1055, 6, 4835, 62, 6, 3, 879, 15, 10, 11110, 11, 97, 28, 77, 3, 183, 50, 20, 46, 91, 2861, 7, 7, 1, 360, 1205, 26, 2627, 46, 163, 2073, 1, 113, 215, 23, 85, 106, 57, 708, 2193, 669, 3977, 47, 301, 234, 8, 14, 3, 1295, 5, 318, 9, 11, 30, 57, 708, 2193, 566, 1201, 268, 153, 11335, 82, 30, 57, 708, 2193, 743, 1969, 268, 1794, 136, 2646, 1331, 743, 6, 345, 116, 5, 80, 40, 26, 937, 4, 81, 1061, 1563, 5, 167, 45, 16, 98, 7, 7, 4520, 6, 1, 90, 1666, 21083, 4, 1, 287, 4520, 107, 37, 227, 10, 418, 1, 990, 485, 8, 59, 46, 33, 70, 3, 223, 694, 1, 360, 1890, 451, 151, 23, 336, 150, 3, 20, 44, 3, 15947, 1653, 43, 1588, 23, 29, 11, 354, 42, 12250, 1457, 34, 1, 22900, 4520], [520, 119, 113, 34, 16410, 1817, 3745, 117, 885, 21565, 721, 10, 28, 124, 108, 2, 115, 137, 9, 1623, 7804, 26, 330, 5, 589, 1, 6193, 22, 386, 6, 3, 349, 15, 50, 15, 231, 9, 7514, 11494, 1, 191, 22, 9053, 6, 82, 880, 101, 111, 3593, 4, 111, 3, 31041, 3444, 45, 27, 1326, 2, 111, 12479, 1, 2371, 4, 29328, 11879, 24914, 33941, 10, 143, 3, 2371, 25, 549, 287, 164, 697, 4020, 20629, 3, 502, 38, 1, 299, 2648, 6607, 121, 6, 759, 127, 98, 15, 3, 1135, 5125, 36, 483, 5, 4191, 1, 6689, 27, 104, 6, 52, 10404, 73, 631, 1, 1519, 134, 2, 1, 134, 118, 1, 3264, 17322, 3, 14057, 2101, 26, 31, 57, 2184, 167, 16, 1, 2959, 134, 2, 1, 106, 192, 16238, 975, 30, 25640, 11, 18, 211, 128, 253, 57, 10, 66, 8, 62, 6, 179, 397]]\n"
     ]
    }
   ],
   "source": [
    "# Filter out that review with 0 length\n",
    "print(reviews_ints[:5])\n",
    "\n",
    "reviews_ints = [x for x in reviews_ints if len(x) > 0]\n",
    "#reviews_ints = [each for each in reviews_ints if len(each) > 0]\n",
    "print(reviews_ints[:5])"
   ]
  },
  {
   "cell_type": "markdown",
   "metadata": {
    "deletable": true,
    "editable": true
   },
   "source": [
    "> **Exercise:** Now, create an array `features` that contains the data we'll pass to the network. The data should come from `review_ints`, since we want to feed integers to the network. Each row should be 200 elements long. For reviews shorter than 200 words, left pad with 0s. That is, if the review is `['best', 'movie', 'ever']`, `[117, 18, 128]` as integers, the row will look like `[0, 0, 0, ..., 0, 117, 18, 128]`. For reviews longer than 200, use on the first 200 words as the feature vector.\n",
    "\n",
    "This isn't trivial and there are a bunch of ways to do this. But, if you're going to be building your own deep learning networks, you're going to have to get used to preparing your data.\n",
    "\n"
   ]
  },
  {
   "cell_type": "code",
   "execution_count": 11,
   "metadata": {
    "collapsed": false,
    "deletable": true,
    "editable": true
   },
   "outputs": [],
   "source": [
    "# seq_len = 4\n",
    "# list = [[1,2,3],[1,2,3,4,5],[1],[1,2,3,4,5,6,7]]\n",
    "# list2 = np.zeros((len(list), seq_len), dtype=int)\n",
    "# for i, row in enumerate(list):\n",
    "#     print(list[i])\n",
    "#     print(list[i][-seq_len:])\n",
    "#     print(list2[i])\n",
    "#     print(list2[i, -len(row):])\n",
    "#     print(np.array(row)[:seq_len])\n",
    "#     print(\"-----\")\n",
    "#reviews_ints = np.pad(reviews_ints, (200,), 'constant', constant_values=0)\n",
    "\n",
    "seq_len = 200\n",
    "features = np.zeros((len(reviews), seq_len), dtype=int)\n",
    "for i, row in enumerate(reviews_ints):\n",
    "    features[i, -len(row):] = np.array(row)[:seq_len]"
   ]
  },
  {
   "cell_type": "markdown",
   "metadata": {},
   "source": [
    "If you build features correctly, it should look like that cell output below."
   ]
  },
  {
   "cell_type": "code",
   "execution_count": 12,
   "metadata": {
    "collapsed": false,
    "deletable": true,
    "editable": true
   },
   "outputs": [
    {
     "data": {
      "text/plain": [
       "array([[    0,     0,     0,     0,     0,     0,     0,     0,     0,\n",
       "            0,     0,     0,     0,     0,     0,     0,     0,     0,\n",
       "            0,     0,     0,     0,     0,     0,     0,     0,     0,\n",
       "            0,     0,     0,     0,     0,     0,     0,     0,     0,\n",
       "            0,     0,     0,     0,     0,     0,     0,     0,     0,\n",
       "            0,     0,     0,     0,     0,     0,     0,     0,     0,\n",
       "            0,     0,     0,     0,     0,     0, 21829,   308,     6,\n",
       "            3,  1051,   207,     8,  2141,    32,     1,   171,    57,\n",
       "           15,    49,    81,  5847,    44,   382,   110,   140,    15,\n",
       "         5211,    60,   154,     9,     1,  4998,  5876,   475,    71,\n",
       "            5,   260,    12, 21829,   308,    13,  1982,     6,    74,\n",
       "         2403],\n",
       "       [    0,     0,     0,     0,     0,     0,     0,     0,     0,\n",
       "            0,     0,     0,     0,     0,     0,     0,     0,     0,\n",
       "            0,     0,     0,     0,     0,     0,     0,     0,     0,\n",
       "            0,     0,     0,     0,     0,     0,     0,     0,     0,\n",
       "            0,     0,     0,     0,     0,     0,     0,     0,     0,\n",
       "            0,     0,     0,     0,     0,     0,     0,     0,     0,\n",
       "            0,     0,     0,     0,     0,     0,     0,     0,     0,\n",
       "            0,     0,     0,     0,     0,     0,     0,     0,     0,\n",
       "            0,     0,     0,     0,     0,     0,     0,     0,     0,\n",
       "            0,     0,     0,     0,     0,    63,     4,     3,   125,\n",
       "           36,    47,  7516,  1397,    16,     3,  4193,   505,    45,\n",
       "           17],\n",
       "       [22765,    42, 62207,    15,   706, 17631,  3394,    47,    77,\n",
       "           35,  1823,    16,   154,    19,   114,     3,  1306,     5,\n",
       "          336,   147,    22,     1,   857,    12,    70,   281,  1171,\n",
       "          399,    36,   120,   283,    38,   169,     5,   382,   158,\n",
       "           42,  2276,    16,     1,   541,    90,    78,   102,     4,\n",
       "            1,  3264,    15,    43,     3,   407,  1069,   136,  8059,\n",
       "           44,   182,   140,    15,  3043,     1,   320,    22,  4826,\n",
       "        27585,   346,     5,  3090,  2095,     1, 19161, 18698,    42,\n",
       "         8059,    46,    33,   236,    29,   370,     5,   130,    56,\n",
       "           22,     1,  1928,     7,     7,    19,    48,    46,    21,\n",
       "           70,   345,     3,  2099,     5,   408,    22,     1,  1928,\n",
       "           16],\n",
       "       [ 4520,   505,    15,     3,  3345,   162,  8386,  1653,     6,\n",
       "         4840,    56,    17,  4518,  5637,   140, 11889,     5,   996,\n",
       "         4971,  2947,  4463,   566,  1201,    36,     6,  1518,    96,\n",
       "            3,   744,     4, 27926,    13,     5,    27,  3482,     9,\n",
       "        10629,     4,     8,   111,  3025,     5,     1,  1028,    15,\n",
       "            3,  4400,    82,    22,  2055,     6,  4463,   538,  2773,\n",
       "         7095, 39063,    41,   463,     1,  8386, 63995,   302,   123,\n",
       "           15,  4232,    19,  1667,   922,     1,  1653,     6,  6167,\n",
       "        20367,    34,     1,   980,  1757, 22477,   646, 25197,    27,\n",
       "          106, 11952,    13, 14535, 15475, 18344,  2460,   466, 21445,\n",
       "           36,  3267,     1,  6422,  1020,    45,    17,  2702,  2501,\n",
       "           33],\n",
       "       [    0,     0,     0,     0,     0,     0,     0,     0,     0,\n",
       "            0,     0,     0,     0,     0,     0,     0,     0,     0,\n",
       "            0,     0,     0,     0,     0,     0,     0,     0,     0,\n",
       "            0,     0,     0,     0,     0,     0,     0,     0,     0,\n",
       "            0,     0,     0,     0,     0,     0,     0,     0,     0,\n",
       "            0,     0,     0,     0,     0,   520,   119,   113,    34,\n",
       "        16410,  1817,  3745,   117,   885, 21565,   721,    10,    28,\n",
       "          124,   108,     2,   115,   137,     9,  1623,  7804,    26,\n",
       "          330,     5,   589,     1,  6193,    22,   386,     6,     3,\n",
       "          349,    15,    50,    15,   231,     9,  7514, 11494,     1,\n",
       "          191,    22,  9053,     6,    82,   880,   101,   111,  3593,\n",
       "            4],\n",
       "       [    0,     0,     0,     0,     0,     0,     0,     0,     0,\n",
       "            0,     0,     0,     0,     0,     0,     0,     0,     0,\n",
       "            0,     0,     0,     0,     0,     0,     0,     0,     0,\n",
       "            0,     0,     0,     0,     0,     0,     0,     0,     0,\n",
       "            0,     0,     0,     0,     0,     0,     0,     0,     0,\n",
       "            0,     0,     0,     0,     0,     0,     0,     0,     0,\n",
       "           11,    20,  3649,   141,    10,   423,    23,   272,    60,\n",
       "         4366,    22,    32,    84,  3303,    22,     1,   172,     4,\n",
       "            1,   952,   507,    11,  4994,  5396,     5,   574,     4,\n",
       "         1154,    54,    53,  5321,     1,   261,    17,    41,   952,\n",
       "          125,    59,     1,   711,   137,   379,   626,    15,   111,\n",
       "         1512],\n",
       "       [    0,     0,     0,     0,     0,     0,     0,     0,     0,\n",
       "            0,     0,     0,     0,     0,     0,     0,     0,     0,\n",
       "            0,     0,     0,     0,     0,     0,     0,     0,     0,\n",
       "            0,     0,     0,     0,     0,     0,     0,     0,     0,\n",
       "            0,     0,     0,     0,     0,     0,     0,     0,     0,\n",
       "            0,     0,     0,     0,     0,     0,     0,     0,     0,\n",
       "            0,     0,     0,     0,     0,     0,     0,     0,     0,\n",
       "            0,     0,     0,     0,     0,     0,     0,     0,     0,\n",
       "            0,     0,     0,     0,    11,     6,   693,     1,    90,\n",
       "         2160,    20, 11790,     1,  2820,  5196,   249,    92,  3007,\n",
       "            8,   126,    24,   201,     3,   802,   634,     4, 22765,\n",
       "         1001],\n",
       "       [    0,     0,     0,     0,     0,     0,     0,     0,     0,\n",
       "            0,     0,     0,     0,     0,     0,     0,     0,     0,\n",
       "            0,     0,     0,     0,     0,     0,     0,     0,     0,\n",
       "            0,     0,     0,     0,     0,     0,     0,     0,     0,\n",
       "            0,     0,     0,     0,     0,     0,     0,     0,     0,\n",
       "            0,     0,   786,   295,    10,   122,    11,     6,   419,\n",
       "            5,    29,    35,   482,    20,    19,  1284,    33,   142,\n",
       "           28,  2663,    45,  1842,    32,     1,  2784,    37,    78,\n",
       "           97,  2441,    67,  3963,    45,     2,    24,   105,   256,\n",
       "            1,   134,  1574,     2, 12411,   451,    14,   319,    11,\n",
       "           63,     6,    98,  1323,     5,   105,     1,  3775,     4,\n",
       "            3],\n",
       "       [    0,     0,     0,     0,     0,     0,     0,     0,     0,\n",
       "            0,     0,     0,     0,     0,     0,     0,     0,     0,\n",
       "            0,     0,     0,     0,     0,     0,     0,     0,     0,\n",
       "            0,     0,     0,     0,     0,     0,     0,     0,     0,\n",
       "            0,     0,     0,     0,     0,     0,     0,     0,     0,\n",
       "            0,     0,     0,     0,     0,     0,     0,     0,     0,\n",
       "            0,     0,     0,     0,     0,     0,     0,     0,     0,\n",
       "            0,     0,     0,     0,     0,     0,     0,     0,     0,\n",
       "            0,     0,     0,     0,     0,     0,     0,    11,     6,\n",
       "           24,     1,   779,  3701,  2820,    20,     8,    14,    74,\n",
       "          325,  2734,    73,    90,     4,    27,    99,     2,   165,\n",
       "           68],\n",
       "       [   54,    10,    14,   116,    60,   798,   552,    71,   364,\n",
       "            5,     1,   731,     5,    66,  8144,     8,    14,    30,\n",
       "            4,   109,    99,    10,   293,    17,    60,   798,    19,\n",
       "           11,    14,     1,    64,    30,    69,  2506,    45,     4,\n",
       "          234,    93,    10,    68,   114,   108,  8144,   363,    43,\n",
       "         1009,     2,    10,    97,    28,  1431,    45,     1,   357,\n",
       "            4,    60,   110,   205,     8,    48,     3,  1929, 11055,\n",
       "            2,  2131,   354,   412,     4,    13,  6628,     2,  2981,\n",
       "         5173,  2126,  1366,     6,    30,     4,    60,   502,   875,\n",
       "           19,  8144,     6,    34,   227,     1,   247,   412,     4,\n",
       "          582,     4,    27,   599,     9,     1, 13891,   395,     4,\n",
       "        14105]])"
      ]
     },
     "execution_count": 12,
     "metadata": {},
     "output_type": "execute_result"
    }
   ],
   "source": [
    "features[:10,:100]"
   ]
  },
  {
   "cell_type": "markdown",
   "metadata": {
    "deletable": true,
    "editable": true
   },
   "source": [
    "## Training, Validation, Test\n",
    "\n"
   ]
  },
  {
   "cell_type": "markdown",
   "metadata": {
    "deletable": true,
    "editable": true
   },
   "source": [
    "With our data in nice shape, we'll split it into training, validation, and test sets.\n",
    "\n",
    "> **Exercise:** Create the training, validation, and test sets here. You'll need to create sets for the features and the labels, `train_x` and `train_y` for example. Define a split fraction, `split_frac` as the fraction of data to keep in the training set. Usually this is set to 0.8 or 0.9. The rest of the data will be split in half to create the validation and testing data."
   ]
  },
  {
   "cell_type": "code",
   "execution_count": 13,
   "metadata": {
    "collapsed": false,
    "deletable": true,
    "editable": true
   },
   "outputs": [
    {
     "name": "stdout",
     "output_type": "stream",
     "text": [
      "\t\t\tFeature Shapes:\n",
      "Train set: \t\t(20000, 200) \n",
      "Validation set: \t(2500, 200) \n",
      "Test set: \t\t(2501, 200)\n"
     ]
    }
   ],
   "source": [
    "split_frac = 0.8\n",
    "split_idx = int(len(features)*split_frac)\n",
    "train_x, val_x = features[:split_idx], features[split_idx:]\n",
    "train_y, val_y = labels[:split_idx], labels[split_idx:]\n",
    "\n",
    "test_idx = int(len(val_x)/2)\n",
    "val_x, test_x = val_x[:test_idx], val_x[test_idx:]\n",
    "val_y, test_y = val_y[:test_idx], val_y[test_idx:]\n",
    "\n",
    "print(\"\\t\\t\\tFeature Shapes:\")\n",
    "print(\"Train set: \\t\\t{}\".format(train_x.shape), \n",
    "      \"\\nValidation set: \\t{}\".format(val_x.shape),\n",
    "      \"\\nTest set: \\t\\t{}\".format(test_x.shape))"
   ]
  },
  {
   "cell_type": "markdown",
   "metadata": {
    "deletable": true,
    "editable": true
   },
   "source": [
    "With train, validation, and text fractions of 0.8, 0.1, 0.1, the final shapes should look like:\n",
    "```\n",
    "                    Feature Shapes:\n",
    "Train set: \t\t (20000, 200) \n",
    "Validation set: \t(2500, 200) \n",
    "Test set: \t\t  (2501, 200)\n",
    "```"
   ]
  },
  {
   "cell_type": "markdown",
   "metadata": {
    "deletable": true,
    "editable": true
   },
   "source": [
    "## Build the graph\n",
    "\n",
    "Here, we'll build the graph. First up, defining the hyperparameters.\n",
    "\n",
    "* `lstm_size`: Number of units in the hidden layers in the LSTM cells. Usually larger is better performance wise. Common values are 128, 256, 512, etc.\n",
    "* `lstm_layers`: Number of LSTM layers in the network. I'd start with 1, then add more if I'm underfitting.\n",
    "* `batch_size`: The number of reviews to feed the network in one training pass. Typically this should be set as high as you can go without running out of memory.\n",
    "* `learning_rate`: Learning rate"
   ]
  },
  {
   "cell_type": "code",
   "execution_count": 14,
   "metadata": {
    "collapsed": true,
    "deletable": true,
    "editable": true
   },
   "outputs": [],
   "source": [
    "lstm_size = 256\n",
    "lstm_layers = 1\n",
    "batch_size = 100\n",
    "learning_rate = 0.001"
   ]
  },
  {
   "cell_type": "markdown",
   "metadata": {
    "deletable": true,
    "editable": true
   },
   "source": [
    "For the network itself, we'll be passing in our 200 element long review vectors. Each batch will be `batch_size` vectors. We'll also be using dropout on the LSTM layer, so we'll make a placeholder for the keep probability."
   ]
  },
  {
   "cell_type": "markdown",
   "metadata": {
    "deletable": true,
    "editable": true
   },
   "source": [
    "> **Exercise:** Create the `inputs_`, `labels_`, and drop out `keep_prob` placeholders using `tf.placeholder`. `labels_` needs to be two-dimensional to work with some functions later.  Since `keep_prob` is a scalar (a 0-dimensional tensor), you shouldn't provide a size to `tf.placeholder`."
   ]
  },
  {
   "cell_type": "code",
   "execution_count": 15,
   "metadata": {
    "collapsed": false,
    "deletable": true,
    "editable": true
   },
   "outputs": [],
   "source": [
    "n_words = len(sorted_vocab)\n",
    "\n",
    "# Create the graph object\n",
    "graph = tf.Graph()\n",
    "# Add nodes to the graph\n",
    "with graph.as_default():\n",
    "    inputs_ = tf.placeholder(tf.int32, [None, None], name='iputs')\n",
    "    labels_ = tf.placeholder(tf.int32, [None, None], name='labels')\n",
    "    keep_prob = tf.placeholder(tf.float32, name='keep_prob')"
   ]
  },
  {
   "cell_type": "markdown",
   "metadata": {
    "deletable": true,
    "editable": true
   },
   "source": [
    "### Embedding\n",
    "\n",
    "Now we'll add an embedding layer. We need to do this because there are 74000 words in our vocabulary. It is massively inefficient to one-hot encode our classes here. You should remember dealing with this problem from the word2vec lesson. Instead of one-hot encoding, we can have an embedding layer and use that layer as a lookup table. You could train an embedding layer using word2vec, then load it here. But, it's fine to just make a new layer and let the network learn the weights.\n",
    "\n",
    "> **Exercise:** Create the embedding lookup matrix as a `tf.Variable`. Use that embedding matrix to get the embedded vectors to pass to the LSTM cell with [`tf.nn.embedding_lookup`](https://www.tensorflow.org/api_docs/python/tf/nn/embedding_lookup). This function takes the embedding matrix and an input tensor, such as the review vectors. Then, it'll return another tensor with the embedded vectors. So, if the embedding layer has 200 units, the function will return a tensor with size [batch_size, 200].\n",
    "\n"
   ]
  },
  {
   "cell_type": "code",
   "execution_count": 16,
   "metadata": {
    "collapsed": false,
    "deletable": true,
    "editable": true
   },
   "outputs": [],
   "source": [
    "# Size of the embedding vectors (number of units in the embedding layer)\n",
    "embed_size = 300 \n",
    "\n",
    "with graph.as_default():\n",
    "    embedding = tf.Variable(tf.random_uniform((n_words, embed_size), -1, 1))\n",
    "    embed = tf.nn.embedding_lookup(embedding, inputs_)"
   ]
  },
  {
   "cell_type": "markdown",
   "metadata": {
    "deletable": true,
    "editable": true
   },
   "source": [
    "### LSTM cell\n",
    "\n",
    "<img src=\"assets/network_diagram.png\" width=400px>\n",
    "\n",
    "Next, we'll create our LSTM cells to use in the recurrent network ([TensorFlow documentation](https://www.tensorflow.org/api_docs/python/tf/contrib/rnn)). Here we are just defining what the cells look like. This isn't actually building the graph, just defining the type of cells we want in our graph.\n",
    "\n",
    "To create a basic LSTM cell for the graph, you'll want to use `tf.contrib.rnn.BasicLSTMCell`. Looking at the function documentation:\n",
    "\n",
    "```\n",
    "tf.contrib.rnn.BasicLSTMCell(num_units, forget_bias=1.0, input_size=None, state_is_tuple=True, activation=<function tanh at 0x109f1ef28>)\n",
    "```\n",
    "\n",
    "you can see it takes a parameter called `num_units`, the number of units in the cell, called `lstm_size` in this code. So then, you can write something like \n",
    "\n",
    "```\n",
    "lstm = tf.contrib.rnn.BasicLSTMCell(num_units)\n",
    "```\n",
    "\n",
    "to create an LSTM cell with `num_units`. Next, you can add dropout to the cell with `tf.contrib.rnn.DropoutWrapper`. This just wraps the cell in another cell, but with dropout added to the inputs and/or outputs. It's a really convenient way to make your network better with almost no effort! So you'd do something like\n",
    "\n",
    "```\n",
    "drop = tf.contrib.rnn.DropoutWrapper(cell, output_keep_prob=keep_prob)\n",
    "```\n",
    "\n",
    "Most of the time, you're network will have better performance with more layers. That's sort of the magic of deep learning, adding more layers allows the network to learn really complex relationships. Again, there is a simple way to create multiple layers of LSTM cells with `tf.contrib.rnn.MultiRNNCell`:\n",
    "\n",
    "```\n",
    "cell = tf.contrib.rnn.MultiRNNCell([drop] * lstm_layers)\n",
    "```\n",
    "\n",
    "Here, `[drop] * lstm_layers` creates a list of cells (`drop`) that is `lstm_layers` long. The `MultiRNNCell` wrapper builds this into multiple layers of RNN cells, one for each cell in the list.\n",
    "\n",
    "So the final cell you're using in the network is actually multiple (or just one) LSTM cells with dropout. But it all works the same from an achitectural viewpoint, just a more complicated graph in the cell.\n",
    "\n",
    "> **Exercise:** Below, use `tf.contrib.rnn.BasicLSTMCell` to create an LSTM cell. Then, add drop out to it with `tf.contrib.rnn.DropoutWrapper`. Finally, create multiple LSTM layers with `tf.contrib.rnn.MultiRNNCell`.\n",
    "\n",
    "Here is [a tutorial on building RNNs](https://www.tensorflow.org/tutorials/recurrent) that will help you out.\n"
   ]
  },
  {
   "cell_type": "code",
   "execution_count": 17,
   "metadata": {
    "collapsed": false,
    "deletable": true,
    "editable": true
   },
   "outputs": [],
   "source": [
    "with graph.as_default():\n",
    "    # Your basic LSTM cell\n",
    "    lstm = tf.contrib.rnn.BasicLSTMCell(lstm_size)\n",
    "    \n",
    "    # Add dropout to the cell\n",
    "    drop = tf.contrib.rnn.DropoutWrapper(lstm, output_keep_prob=keep_prob)\n",
    "    \n",
    "    # Stack up multiple LSTM layers, for deep learning\n",
    "    cell = tf.contrib.rnn.MultiRNNCell([drop] * lstm_layers)\n",
    "    \n",
    "    # Getting an initial state of all zeros\n",
    "    initial_state = cell.zero_state(batch_size, tf.float32)"
   ]
  },
  {
   "cell_type": "markdown",
   "metadata": {
    "deletable": true,
    "editable": true
   },
   "source": [
    "### RNN forward pass\n",
    "\n",
    "<img src=\"assets/network_diagram.png\" width=400px>\n",
    "\n",
    "Now we need to actually run the data through the RNN nodes. You can use [`tf.nn.dynamic_rnn`](https://www.tensorflow.org/api_docs/python/tf/nn/dynamic_rnn) to do this. You'd pass in the RNN cell you created (our multiple layered LSTM `cell` for instance), and the inputs to the network.\n",
    "\n",
    "```\n",
    "outputs, final_state = tf.nn.dynamic_rnn(cell, inputs, initial_state=initial_state)\n",
    "```\n",
    "\n",
    "Above I created an initial state, `initial_state`, to pass to the RNN. This is the cell state that is passed between the hidden layers in successive time steps. `tf.nn.dynamic_rnn` takes care of most of the work for us. We pass in our cell and the input to the cell, then it does the unrolling and everything else for us. It returns outputs for each time step and the final_state of the hidden layer.\n",
    "\n",
    "> **Exercise:** Use `tf.nn.dynamic_rnn` to add the forward pass through the RNN. Remember that we're actually passing in vectors from the embedding layer, `embed`.\n",
    "\n"
   ]
  },
  {
   "cell_type": "code",
   "execution_count": 18,
   "metadata": {
    "collapsed": false,
    "deletable": true,
    "editable": true
   },
   "outputs": [],
   "source": [
    "with graph.as_default():\n",
    "    outputs, final_state = tf.nn.dynamic_rnn(cell, embed, initial_state=initial_state)"
   ]
  },
  {
   "cell_type": "markdown",
   "metadata": {
    "deletable": true,
    "editable": true
   },
   "source": [
    "### Output\n",
    "\n",
    "We only care about the final output, we'll be using that as our sentiment prediction. So we need to grab the last output with `outputs[:, -1]`, the calculate the cost from that and `labels_`."
   ]
  },
  {
   "cell_type": "code",
   "execution_count": 19,
   "metadata": {
    "collapsed": false,
    "deletable": true,
    "editable": true
   },
   "outputs": [],
   "source": [
    "with graph.as_default():\n",
    "    predictions = tf.contrib.layers.fully_connected(outputs[:, -1], 1, activation_fn=tf.sigmoid)\n",
    "    cost = tf.losses.mean_squared_error(labels_, predictions)\n",
    "    \n",
    "    optimizer = tf.train.AdamOptimizer(learning_rate).minimize(cost)"
   ]
  },
  {
   "cell_type": "markdown",
   "metadata": {
    "deletable": true,
    "editable": true
   },
   "source": [
    "### Validation accuracy\n",
    "\n",
    "Here we can add a few nodes to calculate the accuracy which we'll use in the validation pass."
   ]
  },
  {
   "cell_type": "code",
   "execution_count": 20,
   "metadata": {
    "collapsed": false,
    "deletable": true,
    "editable": true
   },
   "outputs": [],
   "source": [
    "with graph.as_default():\n",
    "    correct_pred = tf.equal(tf.cast(tf.round(predictions), tf.int32), labels_)\n",
    "    accuracy = tf.reduce_mean(tf.cast(correct_pred, tf.float32))"
   ]
  },
  {
   "cell_type": "markdown",
   "metadata": {
    "deletable": true,
    "editable": true
   },
   "source": [
    "### Batching\n",
    "\n",
    "This is a simple function for returning batches from our data. First it removes data such that we only have full batches. Then it iterates through the `x` and `y` arrays and returns slices out of those arrays with size `[batch_size]`."
   ]
  },
  {
   "cell_type": "code",
   "execution_count": 21,
   "metadata": {
    "collapsed": true,
    "deletable": true,
    "editable": true
   },
   "outputs": [],
   "source": [
    "def get_batches(x, y, batch_size=100):\n",
    "    \n",
    "    n_batches = len(x)//batch_size\n",
    "    x, y = x[:n_batches*batch_size], y[:n_batches*batch_size]\n",
    "    for ii in range(0, len(x), batch_size):\n",
    "        yield x[ii:ii+batch_size], y[ii:ii+batch_size]"
   ]
  },
  {
   "cell_type": "markdown",
   "metadata": {
    "deletable": true,
    "editable": true
   },
   "source": [
    "## Training\n",
    "\n",
    "Below is the typical training code. If you want to do this yourself, feel free to delete all this code and implement it yourself. Before you run this, make sure the `checkpoints` directory exists."
   ]
  },
  {
   "cell_type": "code",
   "execution_count": 22,
   "metadata": {
    "collapsed": false,
    "deletable": true,
    "editable": true
   },
   "outputs": [
    {
     "name": "stdout",
     "output_type": "stream",
     "text": [
      "Epoch: 0/10 Iteration: 5 Train loss: 0.247\n",
      "Epoch: 0/10 Iteration: 10 Train loss: 0.245\n",
      "Epoch: 0/10 Iteration: 15 Train loss: 0.234\n",
      "Epoch: 0/10 Iteration: 20 Train loss: 0.249\n",
      "Epoch: 0/10 Iteration: 25 Train loss: 0.227\n",
      "Val acc: 0.633\n",
      "Epoch: 0/10 Iteration: 30 Train loss: 0.251\n",
      "Epoch: 0/10 Iteration: 35 Train loss: 0.218\n",
      "Epoch: 0/10 Iteration: 40 Train loss: 0.224\n",
      "Epoch: 0/10 Iteration: 45 Train loss: 0.244\n",
      "Epoch: 0/10 Iteration: 50 Train loss: 0.212\n",
      "Val acc: 0.707\n",
      "Epoch: 0/10 Iteration: 55 Train loss: 0.253\n",
      "Epoch: 0/10 Iteration: 60 Train loss: 0.229\n",
      "Epoch: 0/10 Iteration: 65 Train loss: 0.219\n",
      "Epoch: 0/10 Iteration: 70 Train loss: 0.199\n",
      "Epoch: 0/10 Iteration: 75 Train loss: 0.216\n",
      "Val acc: 0.704\n",
      "Epoch: 0/10 Iteration: 80 Train loss: 0.181\n",
      "Epoch: 0/10 Iteration: 85 Train loss: 0.181\n",
      "Epoch: 0/10 Iteration: 90 Train loss: 0.150\n",
      "Epoch: 0/10 Iteration: 95 Train loss: 0.192\n",
      "Epoch: 0/10 Iteration: 100 Train loss: 0.252\n",
      "Val acc: 0.674\n",
      "Epoch: 0/10 Iteration: 105 Train loss: 0.233\n",
      "Epoch: 0/10 Iteration: 110 Train loss: 0.221\n",
      "Epoch: 0/10 Iteration: 115 Train loss: 0.239\n",
      "Epoch: 0/10 Iteration: 120 Train loss: 0.205\n",
      "Epoch: 0/10 Iteration: 125 Train loss: 0.198\n",
      "Val acc: 0.677\n",
      "Epoch: 0/10 Iteration: 130 Train loss: 0.235\n",
      "Epoch: 0/10 Iteration: 135 Train loss: 0.200\n",
      "Epoch: 0/10 Iteration: 140 Train loss: 0.181\n",
      "Epoch: 0/10 Iteration: 145 Train loss: 0.226\n",
      "Epoch: 0/10 Iteration: 150 Train loss: 0.368\n",
      "Val acc: 0.506\n",
      "Epoch: 0/10 Iteration: 155 Train loss: 0.236\n",
      "Epoch: 0/10 Iteration: 160 Train loss: 0.267\n",
      "Epoch: 0/10 Iteration: 165 Train loss: 0.251\n",
      "Epoch: 0/10 Iteration: 170 Train loss: 0.242\n",
      "Epoch: 0/10 Iteration: 175 Train loss: 0.240\n",
      "Val acc: 0.565\n",
      "Epoch: 0/10 Iteration: 180 Train loss: 0.233\n",
      "Epoch: 0/10 Iteration: 185 Train loss: 0.234\n",
      "Epoch: 0/10 Iteration: 190 Train loss: 0.237\n",
      "Epoch: 0/10 Iteration: 195 Train loss: 0.229\n",
      "Epoch: 0/10 Iteration: 200 Train loss: 0.224\n",
      "Val acc: 0.656\n",
      "Epoch: 1/10 Iteration: 205 Train loss: 0.224\n",
      "Epoch: 1/10 Iteration: 210 Train loss: 0.152\n",
      "Epoch: 1/10 Iteration: 215 Train loss: 0.212\n",
      "Epoch: 1/10 Iteration: 220 Train loss: 0.179\n",
      "Epoch: 1/10 Iteration: 225 Train loss: 0.183\n",
      "Val acc: 0.706\n",
      "Epoch: 1/10 Iteration: 230 Train loss: 0.244\n",
      "Epoch: 1/10 Iteration: 235 Train loss: 0.275\n",
      "Epoch: 1/10 Iteration: 240 Train loss: 0.227\n",
      "Epoch: 1/10 Iteration: 245 Train loss: 0.248\n",
      "Epoch: 1/10 Iteration: 250 Train loss: 0.267\n",
      "Val acc: 0.564\n",
      "Epoch: 1/10 Iteration: 255 Train loss: 0.245\n",
      "Epoch: 1/10 Iteration: 260 Train loss: 0.252\n",
      "Epoch: 1/10 Iteration: 265 Train loss: 0.211\n",
      "Epoch: 1/10 Iteration: 270 Train loss: 0.200\n",
      "Epoch: 1/10 Iteration: 275 Train loss: 0.213\n",
      "Val acc: 0.588\n",
      "Epoch: 1/10 Iteration: 280 Train loss: 0.205\n",
      "Epoch: 1/10 Iteration: 285 Train loss: 0.222\n",
      "Epoch: 1/10 Iteration: 290 Train loss: 0.181\n",
      "Epoch: 1/10 Iteration: 295 Train loss: 0.210\n",
      "Epoch: 1/10 Iteration: 300 Train loss: 0.208\n",
      "Val acc: 0.701\n",
      "Epoch: 1/10 Iteration: 305 Train loss: 0.205\n",
      "Epoch: 1/10 Iteration: 310 Train loss: 0.133\n",
      "Epoch: 1/10 Iteration: 315 Train loss: 0.194\n",
      "Epoch: 1/10 Iteration: 320 Train loss: 0.142\n",
      "Epoch: 1/10 Iteration: 325 Train loss: 0.130\n",
      "Val acc: 0.744\n",
      "Epoch: 1/10 Iteration: 330 Train loss: 0.157\n",
      "Epoch: 1/10 Iteration: 335 Train loss: 0.128\n",
      "Epoch: 1/10 Iteration: 340 Train loss: 0.124\n",
      "Epoch: 1/10 Iteration: 345 Train loss: 0.191\n",
      "Epoch: 1/10 Iteration: 350 Train loss: 0.182\n",
      "Val acc: 0.709\n",
      "Epoch: 1/10 Iteration: 355 Train loss: 0.184\n",
      "Epoch: 1/10 Iteration: 360 Train loss: 0.197\n",
      "Epoch: 1/10 Iteration: 365 Train loss: 0.163\n",
      "Epoch: 1/10 Iteration: 370 Train loss: 0.212\n",
      "Epoch: 1/10 Iteration: 375 Train loss: 0.131\n",
      "Val acc: 0.776\n",
      "Epoch: 1/10 Iteration: 380 Train loss: 0.170\n",
      "Epoch: 1/10 Iteration: 385 Train loss: 0.157\n",
      "Epoch: 1/10 Iteration: 390 Train loss: 0.208\n",
      "Epoch: 1/10 Iteration: 395 Train loss: 0.175\n",
      "Epoch: 1/10 Iteration: 400 Train loss: 0.171\n",
      "Val acc: 0.768\n",
      "Epoch: 2/10 Iteration: 405 Train loss: 0.178\n",
      "Epoch: 2/10 Iteration: 410 Train loss: 0.179\n",
      "Epoch: 2/10 Iteration: 415 Train loss: 0.256\n",
      "Epoch: 2/10 Iteration: 420 Train loss: 0.347\n",
      "Epoch: 2/10 Iteration: 425 Train loss: 0.354\n",
      "Val acc: 0.622\n",
      "Epoch: 2/10 Iteration: 430 Train loss: 0.357\n",
      "Epoch: 2/10 Iteration: 435 Train loss: 0.271\n",
      "Epoch: 2/10 Iteration: 440 Train loss: 0.278\n",
      "Epoch: 2/10 Iteration: 445 Train loss: 0.250\n",
      "Epoch: 2/10 Iteration: 450 Train loss: 0.242\n",
      "Val acc: 0.506\n",
      "Epoch: 2/10 Iteration: 455 Train loss: 0.248\n",
      "Epoch: 2/10 Iteration: 460 Train loss: 0.254\n",
      "Epoch: 2/10 Iteration: 465 Train loss: 0.250\n",
      "Epoch: 2/10 Iteration: 470 Train loss: 0.248\n",
      "Epoch: 2/10 Iteration: 475 Train loss: 0.241\n",
      "Val acc: 0.571\n",
      "Epoch: 2/10 Iteration: 480 Train loss: 0.228\n",
      "Epoch: 2/10 Iteration: 485 Train loss: 0.223\n",
      "Epoch: 2/10 Iteration: 490 Train loss: 0.220\n",
      "Epoch: 2/10 Iteration: 495 Train loss: 0.222\n",
      "Epoch: 2/10 Iteration: 500 Train loss: 0.210\n",
      "Val acc: 0.681\n",
      "Epoch: 2/10 Iteration: 505 Train loss: 0.235\n",
      "Epoch: 2/10 Iteration: 510 Train loss: 0.207\n",
      "Epoch: 2/10 Iteration: 515 Train loss: 0.197\n",
      "Epoch: 2/10 Iteration: 520 Train loss: 0.142\n",
      "Epoch: 2/10 Iteration: 525 Train loss: 0.137\n",
      "Val acc: 0.605\n",
      "Epoch: 2/10 Iteration: 530 Train loss: 0.219\n",
      "Epoch: 2/10 Iteration: 535 Train loss: 0.284\n",
      "Epoch: 2/10 Iteration: 540 Train loss: 0.126\n",
      "Epoch: 2/10 Iteration: 545 Train loss: 0.188\n",
      "Epoch: 2/10 Iteration: 550 Train loss: 0.240\n",
      "Val acc: 0.651\n",
      "Epoch: 2/10 Iteration: 555 Train loss: 0.210\n",
      "Epoch: 2/10 Iteration: 560 Train loss: 0.198\n",
      "Epoch: 2/10 Iteration: 565 Train loss: 0.171\n",
      "Epoch: 2/10 Iteration: 570 Train loss: 0.354\n",
      "Epoch: 2/10 Iteration: 575 Train loss: 0.337\n",
      "Val acc: 0.502\n",
      "Epoch: 2/10 Iteration: 580 Train loss: 0.253\n",
      "Epoch: 2/10 Iteration: 585 Train loss: 0.247\n",
      "Epoch: 2/10 Iteration: 590 Train loss: 0.246\n",
      "Epoch: 2/10 Iteration: 595 Train loss: 0.247\n",
      "Epoch: 2/10 Iteration: 600 Train loss: 0.243\n",
      "Val acc: 0.582\n",
      "Epoch: 3/10 Iteration: 605 Train loss: 0.228\n",
      "Epoch: 3/10 Iteration: 610 Train loss: 0.221\n",
      "Epoch: 3/10 Iteration: 615 Train loss: 0.226\n",
      "Epoch: 3/10 Iteration: 620 Train loss: 0.224\n",
      "Epoch: 3/10 Iteration: 625 Train loss: 0.232\n",
      "Val acc: 0.609\n",
      "Epoch: 3/10 Iteration: 630 Train loss: 0.213\n",
      "Epoch: 3/10 Iteration: 635 Train loss: 0.227\n",
      "Epoch: 3/10 Iteration: 640 Train loss: 0.206\n",
      "Epoch: 3/10 Iteration: 645 Train loss: 0.225\n",
      "Epoch: 3/10 Iteration: 650 Train loss: 0.192\n",
      "Val acc: 0.568\n",
      "Epoch: 3/10 Iteration: 655 Train loss: 0.281\n",
      "Epoch: 3/10 Iteration: 660 Train loss: 0.230\n",
      "Epoch: 3/10 Iteration: 665 Train loss: 0.200\n",
      "Epoch: 3/10 Iteration: 670 Train loss: 0.199\n",
      "Epoch: 3/10 Iteration: 675 Train loss: 0.193\n",
      "Val acc: 0.654\n",
      "Epoch: 3/10 Iteration: 680 Train loss: 0.180\n",
      "Epoch: 3/10 Iteration: 685 Train loss: 0.164\n",
      "Epoch: 3/10 Iteration: 690 Train loss: 0.111\n",
      "Epoch: 3/10 Iteration: 695 Train loss: 0.164\n",
      "Epoch: 3/10 Iteration: 700 Train loss: 0.209\n",
      "Val acc: 0.703\n",
      "Epoch: 3/10 Iteration: 705 Train loss: 0.191\n",
      "Epoch: 3/10 Iteration: 710 Train loss: 0.122\n",
      "Epoch: 3/10 Iteration: 715 Train loss: 0.146\n",
      "Epoch: 3/10 Iteration: 720 Train loss: 0.103\n",
      "Epoch: 3/10 Iteration: 725 Train loss: 0.062\n",
      "Val acc: 0.754\n",
      "Epoch: 3/10 Iteration: 730 Train loss: 0.122\n",
      "Epoch: 3/10 Iteration: 735 Train loss: 0.115\n",
      "Epoch: 3/10 Iteration: 740 Train loss: 0.091\n",
      "Epoch: 3/10 Iteration: 745 Train loss: 0.249\n",
      "Epoch: 3/10 Iteration: 750 Train loss: 0.133\n",
      "Val acc: 0.713\n",
      "Epoch: 3/10 Iteration: 755 Train loss: 0.161\n",
      "Epoch: 3/10 Iteration: 760 Train loss: 0.175\n",
      "Epoch: 3/10 Iteration: 765 Train loss: 0.092\n",
      "Epoch: 3/10 Iteration: 770 Train loss: 0.160\n",
      "Epoch: 3/10 Iteration: 775 Train loss: 0.119\n",
      "Val acc: 0.808\n",
      "Epoch: 3/10 Iteration: 780 Train loss: 0.108\n",
      "Epoch: 3/10 Iteration: 785 Train loss: 0.167\n",
      "Epoch: 3/10 Iteration: 790 Train loss: 0.156\n",
      "Epoch: 3/10 Iteration: 795 Train loss: 0.140\n",
      "Epoch: 3/10 Iteration: 800 Train loss: 0.152\n",
      "Val acc: 0.790\n",
      "Epoch: 4/10 Iteration: 805 Train loss: 0.174\n",
      "Epoch: 4/10 Iteration: 810 Train loss: 0.156\n",
      "Epoch: 4/10 Iteration: 815 Train loss: 0.156\n",
      "Epoch: 4/10 Iteration: 820 Train loss: 0.155\n",
      "Epoch: 4/10 Iteration: 825 Train loss: 0.154\n",
      "Val acc: 0.732\n",
      "Epoch: 4/10 Iteration: 830 Train loss: 0.152\n",
      "Epoch: 4/10 Iteration: 835 Train loss: 0.152\n",
      "Epoch: 4/10 Iteration: 840 Train loss: 0.121\n",
      "Epoch: 4/10 Iteration: 845 Train loss: 0.160\n",
      "Epoch: 4/10 Iteration: 850 Train loss: 0.114\n",
      "Val acc: 0.809\n",
      "Epoch: 4/10 Iteration: 855 Train loss: 0.154\n",
      "Epoch: 4/10 Iteration: 860 Train loss: 0.147\n",
      "Epoch: 4/10 Iteration: 865 Train loss: 0.090\n",
      "Epoch: 4/10 Iteration: 870 Train loss: 0.063\n",
      "Epoch: 4/10 Iteration: 875 Train loss: 0.107\n",
      "Val acc: 0.826\n",
      "Epoch: 4/10 Iteration: 880 Train loss: 0.073\n",
      "Epoch: 4/10 Iteration: 885 Train loss: 0.083\n",
      "Epoch: 4/10 Iteration: 890 Train loss: 0.027\n",
      "Epoch: 4/10 Iteration: 895 Train loss: 0.060\n",
      "Epoch: 4/10 Iteration: 900 Train loss: 0.081\n",
      "Val acc: 0.847\n",
      "Epoch: 4/10 Iteration: 905 Train loss: 0.088\n",
      "Epoch: 4/10 Iteration: 910 Train loss: 0.052\n",
      "Epoch: 4/10 Iteration: 915 Train loss: 0.054\n",
      "Epoch: 4/10 Iteration: 920 Train loss: 0.057\n",
      "Epoch: 4/10 Iteration: 925 Train loss: 0.037\n",
      "Val acc: 0.841\n",
      "Epoch: 4/10 Iteration: 930 Train loss: 0.060\n",
      "Epoch: 4/10 Iteration: 935 Train loss: 0.039\n",
      "Epoch: 4/10 Iteration: 940 Train loss: 0.084\n",
      "Epoch: 4/10 Iteration: 945 Train loss: 0.144\n",
      "Epoch: 4/10 Iteration: 950 Train loss: 0.081\n",
      "Val acc: 0.828\n",
      "Epoch: 4/10 Iteration: 955 Train loss: 0.105\n",
      "Epoch: 4/10 Iteration: 960 Train loss: 0.104\n",
      "Epoch: 4/10 Iteration: 965 Train loss: 0.057\n",
      "Epoch: 4/10 Iteration: 970 Train loss: 0.096\n",
      "Epoch: 4/10 Iteration: 975 Train loss: 0.030\n",
      "Val acc: 0.833\n",
      "Epoch: 4/10 Iteration: 980 Train loss: 0.063\n",
      "Epoch: 4/10 Iteration: 985 Train loss: 0.037\n",
      "Epoch: 4/10 Iteration: 990 Train loss: 0.049\n",
      "Epoch: 4/10 Iteration: 995 Train loss: 0.046\n",
      "Epoch: 4/10 Iteration: 1000 Train loss: 0.058\n",
      "Val acc: 0.749\n",
      "Epoch: 5/10 Iteration: 1005 Train loss: 0.053\n",
      "Epoch: 5/10 Iteration: 1010 Train loss: 0.098\n",
      "Epoch: 5/10 Iteration: 1015 Train loss: 0.115\n",
      "Epoch: 5/10 Iteration: 1020 Train loss: 0.111\n",
      "Epoch: 5/10 Iteration: 1025 Train loss: 0.063\n",
      "Val acc: 0.838\n",
      "Epoch: 5/10 Iteration: 1030 Train loss: 0.032\n",
      "Epoch: 5/10 Iteration: 1035 Train loss: 0.028\n",
      "Epoch: 5/10 Iteration: 1040 Train loss: 0.037\n",
      "Epoch: 5/10 Iteration: 1045 Train loss: 0.013\n",
      "Epoch: 5/10 Iteration: 1050 Train loss: 0.023\n",
      "Val acc: 0.886\n",
      "Epoch: 5/10 Iteration: 1055 Train loss: 0.019\n",
      "Epoch: 5/10 Iteration: 1060 Train loss: 0.011\n",
      "Epoch: 5/10 Iteration: 1065 Train loss: 0.020\n",
      "Epoch: 5/10 Iteration: 1070 Train loss: 0.023\n",
      "Epoch: 5/10 Iteration: 1075 Train loss: 0.013\n",
      "Val acc: 0.772\n",
      "Epoch: 5/10 Iteration: 1080 Train loss: 0.003\n",
      "Epoch: 5/10 Iteration: 1085 Train loss: 0.050\n",
      "Epoch: 5/10 Iteration: 1090 Train loss: 0.068\n",
      "Epoch: 5/10 Iteration: 1095 Train loss: 0.040\n",
      "Epoch: 5/10 Iteration: 1100 Train loss: 0.080\n",
      "Val acc: 0.554\n",
      "Epoch: 5/10 Iteration: 1105 Train loss: 0.043\n",
      "Epoch: 5/10 Iteration: 1110 Train loss: 0.018\n",
      "Epoch: 5/10 Iteration: 1115 Train loss: 0.009\n",
      "Epoch: 5/10 Iteration: 1120 Train loss: 0.005\n",
      "Epoch: 5/10 Iteration: 1125 Train loss: 0.007\n",
      "Val acc: 0.701\n",
      "Epoch: 5/10 Iteration: 1130 Train loss: 0.003\n",
      "Epoch: 5/10 Iteration: 1135 Train loss: 0.001\n",
      "Epoch: 5/10 Iteration: 1140 Train loss: 0.001\n",
      "Epoch: 5/10 Iteration: 1145 Train loss: 0.001\n",
      "Epoch: 5/10 Iteration: 1150 Train loss: 0.001\n",
      "Val acc: 0.705\n",
      "Epoch: 5/10 Iteration: 1155 Train loss: 0.001\n",
      "Epoch: 5/10 Iteration: 1160 Train loss: 0.001\n",
      "Epoch: 5/10 Iteration: 1165 Train loss: 0.000\n",
      "Epoch: 5/10 Iteration: 1170 Train loss: 0.001\n",
      "Epoch: 5/10 Iteration: 1175 Train loss: 0.000\n",
      "Val acc: 0.706\n",
      "Epoch: 5/10 Iteration: 1180 Train loss: 0.000\n",
      "Epoch: 5/10 Iteration: 1185 Train loss: 0.000\n",
      "Epoch: 5/10 Iteration: 1190 Train loss: 0.000\n",
      "Epoch: 5/10 Iteration: 1195 Train loss: 0.000\n",
      "Epoch: 5/10 Iteration: 1200 Train loss: 0.000\n",
      "Val acc: 0.703\n",
      "Epoch: 6/10 Iteration: 1205 Train loss: 0.138\n",
      "Epoch: 6/10 Iteration: 1210 Train loss: 0.114\n",
      "Epoch: 6/10 Iteration: 1215 Train loss: 0.062\n",
      "Epoch: 6/10 Iteration: 1220 Train loss: 0.064\n",
      "Epoch: 6/10 Iteration: 1225 Train loss: 0.066\n",
      "Val acc: 0.703\n",
      "Epoch: 6/10 Iteration: 1230 Train loss: 0.056\n",
      "Epoch: 6/10 Iteration: 1235 Train loss: 0.042\n",
      "Epoch: 6/10 Iteration: 1240 Train loss: 0.016\n",
      "Epoch: 6/10 Iteration: 1245 Train loss: 0.005\n",
      "Epoch: 6/10 Iteration: 1250 Train loss: 0.007\n",
      "Val acc: 0.775\n",
      "Epoch: 6/10 Iteration: 1255 Train loss: 0.007\n",
      "Epoch: 6/10 Iteration: 1260 Train loss: 0.003\n",
      "Epoch: 6/10 Iteration: 1265 Train loss: 0.002\n",
      "Epoch: 6/10 Iteration: 1270 Train loss: 0.002\n",
      "Epoch: 6/10 Iteration: 1275 Train loss: 0.001\n",
      "Val acc: 0.802\n",
      "Epoch: 6/10 Iteration: 1280 Train loss: 0.000\n",
      "Epoch: 6/10 Iteration: 1285 Train loss: 0.000\n",
      "Epoch: 6/10 Iteration: 1290 Train loss: 0.000\n",
      "Epoch: 6/10 Iteration: 1295 Train loss: 0.001\n",
      "Epoch: 6/10 Iteration: 1300 Train loss: 0.000\n",
      "Val acc: 0.816\n",
      "Epoch: 6/10 Iteration: 1305 Train loss: 0.000\n",
      "Epoch: 6/10 Iteration: 1310 Train loss: 0.000\n",
      "Epoch: 6/10 Iteration: 1315 Train loss: 0.000\n",
      "Epoch: 6/10 Iteration: 1320 Train loss: 0.000\n",
      "Epoch: 6/10 Iteration: 1325 Train loss: 0.000\n",
      "Val acc: 0.776\n",
      "Epoch: 6/10 Iteration: 1330 Train loss: 0.001\n",
      "Epoch: 6/10 Iteration: 1335 Train loss: 0.000\n",
      "Epoch: 6/10 Iteration: 1340 Train loss: 0.000\n",
      "Epoch: 6/10 Iteration: 1345 Train loss: 0.000\n",
      "Epoch: 6/10 Iteration: 1350 Train loss: 0.000\n",
      "Val acc: 0.749\n",
      "Epoch: 6/10 Iteration: 1355 Train loss: 0.000\n",
      "Epoch: 6/10 Iteration: 1360 Train loss: 0.000\n",
      "Epoch: 6/10 Iteration: 1365 Train loss: 0.000\n",
      "Epoch: 6/10 Iteration: 1370 Train loss: 0.000\n",
      "Epoch: 6/10 Iteration: 1375 Train loss: 0.000\n",
      "Val acc: 0.748\n",
      "Epoch: 6/10 Iteration: 1380 Train loss: 0.000\n",
      "Epoch: 6/10 Iteration: 1385 Train loss: 0.000\n",
      "Epoch: 6/10 Iteration: 1390 Train loss: 0.000\n",
      "Epoch: 6/10 Iteration: 1395 Train loss: 0.000\n",
      "Epoch: 6/10 Iteration: 1400 Train loss: 0.000\n",
      "Val acc: 0.738\n",
      "Epoch: 7/10 Iteration: 1405 Train loss: 0.093\n",
      "Epoch: 7/10 Iteration: 1410 Train loss: 0.056\n",
      "Epoch: 7/10 Iteration: 1415 Train loss: 0.029\n",
      "Epoch: 7/10 Iteration: 1420 Train loss: 0.022\n",
      "Epoch: 7/10 Iteration: 1425 Train loss: 0.002\n",
      "Val acc: 0.876\n",
      "Epoch: 7/10 Iteration: 1430 Train loss: 0.001\n",
      "Epoch: 7/10 Iteration: 1435 Train loss: 0.005\n",
      "Epoch: 7/10 Iteration: 1440 Train loss: 0.008\n",
      "Epoch: 7/10 Iteration: 1445 Train loss: 0.001\n",
      "Epoch: 7/10 Iteration: 1450 Train loss: 0.001\n",
      "Val acc: 0.890\n",
      "Epoch: 7/10 Iteration: 1455 Train loss: 0.001\n",
      "Epoch: 7/10 Iteration: 1460 Train loss: 0.000\n",
      "Epoch: 7/10 Iteration: 1465 Train loss: 0.001\n",
      "Epoch: 7/10 Iteration: 1470 Train loss: 0.000\n",
      "Epoch: 7/10 Iteration: 1475 Train loss: 0.000\n",
      "Val acc: 0.824\n",
      "Epoch: 7/10 Iteration: 1480 Train loss: 0.000\n",
      "Epoch: 7/10 Iteration: 1485 Train loss: 0.000\n",
      "Epoch: 7/10 Iteration: 1490 Train loss: 0.000\n",
      "Epoch: 7/10 Iteration: 1495 Train loss: 0.000\n",
      "Epoch: 7/10 Iteration: 1500 Train loss: 0.000\n",
      "Val acc: 0.812\n",
      "Epoch: 7/10 Iteration: 1505 Train loss: 0.000\n",
      "Epoch: 7/10 Iteration: 1510 Train loss: 0.000\n",
      "Epoch: 7/10 Iteration: 1515 Train loss: 0.000\n",
      "Epoch: 7/10 Iteration: 1520 Train loss: 0.000\n",
      "Epoch: 7/10 Iteration: 1525 Train loss: 0.000\n",
      "Val acc: 0.819\n",
      "Epoch: 7/10 Iteration: 1530 Train loss: 0.000\n",
      "Epoch: 7/10 Iteration: 1535 Train loss: 0.000\n",
      "Epoch: 7/10 Iteration: 1540 Train loss: 0.000\n",
      "Epoch: 7/10 Iteration: 1545 Train loss: 0.000\n",
      "Epoch: 7/10 Iteration: 1550 Train loss: 0.000\n",
      "Val acc: 0.810\n",
      "Epoch: 7/10 Iteration: 1555 Train loss: 0.000\n",
      "Epoch: 7/10 Iteration: 1560 Train loss: 0.000\n",
      "Epoch: 7/10 Iteration: 1565 Train loss: 0.000\n",
      "Epoch: 7/10 Iteration: 1570 Train loss: 0.000\n",
      "Epoch: 7/10 Iteration: 1575 Train loss: 0.000\n",
      "Val acc: 0.806\n",
      "Epoch: 7/10 Iteration: 1580 Train loss: 0.000\n",
      "Epoch: 7/10 Iteration: 1585 Train loss: 0.000\n",
      "Epoch: 7/10 Iteration: 1590 Train loss: 0.000\n",
      "Epoch: 7/10 Iteration: 1595 Train loss: 0.000\n",
      "Epoch: 7/10 Iteration: 1600 Train loss: 0.000\n",
      "Val acc: 0.809\n",
      "Epoch: 8/10 Iteration: 1605 Train loss: 0.076\n",
      "Epoch: 8/10 Iteration: 1610 Train loss: 0.036\n",
      "Epoch: 8/10 Iteration: 1615 Train loss: 0.029\n",
      "Epoch: 8/10 Iteration: 1620 Train loss: 0.029\n",
      "Epoch: 8/10 Iteration: 1625 Train loss: 0.017\n",
      "Val acc: 0.725\n",
      "Epoch: 8/10 Iteration: 1630 Train loss: 0.020\n",
      "Epoch: 8/10 Iteration: 1635 Train loss: 0.018\n",
      "Epoch: 8/10 Iteration: 1640 Train loss: 0.017\n",
      "Epoch: 8/10 Iteration: 1645 Train loss: 0.016\n",
      "Epoch: 8/10 Iteration: 1650 Train loss: 0.016\n",
      "Val acc: 0.940\n",
      "Epoch: 8/10 Iteration: 1655 Train loss: 0.004\n",
      "Epoch: 8/10 Iteration: 1660 Train loss: 0.004\n",
      "Epoch: 8/10 Iteration: 1665 Train loss: 0.003\n",
      "Epoch: 8/10 Iteration: 1670 Train loss: 0.011\n",
      "Epoch: 8/10 Iteration: 1675 Train loss: 0.000\n",
      "Val acc: 0.913\n",
      "Epoch: 8/10 Iteration: 1680 Train loss: 0.000\n",
      "Epoch: 8/10 Iteration: 1685 Train loss: 0.000\n",
      "Epoch: 8/10 Iteration: 1690 Train loss: 0.000\n",
      "Epoch: 8/10 Iteration: 1695 Train loss: 0.000\n",
      "Epoch: 8/10 Iteration: 1700 Train loss: 0.000\n",
      "Val acc: 0.926\n",
      "Epoch: 8/10 Iteration: 1705 Train loss: 0.000\n",
      "Epoch: 8/10 Iteration: 1710 Train loss: 0.000\n",
      "Epoch: 8/10 Iteration: 1715 Train loss: 0.000\n",
      "Epoch: 8/10 Iteration: 1720 Train loss: 0.000\n",
      "Epoch: 8/10 Iteration: 1725 Train loss: 0.000\n",
      "Val acc: 0.920\n",
      "Epoch: 8/10 Iteration: 1730 Train loss: 0.001\n",
      "Epoch: 8/10 Iteration: 1735 Train loss: 0.000\n",
      "Epoch: 8/10 Iteration: 1740 Train loss: 0.000\n",
      "Epoch: 8/10 Iteration: 1745 Train loss: 0.000\n",
      "Epoch: 8/10 Iteration: 1750 Train loss: 0.000\n",
      "Val acc: 0.916\n",
      "Epoch: 8/10 Iteration: 1755 Train loss: 0.000\n",
      "Epoch: 8/10 Iteration: 1760 Train loss: 0.000\n",
      "Epoch: 8/10 Iteration: 1765 Train loss: 0.000\n",
      "Epoch: 8/10 Iteration: 1770 Train loss: 0.000\n",
      "Epoch: 8/10 Iteration: 1775 Train loss: 0.000\n",
      "Val acc: 0.880\n",
      "Epoch: 8/10 Iteration: 1780 Train loss: 0.000\n",
      "Epoch: 8/10 Iteration: 1785 Train loss: 0.000\n",
      "Epoch: 8/10 Iteration: 1790 Train loss: 0.000\n",
      "Epoch: 8/10 Iteration: 1795 Train loss: 0.000\n",
      "Epoch: 8/10 Iteration: 1800 Train loss: 0.000\n",
      "Val acc: 0.875\n",
      "Epoch: 9/10 Iteration: 1805 Train loss: 0.039\n",
      "Epoch: 9/10 Iteration: 1810 Train loss: 0.018\n",
      "Epoch: 9/10 Iteration: 1815 Train loss: 0.010\n",
      "Epoch: 9/10 Iteration: 1820 Train loss: 0.001\n",
      "Epoch: 9/10 Iteration: 1825 Train loss: 0.000\n",
      "Val acc: 0.947\n",
      "Epoch: 9/10 Iteration: 1830 Train loss: 0.000\n",
      "Epoch: 9/10 Iteration: 1835 Train loss: 0.001\n",
      "Epoch: 9/10 Iteration: 1840 Train loss: 0.007\n",
      "Epoch: 9/10 Iteration: 1845 Train loss: 0.001\n",
      "Epoch: 9/10 Iteration: 1850 Train loss: 0.001\n",
      "Val acc: 0.952\n",
      "Epoch: 9/10 Iteration: 1855 Train loss: 0.000\n",
      "Epoch: 9/10 Iteration: 1860 Train loss: 0.000\n",
      "Epoch: 9/10 Iteration: 1865 Train loss: 0.000\n",
      "Epoch: 9/10 Iteration: 1870 Train loss: 0.000\n",
      "Epoch: 9/10 Iteration: 1875 Train loss: 0.000\n",
      "Val acc: 0.944\n",
      "Epoch: 9/10 Iteration: 1880 Train loss: 0.000\n",
      "Epoch: 9/10 Iteration: 1885 Train loss: 0.000\n",
      "Epoch: 9/10 Iteration: 1890 Train loss: 0.000\n",
      "Epoch: 9/10 Iteration: 1895 Train loss: 0.000\n",
      "Epoch: 9/10 Iteration: 1900 Train loss: 0.000\n",
      "Val acc: 0.942\n",
      "Epoch: 9/10 Iteration: 1905 Train loss: 0.000\n",
      "Epoch: 9/10 Iteration: 1910 Train loss: 0.000\n",
      "Epoch: 9/10 Iteration: 1915 Train loss: 0.000\n",
      "Epoch: 9/10 Iteration: 1920 Train loss: 0.000\n",
      "Epoch: 9/10 Iteration: 1925 Train loss: 0.000\n",
      "Val acc: 0.932\n",
      "Epoch: 9/10 Iteration: 1930 Train loss: 0.001\n",
      "Epoch: 9/10 Iteration: 1935 Train loss: 0.000\n",
      "Epoch: 9/10 Iteration: 1940 Train loss: 0.000\n",
      "Epoch: 9/10 Iteration: 1945 Train loss: 0.000\n",
      "Epoch: 9/10 Iteration: 1950 Train loss: 0.000\n",
      "Val acc: 0.920\n",
      "Epoch: 9/10 Iteration: 1955 Train loss: 0.000\n",
      "Epoch: 9/10 Iteration: 1960 Train loss: 0.000\n",
      "Epoch: 9/10 Iteration: 1965 Train loss: 0.000\n",
      "Epoch: 9/10 Iteration: 1970 Train loss: 0.000\n",
      "Epoch: 9/10 Iteration: 1975 Train loss: 0.000\n",
      "Val acc: 0.916\n",
      "Epoch: 9/10 Iteration: 1980 Train loss: 0.000\n",
      "Epoch: 9/10 Iteration: 1985 Train loss: 0.000\n",
      "Epoch: 9/10 Iteration: 1990 Train loss: 0.000\n",
      "Epoch: 9/10 Iteration: 1995 Train loss: 0.000\n",
      "Epoch: 9/10 Iteration: 2000 Train loss: 0.000\n",
      "Val acc: 0.911\n"
     ]
    }
   ],
   "source": [
    "epochs = 10\n",
    "\n",
    "with graph.as_default():\n",
    "    saver = tf.train.Saver()\n",
    "\n",
    "with tf.Session(graph=graph) as sess:\n",
    "    sess.run(tf.global_variables_initializer())\n",
    "    iteration = 1\n",
    "    for e in range(epochs):\n",
    "        state = sess.run(initial_state)\n",
    "        \n",
    "        for ii, (x, y) in enumerate(get_batches(train_x, train_y, batch_size), 1):\n",
    "            feed = {inputs_: x,\n",
    "                    labels_: y[:, None],\n",
    "                    keep_prob: 0.5,\n",
    "                    initial_state: state}\n",
    "            loss, state, _ = sess.run([cost, final_state, optimizer], feed_dict=feed)\n",
    "            \n",
    "            if iteration%5==0:\n",
    "                print(\"Epoch: {}/{}\".format(e, epochs),\n",
    "                      \"Iteration: {}\".format(iteration),\n",
    "                      \"Train loss: {:.3f}\".format(loss))\n",
    "\n",
    "            if iteration%25==0:\n",
    "                val_acc = []\n",
    "                val_state = sess.run(cell.zero_state(batch_size, tf.float32))\n",
    "                for x, y in get_batches(val_x, val_y, batch_size):\n",
    "                    feed = {inputs_: x,\n",
    "                            labels_: y[:, None],\n",
    "                            keep_prob: 1,\n",
    "                            initial_state: val_state}\n",
    "                    batch_acc, val_state = sess.run([accuracy, final_state], feed_dict=feed)\n",
    "                    val_acc.append(batch_acc)\n",
    "                print(\"Val acc: {:.3f}\".format(np.mean(val_acc)))\n",
    "            iteration +=1\n",
    "    saver.save(sess, \"checkpoints/sentiment.ckpt\")"
   ]
  },
  {
   "cell_type": "markdown",
   "metadata": {
    "deletable": true,
    "editable": true
   },
   "source": [
    "## Testing"
   ]
  },
  {
   "cell_type": "code",
   "execution_count": 27,
   "metadata": {
    "collapsed": false,
    "deletable": true,
    "editable": true
   },
   "outputs": [
    {
     "name": "stdout",
     "output_type": "stream",
     "text": [
      "Test accuracy: 0.876\n"
     ]
    }
   ],
   "source": [
    "test_acc = []\n",
    "with tf.Session(graph=graph) as sess:\n",
    "    saver.restore(sess, tf.train.latest_checkpoint('checkpoints'))\n",
    "    test_state = sess.run(cell.zero_state(batch_size, tf.float32))\n",
    "    for ii, (x, y) in enumerate(get_batches(test_x, test_y, batch_size), 1):\n",
    "        feed = {inputs_: x,\n",
    "                labels_: y[:, None],\n",
    "                keep_prob: 1,\n",
    "                initial_state: test_state}\n",
    "        batch_acc, test_state = sess.run([accuracy, final_state], feed_dict=feed)\n",
    "        test_acc.append(batch_acc)\n",
    "    print(\"Test accuracy: {:.3f}\".format(np.mean(test_acc)))"
   ]
  }
 ],
 "metadata": {
  "kernelspec": {
   "display_name": "Python 3",
   "language": "python",
   "name": "python3"
  },
  "language_info": {
   "codemirror_mode": {
    "name": "ipython",
    "version": 3
   },
   "file_extension": ".py",
   "mimetype": "text/x-python",
   "name": "python",
   "nbconvert_exporter": "python",
   "pygments_lexer": "ipython3",
   "version": "3.5.2"
  }
 },
 "nbformat": 4,
 "nbformat_minor": 2
}
