{
 "cells": [
  {
   "cell_type": "markdown",
   "metadata": {
    "collapsed": true,
    "deletable": true,
    "editable": true
   },
   "source": [
    "# Image Classification\n",
    "In this project, you'll classify images from the [CIFAR-10 dataset](https://www.cs.toronto.edu/~kriz/cifar.html).  The dataset consists of airplanes, dogs, cats, and other objects. You'll preprocess the images, then train a convolutional neural network on all the samples. The images need to be normalized and the labels need to be one-hot encoded.  You'll get to apply what you learned and build a convolutional, max pooling, dropout, and fully connected layers.  At the end, you'll get to see your neural network's predictions on the sample images.\n",
    "## Get the Data\n",
    "Run the following cell to download the [CIFAR-10 dataset for python](https://www.cs.toronto.edu/~kriz/cifar-10-python.tar.gz)."
   ]
  },
  {
   "cell_type": "code",
   "execution_count": 2,
   "metadata": {
    "collapsed": false,
    "deletable": true,
    "editable": true
   },
   "outputs": [
    {
     "name": "stderr",
     "output_type": "stream",
     "text": [
      "CIFAR-10 Dataset: 171MB [00:26, 6.33MB/s]                              \n"
     ]
    },
    {
     "name": "stdout",
     "output_type": "stream",
     "text": [
      "All files found!\n"
     ]
    }
   ],
   "source": [
    "\"\"\"\n",
    "DON'T MODIFY ANYTHING IN THIS CELL THAT IS BELOW THIS LINE\n",
    "\"\"\"\n",
    "from urllib.request import urlretrieve\n",
    "from os.path import isfile, isdir\n",
    "from tqdm import tqdm\n",
    "import problem_unittests as tests\n",
    "import tarfile\n",
    "\n",
    "cifar10_dataset_folder_path = 'cifar-10-batches-py'\n",
    "\n",
    "# Use Floyd's cifar-10 dataset if present\n",
    "floyd_cifar10_location = '/input/cifar-10/python.tar.gz'\n",
    "if isfile(floyd_cifar10_location):\n",
    "    tar_gz_path = floyd_cifar10_location\n",
    "else:\n",
    "    tar_gz_path = 'cifar-10-python.tar.gz'\n",
    "\n",
    "class DLProgress(tqdm):\n",
    "    last_block = 0\n",
    "\n",
    "    def hook(self, block_num=1, block_size=1, total_size=None):\n",
    "        self.total = total_size\n",
    "        self.update((block_num - self.last_block) * block_size)\n",
    "        self.last_block = block_num\n",
    "\n",
    "if not isfile(tar_gz_path):\n",
    "    with DLProgress(unit='B', unit_scale=True, miniters=1, desc='CIFAR-10 Dataset') as pbar:\n",
    "        urlretrieve(\n",
    "            'https://www.cs.toronto.edu/~kriz/cifar-10-python.tar.gz',\n",
    "            tar_gz_path,\n",
    "            pbar.hook)\n",
    "\n",
    "if not isdir(cifar10_dataset_folder_path):\n",
    "    with tarfile.open(tar_gz_path) as tar:\n",
    "        tar.extractall()\n",
    "        tar.close()\n",
    "\n",
    "\n",
    "tests.test_folder_path(cifar10_dataset_folder_path)"
   ]
  },
  {
   "cell_type": "markdown",
   "metadata": {
    "deletable": true,
    "editable": true
   },
   "source": [
    "## Explore the Data\n",
    "The dataset is broken into batches to prevent your machine from running out of memory.  The CIFAR-10 dataset consists of 5 batches, named `data_batch_1`, `data_batch_2`, etc.. Each batch contains the labels and images that are one of the following:\n",
    "* airplane\n",
    "* automobile\n",
    "* bird\n",
    "* cat\n",
    "* deer\n",
    "* dog\n",
    "* frog\n",
    "* horse\n",
    "* ship\n",
    "* truck\n",
    "\n",
    "Understanding a dataset is part of making predictions on the data.  Play around with the code cell below by changing the `batch_id` and `sample_id`. The `batch_id` is the id for a batch (1-5). The `sample_id` is the id for a image and label pair in the batch.\n",
    "\n",
    "Ask yourself \"What are all possible labels?\", \"What is the range of values for the image data?\", \"Are the labels in order or random?\".  Answers to questions like these will help you preprocess the data and end up with better predictions."
   ]
  },
  {
   "cell_type": "code",
   "execution_count": 3,
   "metadata": {
    "collapsed": false,
    "deletable": true,
    "editable": true
   },
   "outputs": [
    {
     "name": "stdout",
     "output_type": "stream",
     "text": [
      "\n",
      "Stats of batch 1:\n",
      "Samples: 10000\n",
      "Label Counts: {0: 1005, 1: 974, 2: 1032, 3: 1016, 4: 999, 5: 937, 6: 1030, 7: 1001, 8: 1025, 9: 981}\n",
      "First 20 Labels: [6, 9, 9, 4, 1, 1, 2, 7, 8, 3, 4, 7, 7, 2, 9, 9, 9, 3, 2, 6]\n",
      "\n",
      "Example of Image 5:\n",
      "Image - Min Value: 0 Max Value: 252\n",
      "Image - Shape: (32, 32, 3)\n",
      "Label - Label Id: 1 Name: automobile\n"
     ]
    },
    {
     "data": {
      "image/png": "[encoded data removed]",
      "text/plain": [
       "<matplotlib.figure.Figure at 0x7f762baeaef0>"
      ]
     },
     "metadata": {
      "image/png": {
       "height": 250,
       "width": 253
      }
     },
     "output_type": "display_data"
    }
   ],
   "source": [
    "%matplotlib inline\n",
    "%config InlineBackend.figure_format = 'retina'\n",
    "\n",
    "import helper\n",
    "import numpy as np\n",
    "\n",
    "# Explore the dataset\n",
    "batch_id = 1\n",
    "sample_id = 5\n",
    "helper.display_stats(cifar10_dataset_folder_path, batch_id, sample_id)"
   ]
  },
  {
   "cell_type": "markdown",
   "metadata": {
    "deletable": true,
    "editable": true
   },
   "source": [
    "## Implement Preprocess Functions\n",
    "### Normalize\n",
    "In the cell below, implement the `normalize` function to take in image data, `x`, and return it as a normalized Numpy array. The values should be in the range of 0 to 1, inclusive.  The return object should be the same shape as `x`."
   ]
  },
  {
   "cell_type": "code",
   "execution_count": 4,
   "metadata": {
    "collapsed": false,
    "deletable": true,
    "editable": true
   },
   "outputs": [
    {
     "name": "stdout",
     "output_type": "stream",
     "text": [
      "Tests Passed\n"
     ]
    }
   ],
   "source": [
    "def normalize(x):\n",
    "    \"\"\"\n",
    "    Normalize a list of sample image data in the range of 0 to 1\n",
    "    : x: List of image data.  The image shape is (32, 32, 3)\n",
    "    : return: Numpy array of normalize data\n",
    "    \"\"\"\n",
    "    # TODO: Implement Function\n",
    "    # https://discussions.udacity.com/t/normalize-data-using-numpy/224512\n",
    "    # (x - min(x)) / (max(x) - min(x))\n",
    "    # Image - Min Value: 0 Max Value: 252\n",
    "    # (x - 0) / (255 - 0)\n",
    "    return x / 255\n",
    "\n",
    "\"\"\"\n",
    "DON'T MODIFY ANYTHING IN THIS CELL THAT IS BELOW THIS LINE\n",
    "\"\"\"\n",
    "tests.test_normalize(normalize)"
   ]
  },
  {
   "cell_type": "markdown",
   "metadata": {
    "deletable": true,
    "editable": true
   },
   "source": [
    "### One-hot encode\n",
    "Just like the previous code cell, you'll be implementing a function for preprocessing.  This time, you'll implement the `one_hot_encode` function. The input, `x`, are a list of labels.  Implement the function to return the list of labels as One-Hot encoded Numpy array.  The possible values for labels are 0 to 9. The one-hot encoding function should return the same encoding for each value between each call to `one_hot_encode`.  Make sure to save the map of encodings outside the function.\n",
    "\n",
    "Hint: Don't reinvent the wheel."
   ]
  },
  {
   "cell_type": "code",
   "execution_count": 5,
   "metadata": {
    "collapsed": false,
    "deletable": true,
    "editable": true
   },
   "outputs": [
    {
     "name": "stdout",
     "output_type": "stream",
     "text": [
      "Tests Passed\n"
     ]
    }
   ],
   "source": [
    "map_encodings = np.eye(10, dtype=int)\n",
    "def one_hot_encode(x):\n",
    "    \"\"\"\n",
    "    One hot encode a list of sample labels. Return a one-hot encoded vector for each label.\n",
    "    : x: List of sample Labels\n",
    "    : return: Numpy array of one-hot encoded labels\n",
    "    \"\"\"\n",
    "    # TODO: Implement Function\n",
    "    # https://discussions.udacity.com/t/one-hot-encoding-help/224505/4\n",
    "    # https://docs.scipy.org/doc/numpy/reference/generated/numpy.eye.html\n",
    "    return map_encodings[x]\n",
    "\n",
    "\"\"\"\n",
    "DON'T MODIFY ANYTHING IN THIS CELL THAT IS BELOW THIS LINE\n",
    "\"\"\"\n",
    "tests.test_one_hot_encode(one_hot_encode)"
   ]
  },
  {
   "cell_type": "markdown",
   "metadata": {
    "deletable": true,
    "editable": true
   },
   "source": [
    "### Randomize Data\n",
    "As you saw from exploring the data above, the order of the samples are randomized.  It doesn't hurt to randomize it again, but you don't need to for this dataset."
   ]
  },
  {
   "cell_type": "markdown",
   "metadata": {
    "deletable": true,
    "editable": true
   },
   "source": [
    "## Preprocess all the data and save it\n",
    "Running the code cell below will preprocess all the CIFAR-10 data and save it to file. The code below also uses 10% of the training data for validation."
   ]
  },
  {
   "cell_type": "code",
   "execution_count": 6,
   "metadata": {
    "collapsed": false,
    "deletable": true,
    "editable": true
   },
   "outputs": [],
   "source": [
    "\"\"\"\n",
    "DON'T MODIFY ANYTHING IN THIS CELL\n",
    "\"\"\"\n",
    "# Preprocess Training, Validation, and Testing Data\n",
    "helper.preprocess_and_save_data(cifar10_dataset_folder_path, normalize, one_hot_encode)"
   ]
  },
  {
   "cell_type": "markdown",
   "metadata": {
    "deletable": true,
    "editable": true
   },
   "source": [
    "# Check Point\n",
    "This is your first checkpoint.  If you ever decide to come back to this notebook or have to restart the notebook, you can start from here.  The preprocessed data has been saved to disk."
   ]
  },
  {
   "cell_type": "code",
   "execution_count": 7,
   "metadata": {
    "collapsed": false,
    "deletable": true,
    "editable": true
   },
   "outputs": [],
   "source": [
    "\"\"\"\n",
    "DON'T MODIFY ANYTHING IN THIS CELL\n",
    "\"\"\"\n",
    "import pickle\n",
    "import problem_unittests as tests\n",
    "import helper\n",
    "\n",
    "# Load the Preprocessed Validation data\n",
    "valid_features, valid_labels = pickle.load(open('preprocess_validation.p', mode='rb'))"
   ]
  },
  {
   "cell_type": "markdown",
   "metadata": {
    "deletable": true,
    "editable": true
   },
   "source": [
    "## Build the network\n",
    "For the neural network, you'll build each layer into a function.  Most of the code you've seen has been outside of functions. To test your code more thoroughly, we require that you put each layer in a function.  This allows us to give you better feedback and test for simple mistakes using our unittests before you submit your project.\n",
    "\n",
    ">**Note:** If you're finding it hard to dedicate enough time for this course each week, we've provided a small shortcut to this part of the project. In the next couple of problems, you'll have the option to use classes from the [TensorFlow Layers](https://www.tensorflow.org/api_docs/python/tf/layers) or [TensorFlow Layers (contrib)](https://www.tensorflow.org/api_guides/python/contrib.layers) packages to build each layer, except the layers you build in the \"Convolutional and Max Pooling Layer\" section.  TF Layers is similar to Keras's and TFLearn's abstraction to layers, so it's easy to pickup.\n",
    "\n",
    ">However, if you would like to get the most out of this course, try to solve all the problems _without_ using anything from the TF Layers packages. You **can** still use classes from other packages that happen to have the same name as ones you find in TF Layers! For example, instead of using the TF Layers version of the `conv2d` class, [tf.layers.conv2d](https://www.tensorflow.org/api_docs/python/tf/layers/conv2d), you would want to use the TF Neural Network version of `conv2d`, [tf.nn.conv2d](https://www.tensorflow.org/api_docs/python/tf/nn/conv2d). \n",
    "\n",
    "Let's begin!\n",
    "\n",
    "### Input\n",
    "The neural network needs to read the image data, one-hot encoded labels, and dropout keep probability. Implement the following functions\n",
    "* Implement `neural_net_image_input`\n",
    " * Return a [TF Placeholder](https://www.tensorflow.org/api_docs/python/tf/placeholder)\n",
    " * Set the shape using `image_shape` with batch size set to `None`.\n",
    " * Name the TensorFlow placeholder \"x\" using the TensorFlow `name` parameter in the [TF Placeholder](https://www.tensorflow.org/api_docs/python/tf/placeholder).\n",
    "* Implement `neural_net_label_input`\n",
    " * Return a [TF Placeholder](https://www.tensorflow.org/api_docs/python/tf/placeholder)\n",
    " * Set the shape using `n_classes` with batch size set to `None`.\n",
    " * Name the TensorFlow placeholder \"y\" using the TensorFlow `name` parameter in the [TF Placeholder](https://www.tensorflow.org/api_docs/python/tf/placeholder).\n",
    "* Implement `neural_net_keep_prob_input`\n",
    " * Return a [TF Placeholder](https://www.tensorflow.org/api_docs/python/tf/placeholder) for dropout keep probability.\n",
    " * Name the TensorFlow placeholder \"keep_prob\" using the TensorFlow `name` parameter in the [TF Placeholder](https://www.tensorflow.org/api_docs/python/tf/placeholder).\n",
    "\n",
    "These names will be used at the end of the project to load your saved model.\n",
    "\n",
    "Note: `None` for shapes in TensorFlow allow for a dynamic size."
   ]
  },
  {
   "cell_type": "code",
   "execution_count": 8,
   "metadata": {
    "collapsed": false,
    "deletable": true,
    "editable": true
   },
   "outputs": [
    {
     "name": "stdout",
     "output_type": "stream",
     "text": [
      "Image Input Tests Passed.\n",
      "Label Input Tests Passed.\n",
      "Keep Prob Tests Passed.\n"
     ]
    }
   ],
   "source": [
    "import tensorflow as tf\n",
    "\n",
    "def neural_net_image_input(image_shape):\n",
    "    \"\"\"\n",
    "    Return a Tensor for a batch of image input\n",
    "    : image_shape: Shape of the images\n",
    "    : return: Tensor for image input.\n",
    "    \"\"\"\n",
    "    # TODO: Implement Function\n",
    "    # https://discussions.udacity.com/t/help-with-neural-net-image-input/224725/4\n",
    "    # unpack the tuple\n",
    "    # https://codeyarns.com/2012/04/26/unpack-operator-in-python/\n",
    "    return tf.placeholder(tf.float32, [None, *image_shape], \"x\")\n",
    "\n",
    "\n",
    "def neural_net_label_input(n_classes):\n",
    "    \"\"\"\n",
    "    Return a Tensor for a batch of label input\n",
    "    : n_classes: Number of classes\n",
    "    : return: Tensor for label input.\n",
    "    \"\"\"\n",
    "    # TODO: Implement Function\n",
    "    return tf.placeholder(tf.float32, [None, n_classes], \"y\")\n",
    "\n",
    "\n",
    "def neural_net_keep_prob_input():\n",
    "    \"\"\"\n",
    "    Return a Tensor for keep probability\n",
    "    : return: Tensor for keep probability.\n",
    "    \"\"\"\n",
    "    # TODO: Implement Function\n",
    "    return tf.placeholder(tf.float32, name = \"keep_prob\")\n",
    "\n",
    "\n",
    "\"\"\"\n",
    "DON'T MODIFY ANYTHING IN THIS CELL THAT IS BELOW THIS LINE\n",
    "\"\"\"\n",
    "tf.reset_default_graph()\n",
    "tests.test_nn_image_inputs(neural_net_image_input)\n",
    "tests.test_nn_label_inputs(neural_net_label_input)\n",
    "tests.test_nn_keep_prob_inputs(neural_net_keep_prob_input)"
   ]
  },
  {
   "cell_type": "markdown",
   "metadata": {
    "deletable": true,
    "editable": true
   },
   "source": [
    "### Convolution and Max Pooling Layer\n",
    "Convolution layers have a lot of success with images. For this code cell, you should implement the function `conv2d_maxpool` to apply convolution then max pooling:\n",
    "* Create the weight and bias using `conv_ksize`, `conv_num_outputs` and the shape of `x_tensor`.\n",
    "* Apply a convolution to `x_tensor` using weight and `conv_strides`.\n",
    " * We recommend you use same padding, but you're welcome to use any padding.\n",
    "* Add bias\n",
    "* Add a nonlinear activation to the convolution.\n",
    "* Apply Max Pooling using `pool_ksize` and `pool_strides`.\n",
    " * We recommend you use same padding, but you're welcome to use any padding.\n",
    "\n",
    "**Note:** You **can't** use [TensorFlow Layers](https://www.tensorflow.org/api_docs/python/tf/layers) or [TensorFlow Layers (contrib)](https://www.tensorflow.org/api_guides/python/contrib.layers) for **this** layer, but you can still use TensorFlow's [Neural Network](https://www.tensorflow.org/api_docs/python/tf/nn) package. You may still use the shortcut option for all the **other** layers."
   ]
  },
  {
   "cell_type": "code",
   "execution_count": 9,
   "metadata": {
    "collapsed": false,
    "deletable": true,
    "editable": true
   },
   "outputs": [
    {
     "name": "stdout",
     "output_type": "stream",
     "text": [
      "Tests Passed\n"
     ]
    }
   ],
   "source": [
    "def conv2d_maxpool(x_tensor, conv_num_outputs, conv_ksize, conv_strides, pool_ksize, pool_strides):\n",
    "    \"\"\"\n",
    "    Apply convolution then max pooling to x_tensor\n",
    "    :param x_tensor: TensorFlow Tensor\n",
    "    :param conv_num_outputs: Number of outputs for the convolutional layer\n",
    "    :param conv_ksize: kernal size 2-D Tuple for the convolutional layer\n",
    "    :param conv_strides: Stride 2-D Tuple for convolution\n",
    "    :param pool_ksize: kernal size 2-D Tuple for pool\n",
    "    :param pool_strides: Stride 2-D Tuple for pool\n",
    "    : return: A tensor that represents convolution and max pooling of x_tensor\n",
    "    \"\"\"\n",
    "    # TODO: Implement Function\n",
    "    #print(\"x_tensor=\", x_tensor)\n",
    "    #print(\"x_tensor.get_shape()=\", x_tensor.get_shape())\n",
    "    #print(\"x_tensor.get_shape()[3]=\", x_tensor.get_shape()[3])\n",
    "    #print(\"conv_ksize=\", conv_ksize)\n",
    "    #print(\"conv_num_outputs=\", conv_num_outputs)\n",
    "    #print(\"conv_strides=\", conv_strides)\n",
    "    #print(\"pool_ksize=\", pool_ksize)\n",
    "    #print(\"pool_strides=\", pool_strides)\n",
    "    \n",
    "    # Create the weight and bias using conv_ksize, conv_num_outputs and the shape of x_tensor.\n",
    "    # weights: (height, width, input_depth, output_depth)\n",
    "    # Need to convert x_tensor.get_shape()[3] to int, otherwise, will get \"TypeError: Expected binary or unicode string, got 2\"\n",
    "    filter_weights = tf.Variable(tf.truncated_normal([conv_ksize[0], conv_ksize[1], int(x_tensor.get_shape()[3]), conv_num_outputs], stddev=0.05))\n",
    "    #filter_weights = tf.Variable(tf.random_normal([conv_ksize[0], conv_ksize[1], int(x_tensor.get_shape()[3]), conv_num_outputs]))\n",
    "    filter_bias = tf.Variable(tf.zeros(conv_num_outputs))\n",
    "    #filter_bias = tf.Variable(tf.random_normal([conv_num_outputs]))\n",
    "    \n",
    "    # Apply a convolution to x_tensor using weight and conv_strides.\n",
    "    # - We recommend you use same padding, but you're welcome to use any padding.\n",
    "    padding = 'SAME'\n",
    "    conv_layer = tf.nn.conv2d(x_tensor, filter_weights, [1, conv_strides[0], conv_strides[1], 1], padding)\n",
    "    \n",
    "    # Add bias\n",
    "    conv_layer = tf.nn.bias_add(conv_layer, filter_bias)\n",
    "    \n",
    "    # Add a nonlinear activation to the convolution.\n",
    "    conv_layer = tf.nn.relu(conv_layer)\n",
    "    \n",
    "    # Apply Max Pooling using pool_ksize and pool_strides.\n",
    "    # - We recommend you use same padding, but you're welcome to use any padding.\n",
    "    conv_layer = tf.nn.max_pool(\n",
    "                    conv_layer, \n",
    "                    [1, pool_ksize[0], pool_ksize[1], 1],\n",
    "                    [1, pool_strides[0], pool_strides[1], 1],\n",
    "                    padding)\n",
    "    \n",
    "    return conv_layer \n",
    "\n",
    "\n",
    "\"\"\"\n",
    "DON'T MODIFY ANYTHING IN THIS CELL THAT IS BELOW THIS LINE\n",
    "\"\"\"\n",
    "tests.test_con_pool(conv2d_maxpool)"
   ]
  },
  {
   "cell_type": "markdown",
   "metadata": {
    "deletable": true,
    "editable": true
   },
   "source": [
    "### Flatten Layer\n",
    "Implement the `flatten` function to change the dimension of `x_tensor` from a 4-D tensor to a 2-D tensor.  The output should be the shape (*Batch Size*, *Flattened Image Size*). Shortcut option: you can use classes from the [TensorFlow Layers](https://www.tensorflow.org/api_docs/python/tf/layers) or [TensorFlow Layers (contrib)](https://www.tensorflow.org/api_guides/python/contrib.layers) packages for this layer. For more of a challenge, only use other TensorFlow packages."
   ]
  },
  {
   "cell_type": "code",
   "execution_count": 10,
   "metadata": {
    "collapsed": false,
    "deletable": true,
    "editable": true
   },
   "outputs": [
    {
     "name": "stdout",
     "output_type": "stream",
     "text": [
      "Tests Passed\n"
     ]
    }
   ],
   "source": [
    "def flatten(x_tensor):\n",
    "    \"\"\"\n",
    "    Flatten x_tensor to (Batch Size, Flattened Image Size)\n",
    "    : x_tensor: A tensor of size (Batch Size, ...), where ... are the image dimensions.\n",
    "    : return: A tensor of size (Batch Size, Flattened Image Size).\n",
    "    \"\"\"\n",
    "    # TODO: Implement Function\n",
    "    #print(\"x_tensor[0]=\", x_tensor[0])\n",
    "    #print(\"tf.contrib.layers.flatten(x_tensor)=\", tf.contrib.layers.flatten(x_tensor))\n",
    "    #flattened_output = tf.Variable(tf)\n",
    "    return tf.contrib.layers.flatten(x_tensor)\n",
    "\n",
    "\n",
    "\"\"\"\n",
    "DON'T MODIFY ANYTHING IN THIS CELL THAT IS BELOW THIS LINE\n",
    "\"\"\"\n",
    "tests.test_flatten(flatten)"
   ]
  },
  {
   "cell_type": "markdown",
   "metadata": {
    "deletable": true,
    "editable": true
   },
   "source": [
    "### Fully-Connected Layer\n",
    "Implement the `fully_conn` function to apply a fully connected layer to `x_tensor` with the shape (*Batch Size*, *num_outputs*). Shortcut option: you can use classes from the [TensorFlow Layers](https://www.tensorflow.org/api_docs/python/tf/layers) or [TensorFlow Layers (contrib)](https://www.tensorflow.org/api_guides/python/contrib.layers) packages for this layer. For more of a challenge, only use other TensorFlow packages."
   ]
  },
  {
   "cell_type": "code",
   "execution_count": 11,
   "metadata": {
    "collapsed": false,
    "deletable": true,
    "editable": true
   },
   "outputs": [
    {
     "name": "stdout",
     "output_type": "stream",
     "text": [
      "Tests Passed\n"
     ]
    }
   ],
   "source": [
    "def fully_conn(x_tensor, num_outputs):\n",
    "    \"\"\"\n",
    "    Apply a fully connected layer to x_tensor using weight and bias\n",
    "    : x_tensor: A 2-D tensor where the first dimension is batch size.\n",
    "    : num_outputs: The number of output that the new tensor should be.\n",
    "    : return: A 2-D tensor where the second dimension is num_outputs.\n",
    "    \"\"\"\n",
    "    # TODO: Implement Function\n",
    "    #fc1 = tf.reshape(conv2, [-1, weights['wd1'].get_shape().as_list()[0]])\n",
    "    #fc1 = tf.add(tf.matmul(fc1, weights['wd1']), biases['bd1'])\n",
    "    #print([x_tensor.get_shape().as_list()[1]])\n",
    "    #print(tf.matmul(x_tensor, weights).shape)\n",
    "    weights = tf.Variable(tf.truncated_normal([x_tensor.get_shape().as_list()[1], num_outputs], stddev=0.05))\n",
    "    #print(tf.matmul(x_tensor, weights))\n",
    "    #biases = tf.Variable(tf.truncated_normal([num_outputs]))\n",
    "    biases = tf.Variable(tf.zeros(num_outputs))\n",
    "    #print(biases)\n",
    "    #x_tensor = tf.reshape(x_tensor, [-1, weights.get_shape().as_list()[0]])\n",
    "    #return tf.add(tf.matmul(x_tensor, weights), biases)\n",
    "    out = tf.add(tf.matmul(x_tensor, weights), biases)\n",
    "    return tf.nn.relu(out)\n",
    "    #return tf.contrib.layers.fully_connected(x_tensor, num_outputs, tf.nn.relu)\n",
    "    #return tf.contrib.layers.fully_connected(x_tensor, num_outputs, tf.add(tf.matmul(x_tensor, weights), biases))\n",
    "\n",
    "\n",
    "\"\"\"\n",
    "DON'T MODIFY ANYTHING IN THIS CELL THAT IS BELOW THIS LINE\n",
    "\"\"\"\n",
    "tests.test_fully_conn(fully_conn)"
   ]
  },
  {
   "cell_type": "markdown",
   "metadata": {
    "deletable": true,
    "editable": true
   },
   "source": [
    "### Output Layer\n",
    "Implement the `output` function to apply a fully connected layer to `x_tensor` with the shape (*Batch Size*, *num_outputs*). Shortcut option: you can use classes from the [TensorFlow Layers](https://www.tensorflow.org/api_docs/python/tf/layers) or [TensorFlow Layers (contrib)](https://www.tensorflow.org/api_guides/python/contrib.layers) packages for this layer. For more of a challenge, only use other TensorFlow packages.\n",
    "\n",
    "**Note:** Activation, softmax, or cross entropy should **not** be applied to this."
   ]
  },
  {
   "cell_type": "code",
   "execution_count": 12,
   "metadata": {
    "collapsed": false,
    "deletable": true,
    "editable": true
   },
   "outputs": [
    {
     "name": "stdout",
     "output_type": "stream",
     "text": [
      "Tests Passed\n"
     ]
    }
   ],
   "source": [
    "def output(x_tensor, num_outputs):\n",
    "    \"\"\"\n",
    "    Apply a output layer to x_tensor using weight and bias\n",
    "    : x_tensor: A 2-D tensor where the first dimension is batch size.\n",
    "    : num_outputs: The number of output that the new tensor should be.\n",
    "    : return: A 2-D tensor where the second dimension is num_outputs.\n",
    "    \"\"\"\n",
    "    # TODO: Implement Function\n",
    "    # By applying a sigmoid to it, it will convert the data to probabilities for each class\n",
    "    # (from Siraj's Image Classification, at 6:30)\n",
    "    #return tf.contrib.layers.fully_connected(x_tensor, num_outputs, tf.nn.sigmoid)\n",
    "    weights = tf.Variable(tf.truncated_normal([x_tensor.get_shape().as_list()[1], num_outputs], stddev=0.05))\n",
    "    biases = tf.Variable(tf.zeros(num_outputs))\n",
    "    #return tf.add(tf.matmul(x_tensor, weights), biases)\n",
    "    out = tf.add(tf.matmul(x_tensor, weights), biases)\n",
    "    return out\n",
    "\n",
    "\n",
    "\"\"\"\n",
    "DON'T MODIFY ANYTHING IN THIS CELL THAT IS BELOW THIS LINE\n",
    "\"\"\"\n",
    "tests.test_output(output)"
   ]
  },
  {
   "cell_type": "markdown",
   "metadata": {
    "deletable": true,
    "editable": true
   },
   "source": [
    "### Create Convolutional Model\n",
    "Implement the function `conv_net` to create a convolutional neural network model. The function takes in a batch of images, `x`, and outputs logits.  Use the layers you created above to create this model:\n",
    "\n",
    "* Apply 1, 2, or 3 Convolution and Max Pool layers\n",
    "* Apply a Flatten Layer\n",
    "* Apply 1, 2, or 3 Fully Connected Layers\n",
    "* Apply an Output Layer\n",
    "* Return the output\n",
    "* Apply [TensorFlow's Dropout](https://www.tensorflow.org/api_docs/python/tf/nn/dropout) to one or more layers in the model using `keep_prob`. "
   ]
  },
  {
   "cell_type": "code",
   "execution_count": 13,
   "metadata": {
    "collapsed": false,
    "deletable": true,
    "editable": true
   },
   "outputs": [
    {
     "name": "stdout",
     "output_type": "stream",
     "text": [
      "Neural Network Built!\n"
     ]
    }
   ],
   "source": [
    "def conv_net(x, keep_prob):\n",
    "    \"\"\"\n",
    "    Create a convolutional neural network model\n",
    "    : x: Placeholder tensor that holds image data.\n",
    "    : keep_prob: Placeholder tensor that hold dropout keep probability.\n",
    "    : return: Tensor that represents logits\n",
    "    \"\"\"\n",
    "    # TODO: Apply 1, 2, or 3 Convolution and Max Pool layers\n",
    "    #    Play around with different number of outputs, kernel size and stride\n",
    "    # Function Definition from Above:\n",
    "    #    conv2d_maxpool(x_tensor, conv_num_outputs, conv_ksize, conv_strides, pool_ksize, pool_strides)\n",
    "    \n",
    "#     conv_num_outputs1=96\n",
    "#     conv_ksize1=(3,3)\n",
    "#     conv_strides1 = (1,1)\n",
    "#     pool_ksize1 = (2,2)\n",
    "#     pool_strides1 = (2,2)\n",
    "#     conv_layer = conv2d_maxpool(x, conv_num_outputs1, conv_ksize1, conv_strides1, pool_ksize1, pool_strides1)\n",
    "#     conv_layer = tf.nn.dropout(conv_layer, keep_prob)\n",
    "\n",
    "    conv_num_outputs1=32\n",
    "    conv_ksize1=(5,5)\n",
    "    conv_strides1 = (1,1)\n",
    "    pool_ksize1 = (2,2)\n",
    "    pool_strides1 = (2,2)\n",
    "    conv_layer = conv2d_maxpool(x, conv_num_outputs1, conv_ksize1, conv_strides1, pool_ksize1, pool_strides1)\n",
    "    conv_layer = tf.nn.dropout(conv_layer, keep_prob)\n",
    "    \n",
    "    conv_num_outputs2=64\n",
    "    conv_ksize2=(5,5)\n",
    "    conv_strides2 = (1,1)\n",
    "    pool_ksize2 = (2,2)\n",
    "    pool_strides2 = (2,2)\n",
    "    conv_layer = conv2d_maxpool(conv_layer, conv_num_outputs2, conv_ksize2, conv_strides2, pool_ksize2, pool_strides2)\n",
    "\n",
    "#     conv_num_outputs3=128\n",
    "#     conv_ksize3=(5,5)\n",
    "#     conv_strides3 = (2,2)\n",
    "#     pool_ksize3 = (2,2)\n",
    "#     pool_strides3 = (2,2)\n",
    "#     conv_layer = conv2d_maxpool(conv_layer, conv_num_outputs3, conv_ksize3, conv_strides3, pool_ksize3, pool_strides3)\n",
    "\n",
    "#     conv_num_outputs1=32\n",
    "#     conv_ksize1=(3,3)\n",
    "#     conv_strides1 = (1,1)\n",
    "#     pool_ksize1 = (2,2)\n",
    "#     pool_strides1 = (2,2)\n",
    "#     conv_layer = conv2d_maxpool(x, conv_num_outputs1, conv_ksize1, conv_strides1, pool_ksize1, pool_strides1)\n",
    "    \n",
    "#     conv_num_outputs2=64\n",
    "#     conv_ksize2=(3,3)\n",
    "#     conv_strides2 = (1,1)\n",
    "#     pool_ksize2 = (2,2)\n",
    "#     pool_strides2 = (2,2)\n",
    "#     conv_layer = conv2d_maxpool(conv_layer, conv_num_outputs2, conv_ksize2, conv_strides2, pool_ksize2, pool_strides2)\n",
    "\n",
    "#     conv_num_outputs3=128\n",
    "#     conv_ksize3=(2,2)\n",
    "#     conv_strides3 = (2,2)\n",
    "#     pool_ksize3 = (2,2)\n",
    "#     pool_strides3 = (2,2)\n",
    "#     conv_layer = conv2d_maxpool(conv_layer, conv_num_outputs3, conv_ksize3, conv_strides3, pool_ksize3, pool_strides3)\n",
    "\n",
    "    # TODO: Apply a Flatten Layer\n",
    "    # Function Definition from Above:\n",
    "    #   flatten(x_tensor)\n",
    "    flatten_layer = flatten(conv_layer)\n",
    "\n",
    "    # TODO: Apply 1, 2, or 3 Fully Connected Layers\n",
    "    #    Play around with different number of outputs\n",
    "    # Function Definition from Above:\n",
    "    #   fully_conn(x_tensor, num_outputs)\n",
    "    \n",
    "    #fully_conn_num_outputs = 384\n",
    "    fully_conn_num_outputs = 1024\n",
    "    fully_conn_layer = fully_conn(flatten_layer, fully_conn_num_outputs)\n",
    "    fully_conn_layer = tf.nn.dropout(fully_conn_layer, keep_prob)    \n",
    "    \n",
    "#     fully_conn_num_outputs = 1024\n",
    "#     fully_conn_layer = fully_conn(fully_conn_layer, fully_conn_num_outputs)\n",
    "#     fully_conn_layer = tf.nn.dropout(fully_conn_layer, keep_prob)\n",
    "\n",
    "    # TODO: Apply an Output Layer\n",
    "    #    Set this to the number of classes\n",
    "    # Function Definition from Above:\n",
    "    #   output(x_tensor, num_outputs)\n",
    "    num_outputs = 10\n",
    "    output_layer = output(fully_conn_layer, num_outputs)    \n",
    "    \n",
    "    # TODO: return output\n",
    "    return output_layer\n",
    "\n",
    "\n",
    "\"\"\"\n",
    "DON'T MODIFY ANYTHING IN THIS CELL THAT IS BELOW THIS LINE\n",
    "\"\"\"\n",
    "\n",
    "##############################\n",
    "## Build the Neural Network ##\n",
    "##############################\n",
    "\n",
    "# Remove previous weights, bias, inputs, etc..\n",
    "tf.reset_default_graph()\n",
    "\n",
    "# Inputs\n",
    "x = neural_net_image_input((32, 32, 3))\n",
    "y = neural_net_label_input(10)\n",
    "keep_prob = neural_net_keep_prob_input()\n",
    "\n",
    "# Model\n",
    "logits = conv_net(x, keep_prob)\n",
    "\n",
    "# Name logits Tensor, so that is can be loaded from disk after training\n",
    "logits = tf.identity(logits, name='logits')\n",
    "\n",
    "# Loss and Optimizer\n",
    "cost = tf.reduce_mean(tf.nn.softmax_cross_entropy_with_logits(logits=logits, labels=y))\n",
    "optimizer = tf.train.AdamOptimizer().minimize(cost)\n",
    "\n",
    "# Accuracy\n",
    "correct_pred = tf.equal(tf.argmax(logits, 1), tf.argmax(y, 1))\n",
    "accuracy = tf.reduce_mean(tf.cast(correct_pred, tf.float32), name='accuracy')\n",
    "\n",
    "tests.test_conv_net(conv_net)"
   ]
  },
  {
   "cell_type": "markdown",
   "metadata": {
    "deletable": true,
    "editable": true
   },
   "source": [
    "## Train the Neural Network\n",
    "### Single Optimization\n",
    "Implement the function `train_neural_network` to do a single optimization.  The optimization should use `optimizer` to optimize in `session` with a `feed_dict` of the following:\n",
    "* `x` for image input\n",
    "* `y` for labels\n",
    "* `keep_prob` for keep probability for dropout\n",
    "\n",
    "This function will be called for each batch, so `tf.global_variables_initializer()` has already been called.\n",
    "\n",
    "Note: Nothing needs to be returned. This function is only optimizing the neural network."
   ]
  },
  {
   "cell_type": "code",
   "execution_count": 14,
   "metadata": {
    "collapsed": false,
    "deletable": true,
    "editable": true
   },
   "outputs": [
    {
     "name": "stdout",
     "output_type": "stream",
     "text": [
      "Tests Passed\n"
     ]
    }
   ],
   "source": [
    "def train_neural_network(session, optimizer, keep_probability, feature_batch, label_batch):\n",
    "    \"\"\"\n",
    "    Optimize the session on a batch of images and labels\n",
    "    : session: Current TensorFlow session\n",
    "    : optimizer: TensorFlow optimizer function\n",
    "    : keep_probability: keep probability\n",
    "    : feature_batch: Batch of Numpy image data\n",
    "    : label_batch: Batch of Numpy label data\n",
    "    \"\"\"\n",
    "    # TODO: Implement Function\n",
    "    session.run(optimizer, feed_dict={x: feature_batch, y: label_batch, keep_prob: keep_probability})\n",
    "    pass\n",
    "\n",
    "\n",
    "\"\"\"\n",
    "DON'T MODIFY ANYTHING IN THIS CELL THAT IS BELOW THIS LINE\n",
    "\"\"\"\n",
    "tests.test_train_nn(train_neural_network)"
   ]
  },
  {
   "cell_type": "markdown",
   "metadata": {
    "deletable": true,
    "editable": true
   },
   "source": [
    "### Show Stats\n",
    "Implement the function `print_stats` to print loss and validation accuracy.  Use the global variables `valid_features` and `valid_labels` to calculate validation accuracy.  Use a keep probability of `1.0` to calculate the loss and validation accuracy."
   ]
  },
  {
   "cell_type": "code",
   "execution_count": 15,
   "metadata": {
    "collapsed": false,
    "deletable": true,
    "editable": true
   },
   "outputs": [],
   "source": [
    "def print_stats(session, feature_batch, label_batch, cost, accuracy):\n",
    "    \"\"\"\n",
    "    Print information about loss and validation accuracy\n",
    "    : session: Current TensorFlow session\n",
    "    : feature_batch: Batch of Numpy image data\n",
    "    : label_batch: Batch of Numpy label data\n",
    "    : cost: TensorFlow cost function\n",
    "    : accuracy: TensorFlow accuracy function\n",
    "    \"\"\"\n",
    "    # TODO: Implement Function\n",
    "    loss = session.run(cost, feed_dict={x: feature_batch, y: label_batch, keep_prob: 1.})\n",
    "    valid_acc = session.run(accuracy, feed_dict={x: valid_features, y: valid_labels, keep_prob: 1.})\n",
    "    \n",
    "    print('Loss: {:>10.4f} Validation Accuracy: {:.6f}'.format(loss, valid_acc))    \n",
    "    pass"
   ]
  },
  {
   "cell_type": "markdown",
   "metadata": {
    "deletable": true,
    "editable": true
   },
   "source": [
    "### Hyperparameters\n",
    "Tune the following parameters:\n",
    "* Set `epochs` to the number of iterations until the network stops learning or start overfitting\n",
    "* Set `batch_size` to the highest number that your machine has memory for.  Most people set them to common sizes of memory:\n",
    " * 64\n",
    " * 128\n",
    " * 256\n",
    " * ...\n",
    "* Set `keep_probability` to the probability of keeping a node using dropout"
   ]
  },
  {
   "cell_type": "code",
   "execution_count": 16,
   "metadata": {
    "collapsed": true,
    "deletable": true,
    "editable": true
   },
   "outputs": [],
   "source": [
    "# TODO: Tune Parameters\n",
    "#epochs = 20\n",
    "epochs = 30\n",
    "#epochs = 100\n",
    "batch_size = 128\n",
    "#batch_size = 64\n",
    "keep_probability = 0.5\n",
    "#keep_probability = 0.75"
   ]
  },
  {
   "cell_type": "markdown",
   "metadata": {
    "deletable": true,
    "editable": true
   },
   "source": [
    "### Train on a Single CIFAR-10 Batch\n",
    "Instead of training the neural network on all the CIFAR-10 batches of data, let's use a single batch. This should save time while you iterate on the model to get a better accuracy.  Once the final validation accuracy is 50% or greater, run the model on all the data in the next section."
   ]
  },
  {
   "cell_type": "code",
   "execution_count": 17,
   "metadata": {
    "collapsed": false,
    "deletable": true,
    "editable": true
   },
   "outputs": [
    {
     "name": "stdout",
     "output_type": "stream",
     "text": [
      "Checking the Training on a Single Batch...\n",
      "Epoch  1, CIFAR-10 Batch 1:  Loss:     2.1077 Validation Accuracy: 0.271200\n",
      "Epoch  2, CIFAR-10 Batch 1:  Loss:     1.9436 Validation Accuracy: 0.397200\n",
      "Epoch  3, CIFAR-10 Batch 1:  Loss:     1.8156 Validation Accuracy: 0.421800\n",
      "Epoch  4, CIFAR-10 Batch 1:  Loss:     1.6416 Validation Accuracy: 0.473200\n",
      "Epoch  5, CIFAR-10 Batch 1:  Loss:     1.5125 Validation Accuracy: 0.474000\n",
      "Epoch  6, CIFAR-10 Batch 1:  Loss:     1.3847 Validation Accuracy: 0.489000\n",
      "Epoch  7, CIFAR-10 Batch 1:  Loss:     1.2204 Validation Accuracy: 0.514200\n",
      "Epoch  8, CIFAR-10 Batch 1:  Loss:     1.0985 Validation Accuracy: 0.530000\n",
      "Epoch  9, CIFAR-10 Batch 1:  Loss:     0.9444 Validation Accuracy: 0.539400\n",
      "Epoch 10, CIFAR-10 Batch 1:  Loss:     0.8350 Validation Accuracy: 0.550800\n",
      "Epoch 11, CIFAR-10 Batch 1:  Loss:     0.7300 Validation Accuracy: 0.558400\n",
      "Epoch 12, CIFAR-10 Batch 1:  Loss:     0.5995 Validation Accuracy: 0.559400\n",
      "Epoch 13, CIFAR-10 Batch 1:  Loss:     0.5222 Validation Accuracy: 0.577000\n",
      "Epoch 14, CIFAR-10 Batch 1:  Loss:     0.4481 Validation Accuracy: 0.576600\n",
      "Epoch 15, CIFAR-10 Batch 1:  Loss:     0.3106 Validation Accuracy: 0.588800\n",
      "Epoch 16, CIFAR-10 Batch 1:  Loss:     0.2325 Validation Accuracy: 0.593200\n",
      "Epoch 17, CIFAR-10 Batch 1:  Loss:     0.1780 Validation Accuracy: 0.598600\n",
      "Epoch 18, CIFAR-10 Batch 1:  Loss:     0.1348 Validation Accuracy: 0.610200\n",
      "Epoch 19, CIFAR-10 Batch 1:  Loss:     0.1150 Validation Accuracy: 0.604400\n",
      "Epoch 20, CIFAR-10 Batch 1:  Loss:     0.0933 Validation Accuracy: 0.603800\n",
      "Epoch 21, CIFAR-10 Batch 1:  Loss:     0.0727 Validation Accuracy: 0.607800\n",
      "Epoch 22, CIFAR-10 Batch 1:  Loss:     0.0592 Validation Accuracy: 0.604400\n",
      "Epoch 23, CIFAR-10 Batch 1:  Loss:     0.0614 Validation Accuracy: 0.597000\n",
      "Epoch 24, CIFAR-10 Batch 1:  Loss:     0.0472 Validation Accuracy: 0.604600\n",
      "Epoch 25, CIFAR-10 Batch 1:  Loss:     0.0500 Validation Accuracy: 0.598600\n",
      "Epoch 26, CIFAR-10 Batch 1:  Loss:     0.0383 Validation Accuracy: 0.603200\n",
      "Epoch 27, CIFAR-10 Batch 1:  Loss:     0.0515 Validation Accuracy: 0.586800\n",
      "Epoch 28, CIFAR-10 Batch 1:  Loss:     0.0187 Validation Accuracy: 0.601000\n",
      "Epoch 29, CIFAR-10 Batch 1:  Loss:     0.0144 Validation Accuracy: 0.605400\n",
      "Epoch 30, CIFAR-10 Batch 1:  Loss:     0.0115 Validation Accuracy: 0.618400\n"
     ]
    }
   ],
   "source": [
    "\"\"\"\n",
    "DON'T MODIFY ANYTHING IN THIS CELL\n",
    "\"\"\"\n",
    "print('Checking the Training on a Single Batch...')\n",
    "with tf.Session() as sess:\n",
    "    # Initializing the variables\n",
    "    sess.run(tf.global_variables_initializer())\n",
    "    \n",
    "    # Training cycle\n",
    "    for epoch in range(epochs):\n",
    "        batch_i = 1\n",
    "        for batch_features, batch_labels in helper.load_preprocess_training_batch(batch_i, batch_size):\n",
    "            train_neural_network(sess, optimizer, keep_probability, batch_features, batch_labels)\n",
    "        print('Epoch {:>2}, CIFAR-10 Batch {}:  '.format(epoch + 1, batch_i), end='')\n",
    "        print_stats(sess, batch_features, batch_labels, cost, accuracy)"
   ]
  },
  {
   "cell_type": "markdown",
   "metadata": {
    "deletable": true,
    "editable": true
   },
   "source": [
    "### Fully Train the Model\n",
    "Now that you got a good accuracy with a single CIFAR-10 batch, try it with all five batches."
   ]
  },
  {
   "cell_type": "code",
   "execution_count": 18,
   "metadata": {
    "collapsed": false,
    "deletable": true,
    "editable": true
   },
   "outputs": [
    {
     "name": "stdout",
     "output_type": "stream",
     "text": [
      "Training...\n",
      "Epoch  1, CIFAR-10 Batch 1:  Loss:     2.0726 Validation Accuracy: 0.329200\n",
      "Epoch  1, CIFAR-10 Batch 2:  Loss:     1.7128 Validation Accuracy: 0.358000\n",
      "Epoch  1, CIFAR-10 Batch 3:  Loss:     1.4964 Validation Accuracy: 0.450400\n",
      "Epoch  1, CIFAR-10 Batch 4:  Loss:     1.5244 Validation Accuracy: 0.465200\n",
      "Epoch  1, CIFAR-10 Batch 5:  Loss:     1.5269 Validation Accuracy: 0.489600\n",
      "Epoch  2, CIFAR-10 Batch 1:  Loss:     1.5034 Validation Accuracy: 0.527200\n",
      "Epoch  2, CIFAR-10 Batch 2:  Loss:     1.2592 Validation Accuracy: 0.492000\n",
      "Epoch  2, CIFAR-10 Batch 3:  Loss:     1.1899 Validation Accuracy: 0.543200\n",
      "Epoch  2, CIFAR-10 Batch 4:  Loss:     1.2182 Validation Accuracy: 0.565000\n",
      "Epoch  2, CIFAR-10 Batch 5:  Loss:     1.2115 Validation Accuracy: 0.571800\n",
      "Epoch  3, CIFAR-10 Batch 1:  Loss:     1.1803 Validation Accuracy: 0.601600\n",
      "Epoch  3, CIFAR-10 Batch 2:  Loss:     1.0411 Validation Accuracy: 0.591600\n",
      "Epoch  3, CIFAR-10 Batch 3:  Loss:     0.8959 Validation Accuracy: 0.614000\n",
      "Epoch  3, CIFAR-10 Batch 4:  Loss:     1.0049 Validation Accuracy: 0.623000\n",
      "Epoch  3, CIFAR-10 Batch 5:  Loss:     0.8931 Validation Accuracy: 0.637800\n",
      "Epoch  4, CIFAR-10 Batch 1:  Loss:     0.9625 Validation Accuracy: 0.639800\n",
      "Epoch  4, CIFAR-10 Batch 2:  Loss:     0.8269 Validation Accuracy: 0.623800\n",
      "Epoch  4, CIFAR-10 Batch 3:  Loss:     0.7330 Validation Accuracy: 0.634600\n",
      "Epoch  4, CIFAR-10 Batch 4:  Loss:     0.8596 Validation Accuracy: 0.641600\n",
      "Epoch  4, CIFAR-10 Batch 5:  Loss:     0.7502 Validation Accuracy: 0.649400\n",
      "Epoch  5, CIFAR-10 Batch 1:  Loss:     0.7308 Validation Accuracy: 0.667200\n",
      "Epoch  5, CIFAR-10 Batch 2:  Loss:     0.7176 Validation Accuracy: 0.649600\n",
      "Epoch  5, CIFAR-10 Batch 3:  Loss:     0.6429 Validation Accuracy: 0.661000\n",
      "Epoch  5, CIFAR-10 Batch 4:  Loss:     0.6595 Validation Accuracy: 0.651200\n",
      "Epoch  5, CIFAR-10 Batch 5:  Loss:     0.6317 Validation Accuracy: 0.659400\n",
      "Epoch  6, CIFAR-10 Batch 1:  Loss:     0.5784 Validation Accuracy: 0.692600\n",
      "Epoch  6, CIFAR-10 Batch 2:  Loss:     0.5938 Validation Accuracy: 0.685000\n",
      "Epoch  6, CIFAR-10 Batch 3:  Loss:     0.5053 Validation Accuracy: 0.681800\n",
      "Epoch  6, CIFAR-10 Batch 4:  Loss:     0.5542 Validation Accuracy: 0.677400\n",
      "Epoch  6, CIFAR-10 Batch 5:  Loss:     0.4858 Validation Accuracy: 0.655200\n",
      "Epoch  7, CIFAR-10 Batch 1:  Loss:     0.4571 Validation Accuracy: 0.699000\n",
      "Epoch  7, CIFAR-10 Batch 2:  Loss:     0.4689 Validation Accuracy: 0.690400\n",
      "Epoch  7, CIFAR-10 Batch 3:  Loss:     0.3969 Validation Accuracy: 0.688000\n",
      "Epoch  7, CIFAR-10 Batch 4:  Loss:     0.4274 Validation Accuracy: 0.689800\n",
      "Epoch  7, CIFAR-10 Batch 5:  Loss:     0.3879 Validation Accuracy: 0.694200\n",
      "Epoch  8, CIFAR-10 Batch 1:  Loss:     0.3770 Validation Accuracy: 0.706200\n",
      "Epoch  8, CIFAR-10 Batch 2:  Loss:     0.3874 Validation Accuracy: 0.706200\n",
      "Epoch  8, CIFAR-10 Batch 3:  Loss:     0.3329 Validation Accuracy: 0.689600\n",
      "Epoch  8, CIFAR-10 Batch 4:  Loss:     0.3044 Validation Accuracy: 0.713400\n",
      "Epoch  8, CIFAR-10 Batch 5:  Loss:     0.3277 Validation Accuracy: 0.690200\n",
      "Epoch  9, CIFAR-10 Batch 1:  Loss:     0.3102 Validation Accuracy: 0.708400\n",
      "Epoch  9, CIFAR-10 Batch 2:  Loss:     0.3164 Validation Accuracy: 0.710400\n",
      "Epoch  9, CIFAR-10 Batch 3:  Loss:     0.2497 Validation Accuracy: 0.696800\n",
      "Epoch  9, CIFAR-10 Batch 4:  Loss:     0.2459 Validation Accuracy: 0.709200\n",
      "Epoch  9, CIFAR-10 Batch 5:  Loss:     0.2186 Validation Accuracy: 0.706600\n",
      "Epoch 10, CIFAR-10 Batch 1:  Loss:     0.2208 Validation Accuracy: 0.722000\n",
      "Epoch 10, CIFAR-10 Batch 2:  Loss:     0.2335 Validation Accuracy: 0.724000\n",
      "Epoch 10, CIFAR-10 Batch 3:  Loss:     0.2125 Validation Accuracy: 0.708600\n",
      "Epoch 10, CIFAR-10 Batch 4:  Loss:     0.1949 Validation Accuracy: 0.721600\n",
      "Epoch 10, CIFAR-10 Batch 5:  Loss:     0.2369 Validation Accuracy: 0.724000\n",
      "Epoch 11, CIFAR-10 Batch 1:  Loss:     0.1765 Validation Accuracy: 0.720800\n",
      "Epoch 11, CIFAR-10 Batch 2:  Loss:     0.2870 Validation Accuracy: 0.713600\n",
      "Epoch 11, CIFAR-10 Batch 3:  Loss:     0.2188 Validation Accuracy: 0.716200\n",
      "Epoch 11, CIFAR-10 Batch 4:  Loss:     0.1709 Validation Accuracy: 0.710200\n",
      "Epoch 11, CIFAR-10 Batch 5:  Loss:     0.1659 Validation Accuracy: 0.731000\n",
      "Epoch 12, CIFAR-10 Batch 1:  Loss:     0.1313 Validation Accuracy: 0.731200\n",
      "Epoch 12, CIFAR-10 Batch 2:  Loss:     0.1746 Validation Accuracy: 0.714200\n",
      "Epoch 12, CIFAR-10 Batch 3:  Loss:     0.1152 Validation Accuracy: 0.729200\n",
      "Epoch 12, CIFAR-10 Batch 4:  Loss:     0.1183 Validation Accuracy: 0.726800\n",
      "Epoch 12, CIFAR-10 Batch 5:  Loss:     0.1517 Validation Accuracy: 0.718400\n",
      "Epoch 13, CIFAR-10 Batch 1:  Loss:     0.1225 Validation Accuracy: 0.731200\n",
      "Epoch 13, CIFAR-10 Batch 2:  Loss:     0.1244 Validation Accuracy: 0.727800\n",
      "Epoch 13, CIFAR-10 Batch 3:  Loss:     0.0970 Validation Accuracy: 0.725000\n",
      "Epoch 13, CIFAR-10 Batch 4:  Loss:     0.1188 Validation Accuracy: 0.718800\n",
      "Epoch 13, CIFAR-10 Batch 5:  Loss:     0.0795 Validation Accuracy: 0.733400\n",
      "Epoch 14, CIFAR-10 Batch 1:  Loss:     0.0828 Validation Accuracy: 0.732800\n",
      "Epoch 14, CIFAR-10 Batch 2:  Loss:     0.0972 Validation Accuracy: 0.731400\n",
      "Epoch 14, CIFAR-10 Batch 3:  Loss:     0.0753 Validation Accuracy: 0.725200\n",
      "Epoch 14, CIFAR-10 Batch 4:  Loss:     0.0703 Validation Accuracy: 0.727600\n",
      "Epoch 14, CIFAR-10 Batch 5:  Loss:     0.0556 Validation Accuracy: 0.730400\n",
      "Epoch 15, CIFAR-10 Batch 1:  Loss:     0.0644 Validation Accuracy: 0.742600\n",
      "Epoch 15, CIFAR-10 Batch 2:  Loss:     0.0916 Validation Accuracy: 0.723400\n",
      "Epoch 15, CIFAR-10 Batch 3:  Loss:     0.0639 Validation Accuracy: 0.726600\n",
      "Epoch 15, CIFAR-10 Batch 4:  Loss:     0.1115 Validation Accuracy: 0.728800\n",
      "Epoch 15, CIFAR-10 Batch 5:  Loss:     0.0593 Validation Accuracy: 0.735000\n",
      "Epoch 16, CIFAR-10 Batch 1:  Loss:     0.0648 Validation Accuracy: 0.737000\n",
      "Epoch 16, CIFAR-10 Batch 2:  Loss:     0.0609 Validation Accuracy: 0.725000\n",
      "Epoch 16, CIFAR-10 Batch 3:  Loss:     0.0482 Validation Accuracy: 0.731800\n",
      "Epoch 16, CIFAR-10 Batch 4:  Loss:     0.0599 Validation Accuracy: 0.737400\n",
      "Epoch 16, CIFAR-10 Batch 5:  Loss:     0.0682 Validation Accuracy: 0.734600\n",
      "Epoch 17, CIFAR-10 Batch 1:  Loss:     0.0406 Validation Accuracy: 0.737800\n",
      "Epoch 17, CIFAR-10 Batch 2:  Loss:     0.0555 Validation Accuracy: 0.738000\n",
      "Epoch 17, CIFAR-10 Batch 3:  Loss:     0.0525 Validation Accuracy: 0.731400\n",
      "Epoch 17, CIFAR-10 Batch 4:  Loss:     0.0503 Validation Accuracy: 0.731200\n",
      "Epoch 17, CIFAR-10 Batch 5:  Loss:     0.0522 Validation Accuracy: 0.735800\n",
      "Epoch 18, CIFAR-10 Batch 1:  Loss:     0.0378 Validation Accuracy: 0.735000\n",
      "Epoch 18, CIFAR-10 Batch 2:  Loss:     0.0543 Validation Accuracy: 0.735200\n",
      "Epoch 18, CIFAR-10 Batch 3:  Loss:     0.0382 Validation Accuracy: 0.738200\n",
      "Epoch 18, CIFAR-10 Batch 4:  Loss:     0.0717 Validation Accuracy: 0.739600\n",
      "Epoch 18, CIFAR-10 Batch 5:  Loss:     0.0327 Validation Accuracy: 0.741600\n",
      "Epoch 19, CIFAR-10 Batch 1:  Loss:     0.0412 Validation Accuracy: 0.730200\n",
      "Epoch 19, CIFAR-10 Batch 2:  Loss:     0.0463 Validation Accuracy: 0.740400\n",
      "Epoch 19, CIFAR-10 Batch 3:  Loss:     0.0264 Validation Accuracy: 0.733200\n",
      "Epoch 19, CIFAR-10 Batch 4:  Loss:     0.0416 Validation Accuracy: 0.746800\n",
      "Epoch 19, CIFAR-10 Batch 5:  Loss:     0.0375 Validation Accuracy: 0.732400\n",
      "Epoch 20, CIFAR-10 Batch 1:  Loss:     0.0243 Validation Accuracy: 0.742600\n",
      "Epoch 20, CIFAR-10 Batch 2:  Loss:     0.0311 Validation Accuracy: 0.738200\n",
      "Epoch 20, CIFAR-10 Batch 3:  Loss:     0.0256 Validation Accuracy: 0.732200\n",
      "Epoch 20, CIFAR-10 Batch 4:  Loss:     0.0442 Validation Accuracy: 0.735200\n",
      "Epoch 20, CIFAR-10 Batch 5:  Loss:     0.0426 Validation Accuracy: 0.738400\n",
      "Epoch 21, CIFAR-10 Batch 1:  Loss:     0.0158 Validation Accuracy: 0.739200\n",
      "Epoch 21, CIFAR-10 Batch 2:  Loss:     0.0192 Validation Accuracy: 0.730600\n",
      "Epoch 21, CIFAR-10 Batch 3:  Loss:     0.0110 Validation Accuracy: 0.742000\n",
      "Epoch 21, CIFAR-10 Batch 4:  Loss:     0.0278 Validation Accuracy: 0.739800\n",
      "Epoch 21, CIFAR-10 Batch 5:  Loss:     0.0148 Validation Accuracy: 0.740200\n",
      "Epoch 22, CIFAR-10 Batch 1:  Loss:     0.0209 Validation Accuracy: 0.740400\n",
      "Epoch 22, CIFAR-10 Batch 2:  Loss:     0.0189 Validation Accuracy: 0.734600\n",
      "Epoch 22, CIFAR-10 Batch 3:  Loss:     0.0168 Validation Accuracy: 0.752800\n",
      "Epoch 22, CIFAR-10 Batch 4:  Loss:     0.0363 Validation Accuracy: 0.735800\n",
      "Epoch 22, CIFAR-10 Batch 5:  Loss:     0.0135 Validation Accuracy: 0.740600\n",
      "Epoch 23, CIFAR-10 Batch 1:  Loss:     0.0311 Validation Accuracy: 0.736000\n",
      "Epoch 23, CIFAR-10 Batch 2:  Loss:     0.0279 Validation Accuracy: 0.722400\n",
      "Epoch 23, CIFAR-10 Batch 3:  Loss:     0.0190 Validation Accuracy: 0.738600\n",
      "Epoch 23, CIFAR-10 Batch 4:  Loss:     0.0160 Validation Accuracy: 0.739800\n",
      "Epoch 23, CIFAR-10 Batch 5:  Loss:     0.0101 Validation Accuracy: 0.738800\n",
      "Epoch 24, CIFAR-10 Batch 1:  Loss:     0.0456 Validation Accuracy: 0.726200\n",
      "Epoch 24, CIFAR-10 Batch 2:  Loss:     0.0145 Validation Accuracy: 0.743400\n",
      "Epoch 24, CIFAR-10 Batch 3:  Loss:     0.0098 Validation Accuracy: 0.738400\n",
      "Epoch 24, CIFAR-10 Batch 4:  Loss:     0.0205 Validation Accuracy: 0.738200\n",
      "Epoch 24, CIFAR-10 Batch 5:  Loss:     0.0084 Validation Accuracy: 0.742800\n",
      "Epoch 25, CIFAR-10 Batch 1:  Loss:     0.0066 Validation Accuracy: 0.737400\n",
      "Epoch 25, CIFAR-10 Batch 2:  Loss:     0.0090 Validation Accuracy: 0.736600\n",
      "Epoch 25, CIFAR-10 Batch 3:  Loss:     0.0134 Validation Accuracy: 0.742800\n",
      "Epoch 25, CIFAR-10 Batch 4:  Loss:     0.0165 Validation Accuracy: 0.732200\n",
      "Epoch 25, CIFAR-10 Batch 5:  Loss:     0.0050 Validation Accuracy: 0.741600\n",
      "Epoch 26, CIFAR-10 Batch 1:  Loss:     0.0064 Validation Accuracy: 0.728800\n",
      "Epoch 26, CIFAR-10 Batch 2:  Loss:     0.0080 Validation Accuracy: 0.739800\n",
      "Epoch 26, CIFAR-10 Batch 3:  Loss:     0.0077 Validation Accuracy: 0.740800\n",
      "Epoch 26, CIFAR-10 Batch 4:  Loss:     0.0124 Validation Accuracy: 0.735000\n",
      "Epoch 26, CIFAR-10 Batch 5:  Loss:     0.0069 Validation Accuracy: 0.746600\n",
      "Epoch 27, CIFAR-10 Batch 1:  Loss:     0.0040 Validation Accuracy: 0.741200\n",
      "Epoch 27, CIFAR-10 Batch 2:  Loss:     0.0160 Validation Accuracy: 0.727800\n",
      "Epoch 27, CIFAR-10 Batch 3:  Loss:     0.0073 Validation Accuracy: 0.739800\n",
      "Epoch 27, CIFAR-10 Batch 4:  Loss:     0.0142 Validation Accuracy: 0.742000\n",
      "Epoch 27, CIFAR-10 Batch 5:  Loss:     0.0067 Validation Accuracy: 0.735800\n",
      "Epoch 28, CIFAR-10 Batch 1:  Loss:     0.0055 Validation Accuracy: 0.725000\n",
      "Epoch 28, CIFAR-10 Batch 2:  Loss:     0.0070 Validation Accuracy: 0.734600\n",
      "Epoch 28, CIFAR-10 Batch 3:  Loss:     0.0083 Validation Accuracy: 0.741000\n",
      "Epoch 28, CIFAR-10 Batch 4:  Loss:     0.0175 Validation Accuracy: 0.743600\n",
      "Epoch 28, CIFAR-10 Batch 5:  Loss:     0.0062 Validation Accuracy: 0.740200\n",
      "Epoch 29, CIFAR-10 Batch 1:  Loss:     0.0068 Validation Accuracy: 0.731400\n",
      "Epoch 29, CIFAR-10 Batch 2:  Loss:     0.0037 Validation Accuracy: 0.738200\n",
      "Epoch 29, CIFAR-10 Batch 3:  Loss:     0.0107 Validation Accuracy: 0.744200\n",
      "Epoch 29, CIFAR-10 Batch 4:  Loss:     0.0088 Validation Accuracy: 0.731800\n",
      "Epoch 29, CIFAR-10 Batch 5:  Loss:     0.0037 Validation Accuracy: 0.739400\n",
      "Epoch 30, CIFAR-10 Batch 1:  Loss:     0.0057 Validation Accuracy: 0.727800\n",
      "Epoch 30, CIFAR-10 Batch 2:  Loss:     0.0069 Validation Accuracy: 0.734400\n",
      "Epoch 30, CIFAR-10 Batch 3:  Loss:     0.0053 Validation Accuracy: 0.735800\n",
      "Epoch 30, CIFAR-10 Batch 4:  Loss:     0.0113 Validation Accuracy: 0.735800\n",
      "Epoch 30, CIFAR-10 Batch 5:  Loss:     0.0080 Validation Accuracy: 0.735800\n"
     ]
    }
   ],
   "source": [
    "\"\"\"\n",
    "DON'T MODIFY ANYTHING IN THIS CELL\n",
    "\"\"\"\n",
    "save_model_path = './image_classification'\n",
    "\n",
    "print('Training...')\n",
    "with tf.Session() as sess:\n",
    "    # Initializing the variables\n",
    "    sess.run(tf.global_variables_initializer())\n",
    "    \n",
    "    # Training cycle\n",
    "    for epoch in range(epochs):\n",
    "        # Loop over all batches\n",
    "        n_batches = 5\n",
    "        for batch_i in range(1, n_batches + 1):\n",
    "            for batch_features, batch_labels in helper.load_preprocess_training_batch(batch_i, batch_size):\n",
    "                train_neural_network(sess, optimizer, keep_probability, batch_features, batch_labels)\n",
    "            print('Epoch {:>2}, CIFAR-10 Batch {}:  '.format(epoch + 1, batch_i), end='')\n",
    "            print_stats(sess, batch_features, batch_labels, cost, accuracy)\n",
    "            \n",
    "    # Save Model\n",
    "    saver = tf.train.Saver()\n",
    "    save_path = saver.save(sess, save_model_path)"
   ]
  },
  {
   "cell_type": "markdown",
   "metadata": {
    "deletable": true,
    "editable": true
   },
   "source": [
    "# Checkpoint\n",
    "The model has been saved to disk.\n",
    "## Test Model\n",
    "Test your model against the test dataset.  This will be your final accuracy. You should have an accuracy greater than 50%. If you don't, keep tweaking the model architecture and parameters."
   ]
  },
  {
   "cell_type": "code",
   "execution_count": 19,
   "metadata": {
    "collapsed": false,
    "deletable": true,
    "editable": true
   },
   "outputs": [
    {
     "name": "stdout",
     "output_type": "stream",
     "text": [
      "Testing Accuracy: 0.7355617088607594\n",
      "\n"
     ]
    },
    {
     "data": {
      "image/png": "[encoded data removed]",
      "text/plain": [
       "<matplotlib.figure.Figure at 0x7f7680668080>"
      ]
     },
     "metadata": {
      "image/png": {
       "height": 319,
       "width": 355
      }
     },
     "output_type": "display_data"
    }
   ],
   "source": [
    "\"\"\"\n",
    "DON'T MODIFY ANYTHING IN THIS CELL\n",
    "\"\"\"\n",
    "%matplotlib inline\n",
    "%config InlineBackend.figure_format = 'retina'\n",
    "\n",
    "import tensorflow as tf\n",
    "import pickle\n",
    "import helper\n",
    "import random\n",
    "\n",
    "# Set batch size if not already set\n",
    "try:\n",
    "    if batch_size:\n",
    "        pass\n",
    "except NameError:\n",
    "    batch_size = 64\n",
    "\n",
    "save_model_path = './image_classification'\n",
    "n_samples = 4\n",
    "top_n_predictions = 3\n",
    "\n",
    "def test_model():\n",
    "    \"\"\"\n",
    "    Test the saved model against the test dataset\n",
    "    \"\"\"\n",
    "\n",
    "    test_features, test_labels = pickle.load(open('preprocess_training.p', mode='rb'))\n",
    "    loaded_graph = tf.Graph()\n",
    "\n",
    "    with tf.Session(graph=loaded_graph) as sess:\n",
    "        # Load model\n",
    "        loader = tf.train.import_meta_graph(save_model_path + '.meta')\n",
    "        loader.restore(sess, save_model_path)\n",
    "\n",
    "        # Get Tensors from loaded model\n",
    "        loaded_x = loaded_graph.get_tensor_by_name('x:0')\n",
    "        loaded_y = loaded_graph.get_tensor_by_name('y:0')\n",
    "        loaded_keep_prob = loaded_graph.get_tensor_by_name('keep_prob:0')\n",
    "        loaded_logits = loaded_graph.get_tensor_by_name('logits:0')\n",
    "        loaded_acc = loaded_graph.get_tensor_by_name('accuracy:0')\n",
    "        \n",
    "        # Get accuracy in batches for memory limitations\n",
    "        test_batch_acc_total = 0\n",
    "        test_batch_count = 0\n",
    "        \n",
    "        for train_feature_batch, train_label_batch in helper.batch_features_labels(test_features, test_labels, batch_size):\n",
    "            test_batch_acc_total += sess.run(\n",
    "                loaded_acc,\n",
    "                feed_dict={loaded_x: train_feature_batch, loaded_y: train_label_batch, loaded_keep_prob: 1.0})\n",
    "            test_batch_count += 1\n",
    "\n",
    "        print('Testing Accuracy: {}\\n'.format(test_batch_acc_total/test_batch_count))\n",
    "\n",
    "        # Print Random Samples\n",
    "        random_test_features, random_test_labels = tuple(zip(*random.sample(list(zip(test_features, test_labels)), n_samples)))\n",
    "        random_test_predictions = sess.run(\n",
    "            tf.nn.top_k(tf.nn.softmax(loaded_logits), top_n_predictions),\n",
    "            feed_dict={loaded_x: random_test_features, loaded_y: random_test_labels, loaded_keep_prob: 1.0})\n",
    "        helper.display_image_predictions(random_test_features, random_test_labels, random_test_predictions)\n",
    "\n",
    "\n",
    "test_model()"
   ]
  },
  {
   "cell_type": "markdown",
   "metadata": {
    "deletable": true,
    "editable": true
   },
   "source": [
    "## Why 50-80% Accuracy?\n",
    "You might be wondering why you can't get an accuracy any higher. First things first, 50% isn't bad for a simple CNN.  Pure guessing would get you 10% accuracy. However, you might notice people are getting scores [well above 80%](http://rodrigob.github.io/are_we_there_yet/build/classification_datasets_results.html#43494641522d3130).  That's because we haven't taught you all there is to know about neural networks. We still need to cover a few more techniques.\n",
    "## Submitting This Project\n",
    "When submitting this project, make sure to run all the cells before saving the notebook.  Save the notebook file as \"dlnd_image_classification.ipynb\" and save it as a HTML file under \"File\" -> \"Download as\".  Include the \"helper.py\" and \"problem_unittests.py\" files in your submission."
   ]
  }
 ],
 "metadata": {
  "kernelspec": {
   "display_name": "Python 3",
   "language": "python",
   "name": "python3"
  },
  "language_info": {
   "codemirror_mode": {
    "name": "ipython",
    "version": 3
   },
   "file_extension": ".py",
   "mimetype": "text/x-python",
   "name": "python",
   "nbconvert_exporter": "python",
   "pygments_lexer": "ipython3",
   "version": "3.5.2"
  },
  "widgets": {
   "state": {},
   "version": "1.1.2"
  }
 },
 "nbformat": 4,
 "nbformat_minor": 0
}
